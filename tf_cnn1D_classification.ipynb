{
 "cells": [
  {
   "cell_type": "code",
   "execution_count": 1,
   "metadata": {
    "executionInfo": {
     "elapsed": 6763,
     "status": "ok",
     "timestamp": 1650495958850,
     "user": {
      "displayName": "M A Al-Mamun",
      "userId": "03900571816985778333"
     },
     "user_tz": -120
    },
    "id": "JzOldAgFmcrx"
   },
   "outputs": [],
   "source": [
    "import numpy as np\n",
    "import pandas as pd\n",
    "import matplotlib.pyplot as plt\n",
    "import glob\n",
    "from sklearn.metrics import accuracy_score, classification_report, ConfusionMatrixDisplay, confusion_matrix, f1_score, precision_score, recall_score \n",
    "from sklearn.model_selection import train_test_split\n",
    "from sklearn.preprocessing import StandardScaler\n",
    "import tensorflow\n",
    "from tensorflow.keras.layers import Conv1D, Dense, Flatten, MaxPool1D\n",
    "from tensorflow.keras.models import Sequential\n",
    "from tensorflow.keras.utils import to_categorical\n",
    "import time"
   ]
  },
  {
   "cell_type": "code",
   "execution_count": 2,
   "metadata": {},
   "outputs": [],
   "source": [
    "start_time = time.time()"
   ]
  },
  {
   "cell_type": "code",
   "execution_count": 3,
   "metadata": {},
   "outputs": [],
   "source": [
    "tensorflow.random.set_seed(1234)"
   ]
  },
  {
   "cell_type": "code",
   "execution_count": 4,
   "metadata": {
    "executionInfo": {
     "elapsed": 3,
     "status": "ok",
     "timestamp": 1650495961868,
     "user": {
      "displayName": "M A Al-Mamun",
      "userId": "03900571816985778333"
     },
     "user_tz": -120
    },
    "id": "ZO49-MpGmwT7"
   },
   "outputs": [],
   "source": [
    "DATASET_PATH = './dataset/processed_dataset/'\n",
    "TENSORFLOW_SAVED_MODEL_PATH = './tensorflow_saved_models/'\n",
    "IMAGE_PATH = './images/'"
   ]
  },
  {
   "cell_type": "code",
   "execution_count": 5,
   "metadata": {
    "executionInfo": {
     "elapsed": 8924,
     "status": "ok",
     "timestamp": 1650495971829,
     "user": {
      "displayName": "M A Al-Mamun",
      "userId": "03900571816985778333"
     },
     "user_tz": -120
    },
    "id": "IqRYpzqHncvi"
   },
   "outputs": [],
   "source": [
    "datasets = pd.concat([pd.read_csv(file) for file in glob.glob(DATASET_PATH + '*')])"
   ]
  },
  {
   "cell_type": "code",
   "execution_count": 6,
   "metadata": {
    "colab": {
     "base_uri": "https://localhost:8080/",
     "height": 299
    },
    "executionInfo": {
     "elapsed": 266,
     "status": "ok",
     "timestamp": 1650495974149,
     "user": {
      "displayName": "M A Al-Mamun",
      "userId": "03900571816985778333"
     },
     "user_tz": -120
    },
    "id": "Zzkx9mHPnzPO",
    "outputId": "f3beadf1-3096-48bb-c237-0945289d5f40"
   },
   "outputs": [
    {
     "data": {
      "text/html": [
       "<div>\n",
       "<style scoped>\n",
       "    .dataframe tbody tr th:only-of-type {\n",
       "        vertical-align: middle;\n",
       "    }\n",
       "\n",
       "    .dataframe tbody tr th {\n",
       "        vertical-align: top;\n",
       "    }\n",
       "\n",
       "    .dataframe thead th {\n",
       "        text-align: right;\n",
       "    }\n",
       "</style>\n",
       "<table border=\"1\" class=\"dataframe\">\n",
       "  <thead>\n",
       "    <tr style=\"text-align: right;\">\n",
       "      <th></th>\n",
       "      <th>50.0</th>\n",
       "      <th>71.75421209117937</th>\n",
       "      <th>93.50842418235877</th>\n",
       "      <th>115.26263627353815</th>\n",
       "      <th>137.01684836471753</th>\n",
       "      <th>158.7710604558969</th>\n",
       "      <th>180.52527254707638</th>\n",
       "      <th>202.2794846382557</th>\n",
       "      <th>224.0336967294351</th>\n",
       "      <th>245.78790882061452</th>\n",
       "      <th>...</th>\n",
       "      <th>21825.966303270565</th>\n",
       "      <th>21847.720515361747</th>\n",
       "      <th>21869.474727452925</th>\n",
       "      <th>21891.228939544104</th>\n",
       "      <th>21912.983151635282</th>\n",
       "      <th>21934.737363726465</th>\n",
       "      <th>21956.491575817643</th>\n",
       "      <th>21978.245787908818</th>\n",
       "      <th>22000.0</th>\n",
       "      <th>class</th>\n",
       "    </tr>\n",
       "  </thead>\n",
       "  <tbody>\n",
       "    <tr>\n",
       "      <th>0</th>\n",
       "      <td>0.000801</td>\n",
       "      <td>0.001457</td>\n",
       "      <td>0.002129</td>\n",
       "      <td>0.002763</td>\n",
       "      <td>0.003370</td>\n",
       "      <td>0.003945</td>\n",
       "      <td>0.004515</td>\n",
       "      <td>0.005036</td>\n",
       "      <td>0.005538</td>\n",
       "      <td>0.005981</td>\n",
       "      <td>...</td>\n",
       "      <td>0.008532</td>\n",
       "      <td>0.008513</td>\n",
       "      <td>0.008491</td>\n",
       "      <td>0.008484</td>\n",
       "      <td>0.008457</td>\n",
       "      <td>0.008454</td>\n",
       "      <td>0.008432</td>\n",
       "      <td>0.008421</td>\n",
       "      <td>0.008423</td>\n",
       "      <td>nc1_ncn5121_no4</td>\n",
       "    </tr>\n",
       "    <tr>\n",
       "      <th>1</th>\n",
       "      <td>0.000827</td>\n",
       "      <td>0.001476</td>\n",
       "      <td>0.002096</td>\n",
       "      <td>0.002775</td>\n",
       "      <td>0.003362</td>\n",
       "      <td>0.003950</td>\n",
       "      <td>0.004512</td>\n",
       "      <td>0.005057</td>\n",
       "      <td>0.005534</td>\n",
       "      <td>0.005997</td>\n",
       "      <td>...</td>\n",
       "      <td>0.008506</td>\n",
       "      <td>0.008514</td>\n",
       "      <td>0.008490</td>\n",
       "      <td>0.008488</td>\n",
       "      <td>0.008481</td>\n",
       "      <td>0.008448</td>\n",
       "      <td>0.008445</td>\n",
       "      <td>0.008432</td>\n",
       "      <td>0.008418</td>\n",
       "      <td>nc1_ncn5121_no4</td>\n",
       "    </tr>\n",
       "    <tr>\n",
       "      <th>2</th>\n",
       "      <td>0.000770</td>\n",
       "      <td>0.001462</td>\n",
       "      <td>0.002094</td>\n",
       "      <td>0.002737</td>\n",
       "      <td>0.003353</td>\n",
       "      <td>0.003949</td>\n",
       "      <td>0.004500</td>\n",
       "      <td>0.005031</td>\n",
       "      <td>0.005541</td>\n",
       "      <td>0.005990</td>\n",
       "      <td>...</td>\n",
       "      <td>0.008520</td>\n",
       "      <td>0.008506</td>\n",
       "      <td>0.008494</td>\n",
       "      <td>0.008479</td>\n",
       "      <td>0.008482</td>\n",
       "      <td>0.008457</td>\n",
       "      <td>0.008447</td>\n",
       "      <td>0.008437</td>\n",
       "      <td>0.008416</td>\n",
       "      <td>nc1_ncn5121_no4</td>\n",
       "    </tr>\n",
       "    <tr>\n",
       "      <th>3</th>\n",
       "      <td>0.000819</td>\n",
       "      <td>0.001452</td>\n",
       "      <td>0.002100</td>\n",
       "      <td>0.002755</td>\n",
       "      <td>0.003370</td>\n",
       "      <td>0.003962</td>\n",
       "      <td>0.004510</td>\n",
       "      <td>0.005017</td>\n",
       "      <td>0.005528</td>\n",
       "      <td>0.005978</td>\n",
       "      <td>...</td>\n",
       "      <td>0.008524</td>\n",
       "      <td>0.008516</td>\n",
       "      <td>0.008474</td>\n",
       "      <td>0.008483</td>\n",
       "      <td>0.008479</td>\n",
       "      <td>0.008464</td>\n",
       "      <td>0.008442</td>\n",
       "      <td>0.008435</td>\n",
       "      <td>0.008425</td>\n",
       "      <td>nc1_ncn5121_no4</td>\n",
       "    </tr>\n",
       "    <tr>\n",
       "      <th>4</th>\n",
       "      <td>0.000884</td>\n",
       "      <td>0.001472</td>\n",
       "      <td>0.002113</td>\n",
       "      <td>0.002735</td>\n",
       "      <td>0.003354</td>\n",
       "      <td>0.003940</td>\n",
       "      <td>0.004498</td>\n",
       "      <td>0.005016</td>\n",
       "      <td>0.005539</td>\n",
       "      <td>0.005994</td>\n",
       "      <td>...</td>\n",
       "      <td>0.008494</td>\n",
       "      <td>0.008499</td>\n",
       "      <td>0.008505</td>\n",
       "      <td>0.008468</td>\n",
       "      <td>0.008469</td>\n",
       "      <td>0.008445</td>\n",
       "      <td>0.008433</td>\n",
       "      <td>0.008433</td>\n",
       "      <td>0.008388</td>\n",
       "      <td>nc1_ncn5121_no4</td>\n",
       "    </tr>\n",
       "  </tbody>\n",
       "</table>\n",
       "<p>5 rows × 1011 columns</p>\n",
       "</div>"
      ],
      "text/plain": [
       "       50.0  71.75421209117937  93.50842418235877  115.26263627353815  \\\n",
       "0  0.000801           0.001457           0.002129            0.002763   \n",
       "1  0.000827           0.001476           0.002096            0.002775   \n",
       "2  0.000770           0.001462           0.002094            0.002737   \n",
       "3  0.000819           0.001452           0.002100            0.002755   \n",
       "4  0.000884           0.001472           0.002113            0.002735   \n",
       "\n",
       "   137.01684836471753  158.7710604558969  180.52527254707638  \\\n",
       "0            0.003370           0.003945            0.004515   \n",
       "1            0.003362           0.003950            0.004512   \n",
       "2            0.003353           0.003949            0.004500   \n",
       "3            0.003370           0.003962            0.004510   \n",
       "4            0.003354           0.003940            0.004498   \n",
       "\n",
       "   202.2794846382557  224.0336967294351  245.78790882061452  ...  \\\n",
       "0           0.005036           0.005538            0.005981  ...   \n",
       "1           0.005057           0.005534            0.005997  ...   \n",
       "2           0.005031           0.005541            0.005990  ...   \n",
       "3           0.005017           0.005528            0.005978  ...   \n",
       "4           0.005016           0.005539            0.005994  ...   \n",
       "\n",
       "   21825.966303270565  21847.720515361747  21869.474727452925  \\\n",
       "0            0.008532            0.008513            0.008491   \n",
       "1            0.008506            0.008514            0.008490   \n",
       "2            0.008520            0.008506            0.008494   \n",
       "3            0.008524            0.008516            0.008474   \n",
       "4            0.008494            0.008499            0.008505   \n",
       "\n",
       "   21891.228939544104  21912.983151635282  21934.737363726465  \\\n",
       "0            0.008484            0.008457            0.008454   \n",
       "1            0.008488            0.008481            0.008448   \n",
       "2            0.008479            0.008482            0.008457   \n",
       "3            0.008483            0.008479            0.008464   \n",
       "4            0.008468            0.008469            0.008445   \n",
       "\n",
       "   21956.491575817643  21978.245787908818   22000.0            class  \n",
       "0            0.008432            0.008421  0.008423  nc1_ncn5121_no4  \n",
       "1            0.008445            0.008432  0.008418  nc1_ncn5121_no4  \n",
       "2            0.008447            0.008437  0.008416  nc1_ncn5121_no4  \n",
       "3            0.008442            0.008435  0.008425  nc1_ncn5121_no4  \n",
       "4            0.008433            0.008433  0.008388  nc1_ncn5121_no4  \n",
       "\n",
       "[5 rows x 1011 columns]"
      ]
     },
     "execution_count": 6,
     "metadata": {},
     "output_type": "execute_result"
    }
   ],
   "source": [
    "datasets.head()"
   ]
  },
  {
   "cell_type": "code",
   "execution_count": 7,
   "metadata": {
    "executionInfo": {
     "elapsed": 262,
     "status": "ok",
     "timestamp": 1650495976983,
     "user": {
      "displayName": "M A Al-Mamun",
      "userId": "03900571816985778333"
     },
     "user_tz": -120
    },
    "id": "ML8ZIqHmqvt5"
   },
   "outputs": [],
   "source": [
    "X = datasets.iloc[:, 0:1010]\n",
    "y = datasets['class']"
   ]
  },
  {
   "cell_type": "code",
   "execution_count": 8,
   "metadata": {},
   "outputs": [
    {
     "name": "stdout",
     "output_type": "stream",
     "text": [
      "Dataset size: 5000\n"
     ]
    }
   ],
   "source": [
    "print(f'Dataset size: {len(X)}')"
   ]
  },
  {
   "cell_type": "code",
   "execution_count": 9,
   "metadata": {
    "executionInfo": {
     "elapsed": 10,
     "status": "ok",
     "timestamp": 1650495979593,
     "user": {
      "displayName": "M A Al-Mamun",
      "userId": "03900571816985778333"
     },
     "user_tz": -120
    },
    "id": "D7WzcCtvq7mi"
   },
   "outputs": [],
   "source": [
    "X_train, X_test, y_train, y_test = train_test_split(X, y, stratify=y, random_state=42, train_size=0.70)\n",
    "\n",
    "X_train = X_train.to_numpy()\n",
    "X_test = X_test.to_numpy()\n",
    "\n",
    "y_train = list(y_train)\n",
    "y_test = list(y_test)\n",
    "\n",
    "input_shape = X_train.shape"
   ]
  },
  {
   "cell_type": "code",
   "execution_count": 10,
   "metadata": {},
   "outputs": [
    {
     "name": "stdout",
     "output_type": "stream",
     "text": [
      "Training dataset size: 3500\n",
      "Test dataset size: 1500\n"
     ]
    }
   ],
   "source": [
    "print(f'Training dataset size: {len(X_train)}')\n",
    "print(f'Test dataset size: {len(X_test)}')"
   ]
  },
  {
   "cell_type": "code",
   "execution_count": 11,
   "metadata": {
    "executionInfo": {
     "elapsed": 450,
     "status": "ok",
     "timestamp": 1650495982598,
     "user": {
      "displayName": "M A Al-Mamun",
      "userId": "03900571816985778333"
     },
     "user_tz": -120
    },
    "id": "FN5NZsE1_rwn"
   },
   "outputs": [],
   "source": [
    "NUMBER_OF_CLASSES = 10"
   ]
  },
  {
   "cell_type": "code",
   "execution_count": 12,
   "metadata": {
    "executionInfo": {
     "elapsed": 1,
     "status": "ok",
     "timestamp": 1650495984052,
     "user": {
      "displayName": "M A Al-Mamun",
      "userId": "03900571816985778333"
     },
     "user_tz": -120
    },
    "id": "CT6ozqi1Bnl7"
   },
   "outputs": [],
   "source": [
    "class_mapping = {'nc1_ncn5121_no4': 0, 'nc1_ncn5121_no5': 1, 'nc1_switch_sl2': 2, 'nc1_switch_dem': 3, 'nc1_nodevice': 4,\n",
    "                 'nc2_ncn5121_no4': 5, 'nc2_ncn5121_no5': 6, 'nc2_switch_sl2': 7, 'nc2_switch_dem': 8, 'nc2_nodevice': 9,}"
   ]
  },
  {
   "cell_type": "code",
   "execution_count": 13,
   "metadata": {
    "executionInfo": {
     "elapsed": 285,
     "status": "ok",
     "timestamp": 1650495986500,
     "user": {
      "displayName": "M A Al-Mamun",
      "userId": "03900571816985778333"
     },
     "user_tz": -120
    },
    "id": "hFJ-0xzYU8J3"
   },
   "outputs": [],
   "source": [
    "classes = ['nc1_ncn5121_no4', 'nc1_ncn5121_no5', 'nc1_switch_sl2', 'nc1_switch_dem', 'nc1_nodevice', 'nc2_ncn5121_no4', 'nc2_ncn5121_no5', 'nc2_switch_sl2', 'nc2_switch_dem', 'nc2_nodevice']"
   ]
  },
  {
   "cell_type": "code",
   "execution_count": 14,
   "metadata": {
    "executionInfo": {
     "elapsed": 4,
     "status": "ok",
     "timestamp": 1650495987558,
     "user": {
      "displayName": "M A Al-Mamun",
      "userId": "03900571816985778333"
     },
     "user_tz": -120
    },
    "id": "N69knoQoDUXa"
   },
   "outputs": [],
   "source": [
    "y_train = np.array([class_mapping[label] for label in y_train])\n",
    "y_test = np.array([class_mapping[label] for label in y_test])"
   ]
  },
  {
   "cell_type": "code",
   "execution_count": 15,
   "metadata": {
    "executionInfo": {
     "elapsed": 1,
     "status": "ok",
     "timestamp": 1650495988818,
     "user": {
      "displayName": "M A Al-Mamun",
      "userId": "03900571816985778333"
     },
     "user_tz": -120
    },
    "id": "XNhv3DXYE3Se"
   },
   "outputs": [],
   "source": [
    "y_train = to_categorical(y_train, NUMBER_OF_CLASSES).astype('int32')\n",
    "y_test = to_categorical(y_test, NUMBER_OF_CLASSES).astype('int32')"
   ]
  },
  {
   "cell_type": "code",
   "execution_count": 16,
   "metadata": {
    "executionInfo": {
     "elapsed": 247,
     "status": "ok",
     "timestamp": 1650495990172,
     "user": {
      "displayName": "M A Al-Mamun",
      "userId": "03900571816985778333"
     },
     "user_tz": -120
    },
    "id": "os1Enz9-rRQV"
   },
   "outputs": [],
   "source": [
    "sc = StandardScaler()\n",
    "X_train = sc.fit_transform(X_train)\n",
    "X_test = sc.transform(X_test)"
   ]
  },
  {
   "cell_type": "code",
   "execution_count": 17,
   "metadata": {
    "executionInfo": {
     "elapsed": 2,
     "status": "ok",
     "timestamp": 1650495992002,
     "user": {
      "displayName": "M A Al-Mamun",
      "userId": "03900571816985778333"
     },
     "user_tz": -120
    },
    "id": "7WchKKfQrl5R"
   },
   "outputs": [],
   "source": [
    "def CNNClassifier():\n",
    "    model = Sequential()\n",
    "    model.add(Conv1D(filters=16, kernel_size=3, activation='relu', input_shape=(input_shape[1], 1)))\n",
    "    model.add(Conv1D(filters=16, kernel_size=3, activation='relu'))\n",
    "    model.add(MaxPool1D(pool_size=2))\n",
    "    model.add(Flatten())\n",
    "    model.add(Dense(10, input_shape=input_shape, activation='relu'))\n",
    "    model.add(Dense(NUMBER_OF_CLASSES, activation='softmax'))\n",
    "\n",
    "    model.compile(optimizer='adam', loss='categorical_crossentropy', metrics=['accuracy'])\n",
    "        \n",
    "    return model"
   ]
  },
  {
   "cell_type": "code",
   "execution_count": 18,
   "metadata": {
    "colab": {
     "base_uri": "https://localhost:8080/"
    },
    "executionInfo": {
     "elapsed": 5070,
     "status": "ok",
     "timestamp": 1650496000041,
     "user": {
      "displayName": "M A Al-Mamun",
      "userId": "03900571816985778333"
     },
     "user_tz": -120
    },
    "id": "fFvaNjLr2737",
    "outputId": "9bf990d7-52cf-42bc-d8a1-918fbe53f29b"
   },
   "outputs": [
    {
     "name": "stdout",
     "output_type": "stream",
     "text": [
      "Model: \"sequential\"\n",
      "_________________________________________________________________\n",
      "Layer (type)                 Output Shape              Param #   \n",
      "=================================================================\n",
      "conv1d (Conv1D)              (None, 1008, 16)          64        \n",
      "_________________________________________________________________\n",
      "conv1d_1 (Conv1D)            (None, 1006, 16)          784       \n",
      "_________________________________________________________________\n",
      "max_pooling1d (MaxPooling1D) (None, 503, 16)           0         \n",
      "_________________________________________________________________\n",
      "flatten (Flatten)            (None, 8048)              0         \n",
      "_________________________________________________________________\n",
      "dense (Dense)                (None, 10)                80490     \n",
      "_________________________________________________________________\n",
      "dense_1 (Dense)              (None, 10)                110       \n",
      "=================================================================\n",
      "Total params: 81,448\n",
      "Trainable params: 81,448\n",
      "Non-trainable params: 0\n",
      "_________________________________________________________________\n"
     ]
    }
   ],
   "source": [
    "cnn = CNNClassifier()\n",
    "cnn.summary()"
   ]
  },
  {
   "cell_type": "code",
   "execution_count": 19,
   "metadata": {
    "colab": {
     "base_uri": "https://localhost:8080/"
    },
    "executionInfo": {
     "elapsed": 350,
     "status": "ok",
     "timestamp": 1650496004401,
     "user": {
      "displayName": "M A Al-Mamun",
      "userId": "03900571816985778333"
     },
     "user_tz": -120
    },
    "id": "83ib0fBDHQIe",
    "outputId": "70d09c57-17c1-4ec8-fd38-0e8606e6acdb"
   },
   "outputs": [
    {
     "data": {
      "text/plain": [
       "(3500, 1010, 1)"
      ]
     },
     "execution_count": 19,
     "metadata": {},
     "output_type": "execute_result"
    }
   ],
   "source": [
    "X_train_reshaped = np.reshape(X_train, (input_shape[0], input_shape[1], 1))\n",
    "X_train_reshaped.shape"
   ]
  },
  {
   "cell_type": "code",
   "execution_count": 20,
   "metadata": {},
   "outputs": [
    {
     "data": {
      "text/plain": [
       "(1500, 1010, 1)"
      ]
     },
     "execution_count": 20,
     "metadata": {},
     "output_type": "execute_result"
    }
   ],
   "source": [
    "X_test_reshaped = np.reshape(X_test, (X_test.shape[0], X_test.shape[1], 1))\n",
    "X_test_reshaped.shape"
   ]
  },
  {
   "cell_type": "code",
   "execution_count": 21,
   "metadata": {
    "colab": {
     "base_uri": "https://localhost:8080/"
    },
    "executionInfo": {
     "elapsed": 143057,
     "status": "ok",
     "timestamp": 1650496150406,
     "user": {
      "displayName": "M A Al-Mamun",
      "userId": "03900571816985778333"
     },
     "user_tz": -120
    },
    "id": "2osyBbp9O9rM",
    "outputId": "602869f7-1c85-4d58-df77-fced1b37607f"
   },
   "outputs": [
    {
     "name": "stdout",
     "output_type": "stream",
     "text": [
      "Epoch 1/250\n",
      "88/88 - 3s - loss: 1.1465 - accuracy: 0.4993 - val_loss: 0.7005 - val_accuracy: 0.7914\n",
      "Epoch 2/250\n",
      "88/88 - 2s - loss: 0.5961 - accuracy: 0.7793 - val_loss: 0.4508 - val_accuracy: 0.8714\n",
      "Epoch 3/250\n",
      "88/88 - 2s - loss: 0.3271 - accuracy: 0.8839 - val_loss: 0.2200 - val_accuracy: 0.8900\n",
      "Epoch 4/250\n",
      "88/88 - 2s - loss: 0.1967 - accuracy: 0.9096 - val_loss: 0.1746 - val_accuracy: 0.9500\n",
      "Epoch 5/250\n",
      "88/88 - 1s - loss: 0.1641 - accuracy: 0.9364 - val_loss: 0.1377 - val_accuracy: 0.9614\n",
      "Epoch 6/250\n",
      "88/88 - 2s - loss: 0.1176 - accuracy: 0.9589 - val_loss: 0.1180 - val_accuracy: 0.9600\n",
      "Epoch 7/250\n",
      "88/88 - 2s - loss: 0.1049 - accuracy: 0.9675 - val_loss: 0.1077 - val_accuracy: 0.9586\n",
      "Epoch 8/250\n",
      "88/88 - 2s - loss: 0.0950 - accuracy: 0.9657 - val_loss: 0.0962 - val_accuracy: 0.9600\n",
      "Epoch 9/250\n",
      "88/88 - 2s - loss: 0.0900 - accuracy: 0.9679 - val_loss: 0.0842 - val_accuracy: 0.9700\n",
      "Epoch 10/250\n",
      "88/88 - 2s - loss: 0.0693 - accuracy: 0.9757 - val_loss: 0.0719 - val_accuracy: 0.9729\n",
      "Epoch 11/250\n",
      "88/88 - 2s - loss: 0.0682 - accuracy: 0.9771 - val_loss: 0.0648 - val_accuracy: 0.9871\n",
      "Epoch 12/250\n",
      "88/88 - 2s - loss: 0.0660 - accuracy: 0.9761 - val_loss: 0.0985 - val_accuracy: 0.9643\n",
      "Epoch 13/250\n",
      "88/88 - 2s - loss: 0.0639 - accuracy: 0.9789 - val_loss: 0.0474 - val_accuracy: 0.9843\n",
      "Epoch 14/250\n",
      "88/88 - 2s - loss: 0.0400 - accuracy: 0.9896 - val_loss: 0.0457 - val_accuracy: 0.9971\n",
      "Epoch 15/250\n",
      "88/88 - 2s - loss: 0.0382 - accuracy: 0.9914 - val_loss: 0.0351 - val_accuracy: 0.9886\n",
      "Epoch 16/250\n",
      "88/88 - 2s - loss: 0.0453 - accuracy: 0.9854 - val_loss: 0.0328 - val_accuracy: 0.9971\n",
      "Epoch 17/250\n",
      "88/88 - 2s - loss: 0.0329 - accuracy: 0.9893 - val_loss: 0.0302 - val_accuracy: 0.9957\n",
      "Epoch 18/250\n",
      "88/88 - 2s - loss: 0.0198 - accuracy: 0.9971 - val_loss: 0.0195 - val_accuracy: 0.9986\n",
      "Epoch 19/250\n",
      "88/88 - 2s - loss: 0.0233 - accuracy: 0.9957 - val_loss: 0.0156 - val_accuracy: 0.9986\n",
      "Epoch 20/250\n",
      "88/88 - 2s - loss: 0.0137 - accuracy: 0.9989 - val_loss: 0.0174 - val_accuracy: 0.9986\n",
      "Epoch 21/250\n",
      "88/88 - 2s - loss: 0.0134 - accuracy: 0.9989 - val_loss: 0.0257 - val_accuracy: 0.9971\n",
      "Epoch 22/250\n",
      "88/88 - 2s - loss: 0.0113 - accuracy: 0.9979 - val_loss: 0.0095 - val_accuracy: 0.9986\n",
      "Epoch 23/250\n",
      "88/88 - 2s - loss: 0.0073 - accuracy: 0.9996 - val_loss: 0.0212 - val_accuracy: 0.9971\n",
      "Epoch 24/250\n",
      "88/88 - 2s - loss: 0.0076 - accuracy: 0.9989 - val_loss: 0.0089 - val_accuracy: 0.9986\n",
      "Epoch 25/250\n",
      "88/88 - 2s - loss: 0.0113 - accuracy: 0.9982 - val_loss: 0.0052 - val_accuracy: 1.0000\n",
      "Epoch 26/250\n",
      "88/88 - 2s - loss: 0.0080 - accuracy: 0.9993 - val_loss: 0.0117 - val_accuracy: 0.9986\n",
      "Epoch 27/250\n",
      "88/88 - 2s - loss: 0.0157 - accuracy: 0.9961 - val_loss: 0.0085 - val_accuracy: 1.0000\n",
      "Epoch 28/250\n",
      "88/88 - 2s - loss: 0.0073 - accuracy: 0.9996 - val_loss: 0.0067 - val_accuracy: 0.9986\n",
      "Epoch 29/250\n",
      "88/88 - 2s - loss: 0.0054 - accuracy: 0.9993 - val_loss: 0.0074 - val_accuracy: 0.9986\n",
      "Epoch 30/250\n",
      "88/88 - 2s - loss: 0.0042 - accuracy: 0.9996 - val_loss: 0.0122 - val_accuracy: 0.9986\n",
      "Epoch 31/250\n",
      "88/88 - 2s - loss: 0.0103 - accuracy: 0.9971 - val_loss: 0.0088 - val_accuracy: 0.9986\n",
      "Epoch 32/250\n",
      "88/88 - 2s - loss: 0.0083 - accuracy: 0.9986 - val_loss: 0.0081 - val_accuracy: 0.9986\n",
      "Epoch 33/250\n",
      "88/88 - 2s - loss: 0.0069 - accuracy: 0.9993 - val_loss: 0.0029 - val_accuracy: 0.9986\n",
      "Epoch 34/250\n",
      "88/88 - 2s - loss: 0.0015 - accuracy: 1.0000 - val_loss: 0.0061 - val_accuracy: 0.9986\n",
      "Epoch 35/250\n",
      "88/88 - 2s - loss: 0.0042 - accuracy: 0.9989 - val_loss: 0.0043 - val_accuracy: 1.0000\n",
      "Epoch 36/250\n",
      "88/88 - 2s - loss: 0.0071 - accuracy: 0.9993 - val_loss: 0.0179 - val_accuracy: 0.9971\n",
      "Epoch 37/250\n",
      "88/88 - 2s - loss: 0.0059 - accuracy: 0.9986 - val_loss: 0.0033 - val_accuracy: 0.9986\n",
      "Epoch 38/250\n",
      "88/88 - 2s - loss: 0.0013 - accuracy: 1.0000 - val_loss: 0.0056 - val_accuracy: 0.9986\n",
      "Epoch 39/250\n",
      "88/88 - 2s - loss: 0.0023 - accuracy: 0.9993 - val_loss: 0.0031 - val_accuracy: 0.9986\n",
      "Epoch 40/250\n",
      "88/88 - 2s - loss: 0.0057 - accuracy: 0.9989 - val_loss: 0.0060 - val_accuracy: 0.9986\n",
      "Epoch 41/250\n",
      "88/88 - 2s - loss: 0.0166 - accuracy: 0.9954 - val_loss: 0.0133 - val_accuracy: 0.9986\n",
      "Epoch 42/250\n",
      "88/88 - 2s - loss: 0.0460 - accuracy: 0.9843 - val_loss: 0.0054 - val_accuracy: 0.9986\n",
      "Epoch 43/250\n",
      "88/88 - 2s - loss: 0.0025 - accuracy: 1.0000 - val_loss: 0.0041 - val_accuracy: 0.9986\n",
      "Epoch 44/250\n",
      "88/88 - 2s - loss: 0.0017 - accuracy: 1.0000 - val_loss: 0.0064 - val_accuracy: 0.9986\n",
      "Epoch 45/250\n",
      "88/88 - 2s - loss: 0.0014 - accuracy: 1.0000 - val_loss: 0.0017 - val_accuracy: 1.0000\n",
      "Epoch 46/250\n",
      "88/88 - 2s - loss: 0.0020 - accuracy: 0.9993 - val_loss: 0.0071 - val_accuracy: 0.9986\n",
      "Epoch 47/250\n",
      "88/88 - 2s - loss: 0.0022 - accuracy: 0.9993 - val_loss: 0.0024 - val_accuracy: 0.9986\n",
      "Epoch 48/250\n",
      "88/88 - 2s - loss: 7.7976e-04 - accuracy: 1.0000 - val_loss: 0.0016 - val_accuracy: 1.0000\n",
      "Epoch 49/250\n",
      "88/88 - 2s - loss: 0.0024 - accuracy: 0.9993 - val_loss: 0.0010 - val_accuracy: 1.0000\n",
      "Epoch 50/250\n",
      "88/88 - 2s - loss: 6.2287e-04 - accuracy: 1.0000 - val_loss: 0.0011 - val_accuracy: 1.0000\n",
      "Epoch 51/250\n",
      "88/88 - 2s - loss: 5.9048e-04 - accuracy: 1.0000 - val_loss: 0.0017 - val_accuracy: 0.9986\n",
      "Epoch 52/250\n",
      "88/88 - 2s - loss: 0.0020 - accuracy: 0.9993 - val_loss: 0.0028 - val_accuracy: 0.9986\n",
      "Epoch 53/250\n",
      "88/88 - 2s - loss: 0.0048 - accuracy: 0.9993 - val_loss: 0.0034 - val_accuracy: 0.9986\n",
      "Epoch 54/250\n",
      "88/88 - 2s - loss: 7.2291e-04 - accuracy: 1.0000 - val_loss: 0.0021 - val_accuracy: 0.9986\n",
      "Epoch 55/250\n",
      "88/88 - 2s - loss: 0.0010 - accuracy: 1.0000 - val_loss: 0.0035 - val_accuracy: 0.9986\n",
      "Epoch 56/250\n",
      "88/88 - 2s - loss: 4.1687e-04 - accuracy: 1.0000 - val_loss: 0.0015 - val_accuracy: 0.9986\n",
      "Epoch 57/250\n",
      "88/88 - 2s - loss: 8.4967e-04 - accuracy: 1.0000 - val_loss: 0.0016 - val_accuracy: 0.9986\n",
      "Epoch 58/250\n",
      "88/88 - 2s - loss: 3.2071e-04 - accuracy: 1.0000 - val_loss: 0.0012 - val_accuracy: 1.0000\n",
      "Epoch 59/250\n",
      "88/88 - 2s - loss: 4.8711e-04 - accuracy: 1.0000 - val_loss: 0.0103 - val_accuracy: 0.9986\n",
      "Epoch 60/250\n",
      "88/88 - 2s - loss: 0.0049 - accuracy: 0.9989 - val_loss: 0.0105 - val_accuracy: 0.9971\n",
      "Epoch 61/250\n",
      "88/88 - 2s - loss: 0.0087 - accuracy: 0.9975 - val_loss: 0.0017 - val_accuracy: 0.9986\n",
      "Epoch 62/250\n",
      "88/88 - 2s - loss: 5.3387e-04 - accuracy: 1.0000 - val_loss: 0.0012 - val_accuracy: 1.0000\n",
      "Epoch 63/250\n",
      "88/88 - 2s - loss: 4.4734e-04 - accuracy: 1.0000 - val_loss: 0.0012 - val_accuracy: 1.0000\n",
      "Epoch 64/250\n",
      "88/88 - 2s - loss: 5.0322e-04 - accuracy: 1.0000 - val_loss: 0.0011 - val_accuracy: 1.0000\n",
      "Epoch 65/250\n",
      "88/88 - 2s - loss: 3.7243e-04 - accuracy: 1.0000 - val_loss: 9.9369e-04 - val_accuracy: 1.0000\n",
      "Epoch 66/250\n",
      "88/88 - 2s - loss: 3.2928e-04 - accuracy: 1.0000 - val_loss: 7.8859e-04 - val_accuracy: 1.0000\n",
      "Epoch 67/250\n",
      "88/88 - 2s - loss: 2.9472e-04 - accuracy: 1.0000 - val_loss: 0.0012 - val_accuracy: 1.0000\n",
      "Epoch 68/250\n",
      "88/88 - 2s - loss: 2.1275e-04 - accuracy: 1.0000 - val_loss: 3.2522e-04 - val_accuracy: 1.0000\n",
      "Epoch 69/250\n",
      "88/88 - 2s - loss: 2.7142e-04 - accuracy: 1.0000 - val_loss: 2.8368e-04 - val_accuracy: 1.0000\n",
      "Epoch 70/250\n",
      "88/88 - 2s - loss: 2.3527e-04 - accuracy: 1.0000 - val_loss: 4.9528e-04 - val_accuracy: 1.0000\n",
      "Epoch 71/250\n",
      "88/88 - 2s - loss: 1.8156e-04 - accuracy: 1.0000 - val_loss: 6.8697e-04 - val_accuracy: 1.0000\n",
      "Epoch 72/250\n",
      "88/88 - 2s - loss: 2.1742e-04 - accuracy: 1.0000 - val_loss: 0.0023 - val_accuracy: 0.9986\n",
      "Epoch 73/250\n",
      "88/88 - 2s - loss: 1.8732e-04 - accuracy: 1.0000 - val_loss: 4.2475e-04 - val_accuracy: 1.0000\n",
      "Epoch 74/250\n",
      "88/88 - 2s - loss: 1.5709e-04 - accuracy: 1.0000 - val_loss: 0.0016 - val_accuracy: 0.9986\n",
      "Epoch 75/250\n",
      "88/88 - 2s - loss: 1.5343e-04 - accuracy: 1.0000 - val_loss: 2.8555e-04 - val_accuracy: 1.0000\n",
      "Epoch 76/250\n",
      "88/88 - 2s - loss: 1.4259e-04 - accuracy: 1.0000 - val_loss: 8.8483e-04 - val_accuracy: 1.0000\n",
      "Epoch 77/250\n",
      "88/88 - 2s - loss: 1.3166e-04 - accuracy: 1.0000 - val_loss: 2.3257e-04 - val_accuracy: 1.0000\n",
      "Epoch 78/250\n",
      "88/88 - 2s - loss: 1.5467e-04 - accuracy: 1.0000 - val_loss: 3.1792e-04 - val_accuracy: 1.0000\n",
      "Epoch 79/250\n",
      "88/88 - 2s - loss: 1.3680e-04 - accuracy: 1.0000 - val_loss: 5.2110e-04 - val_accuracy: 1.0000\n",
      "Epoch 80/250\n",
      "88/88 - 2s - loss: 1.2787e-04 - accuracy: 1.0000 - val_loss: 3.3273e-04 - val_accuracy: 1.0000\n",
      "Epoch 81/250\n",
      "88/88 - 2s - loss: 1.2930e-04 - accuracy: 1.0000 - val_loss: 2.2903e-04 - val_accuracy: 1.0000\n"
     ]
    },
    {
     "name": "stdout",
     "output_type": "stream",
     "text": [
      "Epoch 82/250\n",
      "88/88 - 2s - loss: 1.0842e-04 - accuracy: 1.0000 - val_loss: 0.0015 - val_accuracy: 0.9986\n",
      "Epoch 83/250\n",
      "88/88 - 2s - loss: 1.0168e-04 - accuracy: 1.0000 - val_loss: 3.3557e-04 - val_accuracy: 1.0000\n",
      "Epoch 84/250\n",
      "88/88 - 2s - loss: 1.3924e-04 - accuracy: 1.0000 - val_loss: 0.0011 - val_accuracy: 1.0000\n",
      "Epoch 85/250\n",
      "88/88 - 2s - loss: 0.1365 - accuracy: 0.9736 - val_loss: 0.1592 - val_accuracy: 0.9071\n",
      "Epoch 86/250\n",
      "88/88 - 2s - loss: 0.0229 - accuracy: 0.9925 - val_loss: 0.0140 - val_accuracy: 0.9986\n",
      "Epoch 87/250\n",
      "88/88 - 2s - loss: 0.0109 - accuracy: 0.9989 - val_loss: 0.0125 - val_accuracy: 0.9971\n",
      "Epoch 88/250\n",
      "88/88 - 2s - loss: 0.0098 - accuracy: 0.9993 - val_loss: 0.0085 - val_accuracy: 1.0000\n",
      "Epoch 89/250\n",
      "88/88 - 2s - loss: 0.0077 - accuracy: 0.9996 - val_loss: 0.0077 - val_accuracy: 0.9986\n",
      "Epoch 90/250\n",
      "88/88 - 2s - loss: 0.0062 - accuracy: 1.0000 - val_loss: 0.0088 - val_accuracy: 0.9986\n",
      "Epoch 91/250\n",
      "88/88 - 2s - loss: 0.0056 - accuracy: 0.9993 - val_loss: 0.0107 - val_accuracy: 0.9957\n",
      "Epoch 92/250\n",
      "88/88 - 2s - loss: 0.0038 - accuracy: 1.0000 - val_loss: 0.0047 - val_accuracy: 1.0000\n",
      "Epoch 93/250\n",
      "88/88 - 2s - loss: 0.0027 - accuracy: 1.0000 - val_loss: 0.0026 - val_accuracy: 1.0000\n",
      "Epoch 94/250\n",
      "88/88 - 2s - loss: 0.0021 - accuracy: 1.0000 - val_loss: 0.0035 - val_accuracy: 1.0000\n",
      "Epoch 95/250\n",
      "88/88 - 2s - loss: 0.0026 - accuracy: 1.0000 - val_loss: 0.0024 - val_accuracy: 1.0000\n",
      "Epoch 96/250\n",
      "88/88 - 2s - loss: 0.0019 - accuracy: 1.0000 - val_loss: 0.0023 - val_accuracy: 1.0000\n",
      "Epoch 97/250\n",
      "88/88 - 2s - loss: 0.0028 - accuracy: 1.0000 - val_loss: 0.0027 - val_accuracy: 1.0000\n",
      "Epoch 98/250\n",
      "88/88 - 2s - loss: 0.0014 - accuracy: 1.0000 - val_loss: 0.0027 - val_accuracy: 1.0000\n",
      "Epoch 99/250\n",
      "88/88 - 2s - loss: 0.0030 - accuracy: 0.9993 - val_loss: 0.0019 - val_accuracy: 1.0000\n",
      "Epoch 100/250\n",
      "88/88 - 2s - loss: 0.0011 - accuracy: 1.0000 - val_loss: 0.0016 - val_accuracy: 1.0000\n",
      "Epoch 101/250\n",
      "88/88 - 2s - loss: 0.0010 - accuracy: 1.0000 - val_loss: 0.0011 - val_accuracy: 1.0000\n",
      "Epoch 102/250\n",
      "88/88 - 2s - loss: 9.8068e-04 - accuracy: 1.0000 - val_loss: 9.1383e-04 - val_accuracy: 1.0000\n",
      "Epoch 103/250\n",
      "88/88 - 2s - loss: 8.0841e-04 - accuracy: 1.0000 - val_loss: 8.4660e-04 - val_accuracy: 1.0000\n",
      "Epoch 104/250\n",
      "88/88 - 2s - loss: 6.1774e-04 - accuracy: 1.0000 - val_loss: 9.4468e-04 - val_accuracy: 1.0000\n",
      "Epoch 105/250\n",
      "88/88 - 2s - loss: 0.0012 - accuracy: 1.0000 - val_loss: 0.0011 - val_accuracy: 1.0000\n",
      "Epoch 106/250\n",
      "88/88 - 2s - loss: 5.5740e-04 - accuracy: 1.0000 - val_loss: 7.4147e-04 - val_accuracy: 1.0000\n",
      "Epoch 107/250\n",
      "88/88 - 2s - loss: 6.9486e-04 - accuracy: 1.0000 - val_loss: 0.0020 - val_accuracy: 1.0000\n",
      "Epoch 108/250\n",
      "88/88 - 2s - loss: 6.6131e-04 - accuracy: 1.0000 - val_loss: 5.7788e-04 - val_accuracy: 1.0000\n",
      "Epoch 109/250\n",
      "88/88 - 2s - loss: 4.5049e-04 - accuracy: 1.0000 - val_loss: 9.2062e-04 - val_accuracy: 1.0000\n",
      "Epoch 110/250\n",
      "88/88 - 2s - loss: 4.7975e-04 - accuracy: 1.0000 - val_loss: 6.2313e-04 - val_accuracy: 1.0000\n",
      "Epoch 111/250\n",
      "88/88 - 2s - loss: 3.5885e-04 - accuracy: 1.0000 - val_loss: 8.8648e-04 - val_accuracy: 1.0000\n",
      "Epoch 112/250\n",
      "88/88 - 2s - loss: 0.0011 - accuracy: 0.9996 - val_loss: 0.0016 - val_accuracy: 1.0000\n",
      "Epoch 113/250\n",
      "88/88 - 2s - loss: 5.8753e-04 - accuracy: 1.0000 - val_loss: 6.2788e-04 - val_accuracy: 1.0000\n",
      "Epoch 114/250\n",
      "88/88 - 2s - loss: 3.3331e-04 - accuracy: 1.0000 - val_loss: 3.7459e-04 - val_accuracy: 1.0000\n",
      "Epoch 115/250\n",
      "88/88 - 2s - loss: 3.0007e-04 - accuracy: 1.0000 - val_loss: 4.4418e-04 - val_accuracy: 1.0000\n",
      "Epoch 116/250\n",
      "88/88 - 2s - loss: 3.3460e-04 - accuracy: 1.0000 - val_loss: 3.5261e-04 - val_accuracy: 1.0000\n",
      "Epoch 117/250\n",
      "88/88 - 2s - loss: 0.0283 - accuracy: 0.9914 - val_loss: 0.0046 - val_accuracy: 0.9986\n",
      "Epoch 118/250\n",
      "88/88 - 2s - loss: 0.0023 - accuracy: 0.9996 - val_loss: 0.0064 - val_accuracy: 0.9986\n",
      "Epoch 119/250\n",
      "88/88 - 2s - loss: 0.0063 - accuracy: 0.9989 - val_loss: 0.0154 - val_accuracy: 0.9986\n",
      "Epoch 120/250\n",
      "88/88 - 2s - loss: 0.0044 - accuracy: 0.9993 - val_loss: 0.0041 - val_accuracy: 0.9986\n",
      "Epoch 121/250\n",
      "88/88 - 2s - loss: 0.0014 - accuracy: 1.0000 - val_loss: 0.0018 - val_accuracy: 1.0000\n",
      "Epoch 122/250\n",
      "88/88 - 2s - loss: 0.0013 - accuracy: 1.0000 - val_loss: 0.0016 - val_accuracy: 1.0000\n",
      "Epoch 123/250\n",
      "88/88 - 2s - loss: 0.0022 - accuracy: 0.9996 - val_loss: 0.0014 - val_accuracy: 1.0000\n",
      "Epoch 124/250\n",
      "88/88 - 2s - loss: 8.0590e-04 - accuracy: 1.0000 - val_loss: 0.0010 - val_accuracy: 1.0000\n",
      "Epoch 125/250\n",
      "88/88 - 2s - loss: 8.4933e-04 - accuracy: 1.0000 - val_loss: 7.8030e-04 - val_accuracy: 1.0000\n",
      "Epoch 126/250\n",
      "88/88 - 2s - loss: 6.2872e-04 - accuracy: 1.0000 - val_loss: 8.7064e-04 - val_accuracy: 1.0000\n",
      "Epoch 127/250\n",
      "88/88 - 2s - loss: 8.1593e-04 - accuracy: 1.0000 - val_loss: 9.0334e-04 - val_accuracy: 1.0000\n",
      "Epoch 128/250\n",
      "88/88 - 2s - loss: 5.1415e-04 - accuracy: 1.0000 - val_loss: 6.6051e-04 - val_accuracy: 1.0000\n",
      "Epoch 129/250\n",
      "88/88 - 2s - loss: 6.2211e-04 - accuracy: 1.0000 - val_loss: 7.3639e-04 - val_accuracy: 1.0000\n",
      "Epoch 130/250\n",
      "88/88 - 2s - loss: 7.1457e-04 - accuracy: 1.0000 - val_loss: 5.8875e-04 - val_accuracy: 1.0000\n",
      "Epoch 131/250\n",
      "88/88 - 2s - loss: 4.7938e-04 - accuracy: 1.0000 - val_loss: 4.2785e-04 - val_accuracy: 1.0000\n",
      "Epoch 132/250\n",
      "88/88 - 2s - loss: 3.1939e-04 - accuracy: 1.0000 - val_loss: 5.7635e-04 - val_accuracy: 1.0000\n",
      "Epoch 133/250\n",
      "88/88 - 2s - loss: 3.0278e-04 - accuracy: 1.0000 - val_loss: 4.5305e-04 - val_accuracy: 1.0000\n",
      "Epoch 134/250\n",
      "88/88 - 2s - loss: 0.0016 - accuracy: 1.0000 - val_loss: 4.9148e-04 - val_accuracy: 1.0000\n",
      "Epoch 135/250\n",
      "88/88 - 2s - loss: 3.2382e-04 - accuracy: 1.0000 - val_loss: 3.4635e-04 - val_accuracy: 1.0000\n",
      "Epoch 136/250\n",
      "88/88 - 2s - loss: 2.2263e-04 - accuracy: 1.0000 - val_loss: 4.2174e-04 - val_accuracy: 1.0000\n",
      "Epoch 137/250\n",
      "88/88 - 2s - loss: 1.9262e-04 - accuracy: 1.0000 - val_loss: 3.3245e-04 - val_accuracy: 1.0000\n",
      "Epoch 138/250\n",
      "88/88 - 2s - loss: 1.9143e-04 - accuracy: 1.0000 - val_loss: 2.4008e-04 - val_accuracy: 1.0000\n",
      "Epoch 139/250\n",
      "88/88 - 2s - loss: 3.1893e-04 - accuracy: 1.0000 - val_loss: 2.6947e-04 - val_accuracy: 1.0000\n",
      "Epoch 140/250\n",
      "88/88 - 2s - loss: 1.5014e-04 - accuracy: 1.0000 - val_loss: 2.0065e-04 - val_accuracy: 1.0000\n",
      "Epoch 141/250\n",
      "88/88 - 2s - loss: 1.8016e-04 - accuracy: 1.0000 - val_loss: 2.4495e-04 - val_accuracy: 1.0000\n",
      "Epoch 142/250\n",
      "88/88 - 2s - loss: 1.3233e-04 - accuracy: 1.0000 - val_loss: 1.8130e-04 - val_accuracy: 1.0000\n",
      "Epoch 143/250\n",
      "88/88 - 2s - loss: 1.3991e-04 - accuracy: 1.0000 - val_loss: 1.8872e-04 - val_accuracy: 1.0000\n",
      "Epoch 144/250\n",
      "88/88 - 2s - loss: 1.1998e-04 - accuracy: 1.0000 - val_loss: 1.5959e-04 - val_accuracy: 1.0000\n",
      "Epoch 145/250\n",
      "88/88 - 2s - loss: 1.1634e-04 - accuracy: 1.0000 - val_loss: 1.8899e-04 - val_accuracy: 1.0000\n",
      "Epoch 146/250\n",
      "88/88 - 2s - loss: 1.3817e-04 - accuracy: 1.0000 - val_loss: 1.4924e-04 - val_accuracy: 1.0000\n",
      "Epoch 147/250\n",
      "88/88 - 2s - loss: 1.0195e-04 - accuracy: 1.0000 - val_loss: 1.6072e-04 - val_accuracy: 1.0000\n",
      "Epoch 148/250\n",
      "88/88 - 2s - loss: 9.0349e-05 - accuracy: 1.0000 - val_loss: 1.2374e-04 - val_accuracy: 1.0000\n",
      "Epoch 149/250\n",
      "88/88 - 2s - loss: 1.3008e-04 - accuracy: 1.0000 - val_loss: 1.2831e-04 - val_accuracy: 1.0000\n",
      "Epoch 150/250\n",
      "88/88 - 2s - loss: 8.7036e-05 - accuracy: 1.0000 - val_loss: 1.4287e-04 - val_accuracy: 1.0000\n",
      "Epoch 151/250\n",
      "88/88 - 2s - loss: 7.7070e-05 - accuracy: 1.0000 - val_loss: 2.1647e-04 - val_accuracy: 1.0000\n",
      "Epoch 152/250\n",
      "88/88 - 2s - loss: 7.8217e-05 - accuracy: 1.0000 - val_loss: 1.5564e-04 - val_accuracy: 1.0000\n",
      "Epoch 153/250\n",
      "88/88 - 2s - loss: 6.8571e-05 - accuracy: 1.0000 - val_loss: 8.4715e-05 - val_accuracy: 1.0000\n",
      "Epoch 154/250\n",
      "88/88 - 2s - loss: 8.7456e-05 - accuracy: 1.0000 - val_loss: 1.4688e-04 - val_accuracy: 1.0000\n",
      "Epoch 155/250\n",
      "88/88 - 2s - loss: 6.5030e-05 - accuracy: 1.0000 - val_loss: 7.7359e-05 - val_accuracy: 1.0000\n",
      "Epoch 156/250\n",
      "88/88 - 2s - loss: 7.8798e-05 - accuracy: 1.0000 - val_loss: 1.6055e-04 - val_accuracy: 1.0000\n",
      "Epoch 157/250\n",
      "88/88 - 2s - loss: 8.2492e-05 - accuracy: 1.0000 - val_loss: 1.5359e-04 - val_accuracy: 1.0000\n",
      "Epoch 158/250\n",
      "88/88 - 2s - loss: 7.1583e-05 - accuracy: 1.0000 - val_loss: 1.1323e-04 - val_accuracy: 1.0000\n",
      "Epoch 159/250\n",
      "88/88 - 2s - loss: 6.9687e-05 - accuracy: 1.0000 - val_loss: 1.1616e-04 - val_accuracy: 1.0000\n"
     ]
    },
    {
     "name": "stdout",
     "output_type": "stream",
     "text": [
      "Epoch 160/250\n",
      "88/88 - 2s - loss: 8.1469e-05 - accuracy: 1.0000 - val_loss: 8.9547e-05 - val_accuracy: 1.0000\n",
      "Epoch 161/250\n",
      "88/88 - 2s - loss: 5.8053e-05 - accuracy: 1.0000 - val_loss: 9.3695e-05 - val_accuracy: 1.0000\n",
      "Epoch 162/250\n",
      "88/88 - 2s - loss: 9.7566e-05 - accuracy: 1.0000 - val_loss: 1.0881e-04 - val_accuracy: 1.0000\n",
      "Epoch 163/250\n",
      "88/88 - 2s - loss: 6.3003e-05 - accuracy: 1.0000 - val_loss: 8.6152e-05 - val_accuracy: 1.0000\n",
      "Epoch 164/250\n",
      "88/88 - 2s - loss: 2.2073e-04 - accuracy: 1.0000 - val_loss: 7.9855e-05 - val_accuracy: 1.0000\n",
      "Epoch 165/250\n",
      "88/88 - 2s - loss: 0.1260 - accuracy: 0.9650 - val_loss: 0.0049 - val_accuracy: 0.9986\n",
      "Epoch 166/250\n",
      "88/88 - 2s - loss: 0.0028 - accuracy: 1.0000 - val_loss: 0.0018 - val_accuracy: 1.0000\n",
      "Epoch 167/250\n",
      "88/88 - 2s - loss: 0.0011 - accuracy: 1.0000 - val_loss: 0.0017 - val_accuracy: 1.0000\n",
      "Epoch 168/250\n",
      "88/88 - 2s - loss: 0.0012 - accuracy: 1.0000 - val_loss: 0.0015 - val_accuracy: 1.0000\n",
      "Epoch 169/250\n",
      "88/88 - 2s - loss: 0.0010 - accuracy: 1.0000 - val_loss: 0.0014 - val_accuracy: 1.0000\n",
      "Epoch 170/250\n",
      "88/88 - 2s - loss: 7.9881e-04 - accuracy: 1.0000 - val_loss: 0.0022 - val_accuracy: 0.9986\n",
      "Epoch 171/250\n",
      "88/88 - 2s - loss: 9.9965e-04 - accuracy: 1.0000 - val_loss: 0.0016 - val_accuracy: 1.0000\n",
      "Epoch 172/250\n",
      "88/88 - 2s - loss: 6.9556e-04 - accuracy: 1.0000 - val_loss: 0.0018 - val_accuracy: 1.0000\n",
      "Epoch 173/250\n",
      "88/88 - 2s - loss: 7.8198e-04 - accuracy: 1.0000 - val_loss: 9.7077e-04 - val_accuracy: 1.0000\n",
      "Epoch 174/250\n",
      "88/88 - 2s - loss: 5.4314e-04 - accuracy: 1.0000 - val_loss: 0.0011 - val_accuracy: 1.0000\n",
      "Epoch 175/250\n",
      "88/88 - 2s - loss: 6.6627e-04 - accuracy: 1.0000 - val_loss: 0.0013 - val_accuracy: 1.0000\n",
      "Epoch 176/250\n",
      "88/88 - 2s - loss: 6.6887e-04 - accuracy: 1.0000 - val_loss: 8.5243e-04 - val_accuracy: 1.0000\n",
      "Epoch 177/250\n",
      "88/88 - 2s - loss: 4.8013e-04 - accuracy: 1.0000 - val_loss: 0.0012 - val_accuracy: 1.0000\n",
      "Epoch 178/250\n",
      "88/88 - 2s - loss: 4.2295e-04 - accuracy: 1.0000 - val_loss: 6.3307e-04 - val_accuracy: 1.0000\n",
      "Epoch 179/250\n",
      "88/88 - 2s - loss: 3.6477e-04 - accuracy: 1.0000 - val_loss: 7.2052e-04 - val_accuracy: 1.0000\n",
      "Epoch 180/250\n",
      "88/88 - 2s - loss: 3.1778e-04 - accuracy: 1.0000 - val_loss: 5.0477e-04 - val_accuracy: 1.0000\n",
      "Epoch 181/250\n",
      "88/88 - 2s - loss: 2.9772e-04 - accuracy: 1.0000 - val_loss: 4.4601e-04 - val_accuracy: 1.0000\n",
      "Epoch 182/250\n",
      "88/88 - 2s - loss: 3.0784e-04 - accuracy: 1.0000 - val_loss: 3.8448e-04 - val_accuracy: 1.0000\n",
      "Epoch 183/250\n",
      "88/88 - 2s - loss: 2.2211e-04 - accuracy: 1.0000 - val_loss: 7.5039e-04 - val_accuracy: 1.0000\n",
      "Epoch 184/250\n",
      "88/88 - 2s - loss: 2.7117e-04 - accuracy: 1.0000 - val_loss: 5.2735e-04 - val_accuracy: 1.0000\n",
      "Epoch 185/250\n",
      "88/88 - 2s - loss: 2.4513e-04 - accuracy: 1.0000 - val_loss: 6.3893e-04 - val_accuracy: 1.0000\n",
      "Epoch 186/250\n",
      "88/88 - 2s - loss: 1.8389e-04 - accuracy: 1.0000 - val_loss: 0.0010 - val_accuracy: 1.0000\n",
      "Epoch 187/250\n",
      "88/88 - 2s - loss: 2.0018e-04 - accuracy: 1.0000 - val_loss: 2.8153e-04 - val_accuracy: 1.0000\n",
      "Epoch 188/250\n",
      "88/88 - 2s - loss: 1.8139e-04 - accuracy: 1.0000 - val_loss: 2.7279e-04 - val_accuracy: 1.0000\n",
      "Epoch 189/250\n",
      "88/88 - 2s - loss: 1.4529e-04 - accuracy: 1.0000 - val_loss: 2.3163e-04 - val_accuracy: 1.0000\n",
      "Epoch 190/250\n",
      "88/88 - 2s - loss: 1.3433e-04 - accuracy: 1.0000 - val_loss: 2.3984e-04 - val_accuracy: 1.0000\n",
      "Epoch 191/250\n",
      "88/88 - 2s - loss: 1.3784e-04 - accuracy: 1.0000 - val_loss: 2.1546e-04 - val_accuracy: 1.0000\n",
      "Epoch 192/250\n",
      "88/88 - 2s - loss: 1.4318e-04 - accuracy: 1.0000 - val_loss: 3.1158e-04 - val_accuracy: 1.0000\n",
      "Epoch 193/250\n",
      "88/88 - 2s - loss: 1.2435e-04 - accuracy: 1.0000 - val_loss: 1.7417e-04 - val_accuracy: 1.0000\n",
      "Epoch 194/250\n",
      "88/88 - 2s - loss: 1.5710e-04 - accuracy: 1.0000 - val_loss: 1.6560e-04 - val_accuracy: 1.0000\n",
      "Epoch 195/250\n",
      "88/88 - 2s - loss: 1.0422e-04 - accuracy: 1.0000 - val_loss: 1.6313e-04 - val_accuracy: 1.0000\n",
      "Epoch 196/250\n",
      "88/88 - 2s - loss: 9.2686e-05 - accuracy: 1.0000 - val_loss: 2.1367e-04 - val_accuracy: 1.0000\n",
      "Epoch 197/250\n",
      "88/88 - 2s - loss: 8.7056e-05 - accuracy: 1.0000 - val_loss: 1.8182e-04 - val_accuracy: 1.0000\n",
      "Epoch 198/250\n",
      "88/88 - 2s - loss: 7.8976e-05 - accuracy: 1.0000 - val_loss: 1.5072e-04 - val_accuracy: 1.0000\n",
      "Epoch 199/250\n",
      "88/88 - 2s - loss: 7.7240e-05 - accuracy: 1.0000 - val_loss: 1.3838e-04 - val_accuracy: 1.0000\n",
      "Epoch 200/250\n",
      "88/88 - 2s - loss: 7.5842e-05 - accuracy: 1.0000 - val_loss: 1.7057e-04 - val_accuracy: 1.0000\n",
      "Epoch 201/250\n",
      "88/88 - 2s - loss: 7.0855e-05 - accuracy: 1.0000 - val_loss: 1.6427e-04 - val_accuracy: 1.0000\n",
      "Epoch 202/250\n",
      "88/88 - 2s - loss: 8.0611e-05 - accuracy: 1.0000 - val_loss: 1.7236e-04 - val_accuracy: 1.0000\n",
      "Epoch 203/250\n",
      "88/88 - 2s - loss: 5.6650e-05 - accuracy: 1.0000 - val_loss: 1.4556e-04 - val_accuracy: 1.0000\n",
      "Epoch 204/250\n",
      "88/88 - 2s - loss: 6.0999e-05 - accuracy: 1.0000 - val_loss: 1.2107e-04 - val_accuracy: 1.0000\n",
      "Epoch 205/250\n",
      "88/88 - 2s - loss: 7.3790e-05 - accuracy: 1.0000 - val_loss: 9.7732e-05 - val_accuracy: 1.0000\n",
      "Epoch 206/250\n",
      "88/88 - 2s - loss: 4.8312e-05 - accuracy: 1.0000 - val_loss: 1.0957e-04 - val_accuracy: 1.0000\n",
      "Epoch 207/250\n",
      "88/88 - 2s - loss: 5.1781e-05 - accuracy: 1.0000 - val_loss: 9.1134e-05 - val_accuracy: 1.0000\n",
      "Epoch 208/250\n",
      "88/88 - 2s - loss: 5.4118e-05 - accuracy: 1.0000 - val_loss: 1.1229e-04 - val_accuracy: 1.0000\n",
      "Epoch 209/250\n",
      "88/88 - 2s - loss: 5.6893e-05 - accuracy: 1.0000 - val_loss: 8.6450e-05 - val_accuracy: 1.0000\n",
      "Epoch 210/250\n",
      "88/88 - 2s - loss: 7.7023e-05 - accuracy: 1.0000 - val_loss: 7.7933e-05 - val_accuracy: 1.0000\n",
      "Epoch 211/250\n",
      "88/88 - 2s - loss: 9.4171e-05 - accuracy: 1.0000 - val_loss: 7.0083e-05 - val_accuracy: 1.0000\n",
      "Epoch 212/250\n",
      "88/88 - 2s - loss: 5.0686e-05 - accuracy: 1.0000 - val_loss: 9.6350e-05 - val_accuracy: 1.0000\n",
      "Epoch 213/250\n",
      "88/88 - 2s - loss: 5.0464e-05 - accuracy: 1.0000 - val_loss: 9.9608e-05 - val_accuracy: 1.0000\n",
      "Epoch 214/250\n",
      "88/88 - 2s - loss: 5.0506e-05 - accuracy: 1.0000 - val_loss: 9.7541e-05 - val_accuracy: 1.0000\n",
      "Epoch 215/250\n",
      "88/88 - 2s - loss: 3.4757e-05 - accuracy: 1.0000 - val_loss: 8.1449e-05 - val_accuracy: 1.0000\n",
      "Epoch 216/250\n",
      "88/88 - 2s - loss: 3.0572e-05 - accuracy: 1.0000 - val_loss: 7.6600e-05 - val_accuracy: 1.0000\n",
      "Epoch 217/250\n",
      "88/88 - 2s - loss: 3.2681e-05 - accuracy: 1.0000 - val_loss: 6.1837e-05 - val_accuracy: 1.0000\n",
      "Epoch 218/250\n",
      "88/88 - 2s - loss: 3.0368e-05 - accuracy: 1.0000 - val_loss: 7.2928e-05 - val_accuracy: 1.0000\n",
      "Epoch 219/250\n",
      "88/88 - 2s - loss: 3.0897e-05 - accuracy: 1.0000 - val_loss: 7.2999e-05 - val_accuracy: 1.0000\n",
      "Epoch 220/250\n",
      "88/88 - 2s - loss: 3.0059e-05 - accuracy: 1.0000 - val_loss: 6.3917e-05 - val_accuracy: 1.0000\n",
      "Epoch 221/250\n",
      "88/88 - 2s - loss: 3.0345e-05 - accuracy: 1.0000 - val_loss: 6.6679e-05 - val_accuracy: 1.0000\n",
      "Epoch 222/250\n",
      "88/88 - 2s - loss: 5.0713e-05 - accuracy: 1.0000 - val_loss: 7.4878e-05 - val_accuracy: 1.0000\n",
      "Epoch 223/250\n",
      "88/88 - 2s - loss: 4.0304e-05 - accuracy: 1.0000 - val_loss: 5.6390e-04 - val_accuracy: 1.0000\n",
      "Epoch 224/250\n",
      "88/88 - 2s - loss: 5.2780e-05 - accuracy: 1.0000 - val_loss: 8.1024e-05 - val_accuracy: 1.0000\n",
      "Epoch 225/250\n",
      "88/88 - 2s - loss: 2.6890e-05 - accuracy: 1.0000 - val_loss: 5.5486e-05 - val_accuracy: 1.0000\n",
      "Epoch 226/250\n",
      "88/88 - 2s - loss: 2.7206e-05 - accuracy: 1.0000 - val_loss: 1.0905e-04 - val_accuracy: 1.0000\n",
      "Epoch 227/250\n",
      "88/88 - 2s - loss: 2.8177e-05 - accuracy: 1.0000 - val_loss: 1.0017e-04 - val_accuracy: 1.0000\n",
      "Epoch 228/250\n",
      "88/88 - 2s - loss: 2.1807e-05 - accuracy: 1.0000 - val_loss: 8.0600e-05 - val_accuracy: 1.0000\n",
      "Epoch 229/250\n",
      "88/88 - 2s - loss: 2.3577e-05 - accuracy: 1.0000 - val_loss: 4.1949e-05 - val_accuracy: 1.0000\n",
      "Epoch 230/250\n",
      "88/88 - 2s - loss: 2.3651e-05 - accuracy: 1.0000 - val_loss: 5.5591e-05 - val_accuracy: 1.0000\n",
      "Epoch 231/250\n",
      "88/88 - 2s - loss: 2.2172e-05 - accuracy: 1.0000 - val_loss: 4.0314e-05 - val_accuracy: 1.0000\n",
      "Epoch 232/250\n",
      "88/88 - 2s - loss: 2.6846e-05 - accuracy: 1.0000 - val_loss: 5.2238e-05 - val_accuracy: 1.0000\n",
      "Epoch 233/250\n",
      "88/88 - 2s - loss: 2.4792e-05 - accuracy: 1.0000 - val_loss: 3.0542e-05 - val_accuracy: 1.0000\n",
      "Epoch 234/250\n",
      "88/88 - 2s - loss: 2.7608e-05 - accuracy: 1.0000 - val_loss: 7.6839e-05 - val_accuracy: 1.0000\n",
      "Epoch 235/250\n",
      "88/88 - 2s - loss: 0.0368 - accuracy: 0.9875 - val_loss: 0.0101 - val_accuracy: 0.9943\n"
     ]
    },
    {
     "name": "stdout",
     "output_type": "stream",
     "text": [
      "Epoch 236/250\n",
      "88/88 - 2s - loss: 0.0081 - accuracy: 0.9996 - val_loss: 0.0208 - val_accuracy: 0.9957\n",
      "Epoch 237/250\n",
      "88/88 - 2s - loss: 0.0069 - accuracy: 0.9979 - val_loss: 0.0217 - val_accuracy: 0.9971\n",
      "Epoch 238/250\n",
      "88/88 - 2s - loss: 0.0039 - accuracy: 0.9989 - val_loss: 0.0054 - val_accuracy: 0.9971\n",
      "Epoch 239/250\n",
      "88/88 - 2s - loss: 0.0049 - accuracy: 0.9996 - val_loss: 0.0028 - val_accuracy: 0.9986\n",
      "Epoch 240/250\n",
      "88/88 - 2s - loss: 0.0011 - accuracy: 1.0000 - val_loss: 0.0030 - val_accuracy: 0.9986\n",
      "Epoch 241/250\n",
      "88/88 - 2s - loss: 8.2077e-04 - accuracy: 1.0000 - val_loss: 0.0057 - val_accuracy: 0.9986\n",
      "Epoch 242/250\n",
      "88/88 - 2s - loss: 5.0999e-04 - accuracy: 1.0000 - val_loss: 0.0021 - val_accuracy: 0.9986\n",
      "Epoch 243/250\n",
      "88/88 - 2s - loss: 7.2562e-04 - accuracy: 1.0000 - val_loss: 0.0132 - val_accuracy: 0.9986\n",
      "Epoch 244/250\n",
      "88/88 - 2s - loss: 0.0193 - accuracy: 0.9961 - val_loss: 0.0126 - val_accuracy: 0.9971\n",
      "Epoch 245/250\n",
      "88/88 - 2s - loss: 0.0031 - accuracy: 0.9993 - val_loss: 0.0011 - val_accuracy: 1.0000\n",
      "Epoch 246/250\n",
      "88/88 - 2s - loss: 6.0179e-04 - accuracy: 1.0000 - val_loss: 0.0010 - val_accuracy: 1.0000\n",
      "Epoch 247/250\n",
      "88/88 - 2s - loss: 6.1474e-04 - accuracy: 1.0000 - val_loss: 0.0013 - val_accuracy: 1.0000\n",
      "Epoch 248/250\n",
      "88/88 - 2s - loss: 4.0539e-04 - accuracy: 1.0000 - val_loss: 0.0015 - val_accuracy: 1.0000\n",
      "Epoch 249/250\n",
      "88/88 - 2s - loss: 2.7979e-04 - accuracy: 1.0000 - val_loss: 6.7231e-04 - val_accuracy: 1.0000\n",
      "Epoch 250/250\n",
      "88/88 - 2s - loss: 2.8139e-04 - accuracy: 1.0000 - val_loss: 0.0021 - val_accuracy: 0.9986\n"
     ]
    }
   ],
   "source": [
    "history_cnn = cnn.fit(X_train_reshaped, y_train, epochs=250, verbose=2, validation_split=0.2)"
   ]
  },
  {
   "cell_type": "code",
   "execution_count": 22,
   "metadata": {
    "executionInfo": {
     "elapsed": 10,
     "status": "ok",
     "timestamp": 1650496219912,
     "user": {
      "displayName": "M A Al-Mamun",
      "userId": "03900571816985778333"
     },
     "user_tz": -120
    },
    "id": "wYupNwjzl8oW"
   },
   "outputs": [],
   "source": [
    " def get_report(model):\n",
    "    pred = model.predict(X_test_reshaped)\n",
    "    predictions = (pred > 0.5).astype(\"int32\")\n",
    "    print(classification_report(y_test, predictions, target_names=classes))\n",
    "    accuracy = accuracy_score(y_test, predictions)\n",
    "    precision = precision_score(y_test, predictions,  average='macro')\n",
    "    recall = recall_score(y_test, predictions, average='macro')\n",
    "    f1 = f1_score(y_test, predictions, average='macro')\n",
    "    \n",
    "    return accuracy, precision, recall, f1, predictions"
   ]
  },
  {
   "cell_type": "code",
   "execution_count": 23,
   "metadata": {
    "colab": {
     "base_uri": "https://localhost:8080/"
    },
    "executionInfo": {
     "elapsed": 626,
     "status": "ok",
     "timestamp": 1650496222852,
     "user": {
      "displayName": "M A Al-Mamun",
      "userId": "03900571816985778333"
     },
     "user_tz": -120
    },
    "id": "7itf__-vuGJc",
    "outputId": "4ba7dbf9-31b1-4609-ab4c-c135f4c6720f"
   },
   "outputs": [
    {
     "name": "stdout",
     "output_type": "stream",
     "text": [
      "                 precision    recall  f1-score   support\n",
      "\n",
      "nc1_ncn5121_no4       1.00      1.00      1.00       150\n",
      "nc1_ncn5121_no5       1.00      1.00      1.00       150\n",
      " nc1_switch_sl2       1.00      1.00      1.00       150\n",
      " nc1_switch_dem       1.00      1.00      1.00       150\n",
      "   nc1_nodevice       1.00      1.00      1.00       150\n",
      "nc2_ncn5121_no4       1.00      1.00      1.00       150\n",
      "nc2_ncn5121_no5       1.00      1.00      1.00       150\n",
      " nc2_switch_sl2       0.99      1.00      1.00       150\n",
      " nc2_switch_dem       1.00      0.99      1.00       150\n",
      "   nc2_nodevice       1.00      1.00      1.00       150\n",
      "\n",
      "      micro avg       1.00      1.00      1.00      1500\n",
      "      macro avg       1.00      1.00      1.00      1500\n",
      "   weighted avg       1.00      1.00      1.00      1500\n",
      "    samples avg       1.00      1.00      1.00      1500\n",
      "\n",
      "Accuracy: 0.9993333333333333\n",
      "Precision: 0.9993377483443708\n",
      "Recall: 0.9993333333333334\n",
      "F1-Score: 0.9993333259258437\n"
     ]
    }
   ],
   "source": [
    "cnn_score = get_report(cnn)\n",
    "predictions = cnn_score[4]\n",
    "print(f'Accuracy: {cnn_score[0]}')\n",
    "print(f'Precision: {cnn_score[1]}')\n",
    "print(f'Recall: {cnn_score[2]}')\n",
    "print(f'F1-Score: {cnn_score[3]}')"
   ]
  },
  {
   "cell_type": "code",
   "execution_count": 24,
   "metadata": {
    "colab": {
     "base_uri": "https://localhost:8080/",
     "height": 800
    },
    "executionInfo": {
     "elapsed": 1348,
     "status": "ok",
     "timestamp": 1650496233159,
     "user": {
      "displayName": "M A Al-Mamun",
      "userId": "03900571816985778333"
     },
     "user_tz": -120
    },
    "id": "pVe4TIMVunlQ",
    "outputId": "ed90870a-a600-4c51-8af3-af417eaebb0e"
   },
   "outputs": [
    {
     "data": {
      "image/png": "[encoded data removed]",
      "text/plain": [
       "<Figure size 864x864 with 2 Axes>"
      ]
     },
     "metadata": {
      "needs_background": "light"
     },
     "output_type": "display_data"
    }
   ],
   "source": [
    "plt.rcParams.update({'font.size': 16})\n",
    "\n",
    "fig = plt.figure(figsize=(12, 12))\n",
    "fig.tight_layout()\n",
    "ax = fig.add_subplot(111)\n",
    "plt.title('Confusion Matrix for CNN', fontweight='bold')\n",
    "\n",
    "cm = confusion_matrix(np.argmax(y_test, axis=1), np.argmax(predictions, axis=1), labels=range(9))\n",
    "disp = ConfusionMatrixDisplay(confusion_matrix=cm, display_labels=classes)\n",
    "\n",
    "disp.plot(ax=ax, cmap='Blues', values_format='')\n",
    "plt.xticks(rotation=45, ha='right')\n",
    "\n",
    "plt.savefig(IMAGE_PATH + 'cnn_confusion_matrix.pdf', bbox_inches='tight')"
   ]
  },
  {
   "cell_type": "code",
   "execution_count": 25,
   "metadata": {
    "colab": {
     "base_uri": "https://localhost:8080/",
     "height": 889
    },
    "executionInfo": {
     "elapsed": 908,
     "status": "ok",
     "timestamp": 1650496243478,
     "user": {
      "displayName": "M A Al-Mamun",
      "userId": "03900571816985778333"
     },
     "user_tz": -120
    },
    "id": "5PYOme4Lvgjt",
    "outputId": "2aecf5c6-8e22-450e-b769-f4162c2d084c"
   },
   "outputs": [
    {
     "data": {
      "image/png": "[encoded data removed]",
      "text/plain": [
       "<Figure size 1000x1000 with 1 Axes>"
      ]
     },
     "metadata": {},
     "output_type": "display_data"
    }
   ],
   "source": [
    "plt.rcdefaults()\n",
    "fig = plt.figure(figsize=(10, 10))\n",
    "\n",
    "plt.plot(history_cnn.history['accuracy'])\n",
    "plt.plot(history_cnn.history['val_accuracy'])\n",
    "plt.title('CNN accuracy')\n",
    "plt.ylabel('accuracy')\n",
    "plt.xlabel('epoch')\n",
    "plt.legend(['training', 'validation'], loc='lower right')\n",
    "\n",
    "plt.savefig(IMAGE_PATH + 'cnn_accuracy.pdf', bbox_inches='tight')"
   ]
  },
  {
   "cell_type": "code",
   "execution_count": 26,
   "metadata": {
    "colab": {
     "base_uri": "https://localhost:8080/",
     "height": 889
    },
    "executionInfo": {
     "elapsed": 933,
     "status": "ok",
     "timestamp": 1650496247439,
     "user": {
      "displayName": "M A Al-Mamun",
      "userId": "03900571816985778333"
     },
     "user_tz": -120
    },
    "id": "xG1YugCbv8kT",
    "outputId": "27707f24-8322-4507-dacc-d70195c1b9b6"
   },
   "outputs": [
    {
     "data": {
      "image/png": "[encoded data removed]",
      "text/plain": [
       "<Figure size 1000x1000 with 1 Axes>"
      ]
     },
     "metadata": {},
     "output_type": "display_data"
    }
   ],
   "source": [
    "fig = plt.figure(figsize=(10, 10))\n",
    "\n",
    "plt.plot(history_cnn.history['loss'])\n",
    "plt.plot(history_cnn.history['val_loss'])\n",
    "plt.title('CNN loss')\n",
    "plt.ylabel('loss')\n",
    "plt.xlabel('epoch')\n",
    "plt.legend(['training', 'validation'], loc='upper right')\n",
    "\n",
    "plt.savefig(IMAGE_PATH + 'cnn_loss.pdf', bbox_inches='tight')"
   ]
  },
  {
   "cell_type": "markdown",
   "metadata": {},
   "source": [
    "# Save TensorFlow Model"
   ]
  },
  {
   "cell_type": "code",
   "execution_count": 27,
   "metadata": {},
   "outputs": [
    {
     "name": "stdout",
     "output_type": "stream",
     "text": [
      "INFO:tensorflow:Assets written to: ./tensorflow_saved_models/cnn_saved_model\\assets\n"
     ]
    }
   ],
   "source": [
    "cnn.save(TENSORFLOW_SAVED_MODEL_PATH + 'cnn_saved_model')"
   ]
  },
  {
   "cell_type": "code",
   "execution_count": 28,
   "metadata": {},
   "outputs": [
    {
     "name": "stdout",
     "output_type": "stream",
     "text": [
      "[0.4992857277393341, 0.779285728931427, 0.8839285969734192, 0.9096428751945496, 0.9364285469055176, 0.9589285850524902, 0.9674999713897705, 0.9657142758369446, 0.9678571224212646, 0.9757142663002014, 0.977142870426178, 0.9760714173316956, 0.9789285659790039, 0.989642858505249, 0.991428554058075, 0.9853571653366089, 0.9892857074737549, 0.9971428513526917, 0.9957143068313599, 0.9989285469055176, 0.9989285469055176, 0.9978571534156799, 0.9996428489685059, 0.9989285469055176, 0.9982143044471741, 0.9992856979370117, 0.996071457862854, 0.9996428489685059, 0.9992856979370117, 0.9996428489685059, 0.9971428513526917, 0.9985714554786682, 0.9992856979370117, 1.0, 0.9989285469055176, 0.9992856979370117, 0.9985714554786682, 1.0, 0.9992856979370117, 0.9989285469055176, 0.9953571557998657, 0.9842857122421265, 1.0, 1.0, 1.0, 0.9992856979370117, 0.9992856979370117, 1.0, 0.9992856979370117, 1.0, 1.0, 0.9992856979370117, 0.9992856979370117, 1.0, 1.0, 1.0, 1.0, 1.0, 1.0, 0.9989285469055176, 0.9975000023841858, 1.0, 1.0, 1.0, 1.0, 1.0, 1.0, 1.0, 1.0, 1.0, 1.0, 1.0, 1.0, 1.0, 1.0, 1.0, 1.0, 1.0, 1.0, 1.0, 1.0, 1.0, 1.0, 1.0, 0.9735714197158813, 0.9925000071525574, 0.9989285469055176, 0.9992856979370117, 0.9996428489685059, 1.0, 0.9992856979370117, 1.0, 1.0, 1.0, 1.0, 1.0, 1.0, 1.0, 0.9992856979370117, 1.0, 1.0, 1.0, 1.0, 1.0, 1.0, 1.0, 1.0, 1.0, 1.0, 1.0, 1.0, 0.9996428489685059, 1.0, 1.0, 1.0, 1.0, 0.991428554058075, 0.9996428489685059, 0.9989285469055176, 0.9992856979370117, 1.0, 1.0, 0.9996428489685059, 1.0, 1.0, 1.0, 1.0, 1.0, 1.0, 1.0, 1.0, 1.0, 1.0, 1.0, 1.0, 1.0, 1.0, 1.0, 1.0, 1.0, 1.0, 1.0, 1.0, 1.0, 1.0, 1.0, 1.0, 1.0, 1.0, 1.0, 1.0, 1.0, 1.0, 1.0, 1.0, 1.0, 1.0, 1.0, 1.0, 1.0, 1.0, 1.0, 1.0, 1.0, 0.9649999737739563, 1.0, 1.0, 1.0, 1.0, 1.0, 1.0, 1.0, 1.0, 1.0, 1.0, 1.0, 1.0, 1.0, 1.0, 1.0, 1.0, 1.0, 1.0, 1.0, 1.0, 1.0, 1.0, 1.0, 1.0, 1.0, 1.0, 1.0, 1.0, 1.0, 1.0, 1.0, 1.0, 1.0, 1.0, 1.0, 1.0, 1.0, 1.0, 1.0, 1.0, 1.0, 1.0, 1.0, 1.0, 1.0, 1.0, 1.0, 1.0, 1.0, 1.0, 1.0, 1.0, 1.0, 1.0, 1.0, 1.0, 1.0, 1.0, 1.0, 1.0, 1.0, 1.0, 1.0, 1.0, 1.0, 1.0, 1.0, 1.0, 1.0, 0.987500011920929, 0.9996428489685059, 0.9978571534156799, 0.9989285469055176, 0.9996428489685059, 1.0, 1.0, 1.0, 1.0, 0.996071457862854, 0.9992856979370117, 1.0, 1.0, 1.0, 1.0, 1.0]\n"
     ]
    }
   ],
   "source": [
    "print(history_cnn.history['accuracy'])"
   ]
  },
  {
   "cell_type": "code",
   "execution_count": 29,
   "metadata": {},
   "outputs": [
    {
     "name": "stdout",
     "output_type": "stream",
     "text": [
      "[0.7914285659790039, 0.8714285492897034, 0.8899999856948853, 0.949999988079071, 0.9614285826683044, 0.9599999785423279, 0.9585714340209961, 0.9599999785423279, 0.9700000286102295, 0.9728571176528931, 0.9871428608894348, 0.9642857313156128, 0.9842857122421265, 0.9971428513526917, 0.9885714054107666, 0.9971428513526917, 0.9957143068313599, 0.9985714554786682, 0.9985714554786682, 0.9985714554786682, 0.9971428513526917, 0.9985714554786682, 0.9971428513526917, 0.9985714554786682, 1.0, 0.9985714554786682, 1.0, 0.9985714554786682, 0.9985714554786682, 0.9985714554786682, 0.9985714554786682, 0.9985714554786682, 0.9985714554786682, 0.9985714554786682, 1.0, 0.9971428513526917, 0.9985714554786682, 0.9985714554786682, 0.9985714554786682, 0.9985714554786682, 0.9985714554786682, 0.9985714554786682, 0.9985714554786682, 0.9985714554786682, 1.0, 0.9985714554786682, 0.9985714554786682, 1.0, 1.0, 1.0, 0.9985714554786682, 0.9985714554786682, 0.9985714554786682, 0.9985714554786682, 0.9985714554786682, 0.9985714554786682, 0.9985714554786682, 1.0, 0.9985714554786682, 0.9971428513526917, 0.9985714554786682, 1.0, 1.0, 1.0, 1.0, 1.0, 1.0, 1.0, 1.0, 1.0, 1.0, 0.9985714554786682, 1.0, 0.9985714554786682, 1.0, 1.0, 1.0, 1.0, 1.0, 1.0, 1.0, 0.9985714554786682, 1.0, 1.0, 0.9071428775787354, 0.9985714554786682, 0.9971428513526917, 1.0, 0.9985714554786682, 0.9985714554786682, 0.9957143068313599, 1.0, 1.0, 1.0, 1.0, 1.0, 1.0, 1.0, 1.0, 1.0, 1.0, 1.0, 1.0, 1.0, 1.0, 1.0, 1.0, 1.0, 1.0, 1.0, 1.0, 1.0, 1.0, 1.0, 1.0, 1.0, 0.9985714554786682, 0.9985714554786682, 0.9985714554786682, 0.9985714554786682, 1.0, 1.0, 1.0, 1.0, 1.0, 1.0, 1.0, 1.0, 1.0, 1.0, 1.0, 1.0, 1.0, 1.0, 1.0, 1.0, 1.0, 1.0, 1.0, 1.0, 1.0, 1.0, 1.0, 1.0, 1.0, 1.0, 1.0, 1.0, 1.0, 1.0, 1.0, 1.0, 1.0, 1.0, 1.0, 1.0, 1.0, 1.0, 1.0, 1.0, 1.0, 1.0, 1.0, 1.0, 0.9985714554786682, 1.0, 1.0, 1.0, 1.0, 0.9985714554786682, 1.0, 1.0, 1.0, 1.0, 1.0, 1.0, 1.0, 1.0, 1.0, 1.0, 1.0, 1.0, 1.0, 1.0, 1.0, 1.0, 1.0, 1.0, 1.0, 1.0, 1.0, 1.0, 1.0, 1.0, 1.0, 1.0, 1.0, 1.0, 1.0, 1.0, 1.0, 1.0, 1.0, 1.0, 1.0, 1.0, 1.0, 1.0, 1.0, 1.0, 1.0, 1.0, 1.0, 1.0, 1.0, 1.0, 1.0, 1.0, 1.0, 1.0, 1.0, 1.0, 1.0, 1.0, 1.0, 1.0, 1.0, 1.0, 1.0, 1.0, 1.0, 1.0, 1.0, 1.0, 0.9942857027053833, 0.9957143068313599, 0.9971428513526917, 0.9971428513526917, 0.9985714554786682, 0.9985714554786682, 0.9985714554786682, 0.9985714554786682, 0.9985714554786682, 0.9971428513526917, 1.0, 1.0, 1.0, 1.0, 1.0, 0.9985714554786682]\n"
     ]
    }
   ],
   "source": [
    "print(history_cnn.history['val_accuracy'])"
   ]
  },
  {
   "cell_type": "code",
   "execution_count": 30,
   "metadata": {},
   "outputs": [
    {
     "name": "stdout",
     "output_type": "stream",
     "text": [
      "[1.1465389728546143, 0.5960583686828613, 0.3270505368709564, 0.19668328762054443, 0.16413843631744385, 0.11764869838953018, 0.10485631972551346, 0.09504160284996033, 0.09004639089107513, 0.069267638027668, 0.06823498755693436, 0.06603778153657913, 0.06386837363243103, 0.0399688296020031, 0.03824169933795929, 0.04529754817485809, 0.03285963460803032, 0.019794948399066925, 0.023340532556176186, 0.013668992556631565, 0.013360989280045033, 0.011263260617852211, 0.007301342207938433, 0.007621115073561668, 0.011275571770966053, 0.007961638271808624, 0.015733351930975914, 0.007298045791685581, 0.005373063962906599, 0.004173102788627148, 0.010336113162338734, 0.008253900334239006, 0.006925366818904877, 0.001472912379540503, 0.004235800355672836, 0.007065316662192345, 0.00588334770873189, 0.0013329661451280117, 0.0022550730500370264, 0.005728113930672407, 0.016585901379585266, 0.04596180096268654, 0.002493582433089614, 0.001672282232902944, 0.0013700943673029542, 0.0019664261490106583, 0.0022219601087272167, 0.0007797634461894631, 0.0023594163358211517, 0.0006228741258382797, 0.0005904834833927453, 0.0020312550477683544, 0.00482653733342886, 0.0007229124894365668, 0.0010427080560475588, 0.00041686874465085566, 0.0008496734662912786, 0.0003207113186363131, 0.0004871081910096109, 0.00485927052795887, 0.00867539830505848, 0.0005338742630556226, 0.0004473412991501391, 0.0005032246699556708, 0.0003724322887137532, 0.0003292763140052557, 0.0002947234606835991, 0.0002127535262843594, 0.0002714157453738153, 0.00023526547010987997, 0.00018156296573579311, 0.00021741513046436012, 0.00018732299213297665, 0.0001570883468957618, 0.000153434433741495, 0.00014259111776482314, 0.00013165915152058005, 0.000154674838995561, 0.00013679750554729253, 0.00012786962906830013, 0.00012930025695823133, 0.00010842329356819391, 0.0001016820824588649, 0.0001392390113323927, 0.13654519617557526, 0.022936131805181503, 0.010948137380182743, 0.009845771826803684, 0.007652894593775272, 0.006152465473860502, 0.005617700517177582, 0.003825209569185972, 0.0026932971086353064, 0.002051339251920581, 0.0025658193044364452, 0.0019317636033520103, 0.0027639924082905054, 0.0014062734553590417, 0.003005366073921323, 0.001133774989284575, 0.0010075842728838325, 0.000980675802566111, 0.0008084086584858596, 0.0006177428876981139, 0.0012033976381644607, 0.0005573953385464847, 0.0006948586669750512, 0.0006613113218918443, 0.0004504896351136267, 0.00047975394409149885, 0.00035885139368474483, 0.001086925039999187, 0.0005875253700651228, 0.00033331065787933767, 0.0003000721917487681, 0.00033459783298894763, 0.028263531625270844, 0.0022959853522479534, 0.006271454971283674, 0.004420869518071413, 0.0014220216544345021, 0.0012796937953680754, 0.0022018863819539547, 0.0008058954845182598, 0.0008493313798680902, 0.0006287171854637563, 0.0008159263525158167, 0.0005141514702700078, 0.0006221079966053367, 0.0007145670242607594, 0.00047937652561813593, 0.0003193892480339855, 0.0003027788770850748, 0.0015732969623059034, 0.00032381914206780493, 0.00022263196296989918, 0.00019262432761024684, 0.00019143424287904054, 0.0003189306880813092, 0.00015014475502539426, 0.00018016257672570646, 0.00013232558558229357, 0.000139908108394593, 0.00011997755063930526, 0.00011633541726041585, 0.00013816554564982653, 0.00010195258801104501, 9.034897811943665e-05, 0.0001300774747505784, 8.703589264769107e-05, 7.706962787779048e-05, 7.821669714758173e-05, 6.857145490357652e-05, 8.745608647586778e-05, 6.502956239273772e-05, 7.87975441198796e-05, 8.249175152741373e-05, 7.158258813433349e-05, 6.968747038627043e-05, 8.146858453983441e-05, 5.8053203247254714e-05, 9.756640793057159e-05, 6.300341919995844e-05, 0.00022073384025134146, 0.12602686882019043, 0.002827748190611601, 0.0011045848950743675, 0.0011876391945406795, 0.001007472979836166, 0.0007988091092556715, 0.0009996537119150162, 0.0006955601857043803, 0.0007819770835340023, 0.000543136615306139, 0.0006662660161964595, 0.0006688667344860733, 0.0004801276372745633, 0.00042294812737964094, 0.00036477463436312973, 0.00031777555705048144, 0.0002977163821924478, 0.0003078399458900094, 0.00022210650786291808, 0.0002711669367272407, 0.0002451344334986061, 0.00018389412434771657, 0.00020018131181132048, 0.00018139304302167147, 0.00014528607425745577, 0.00013433377898763865, 0.00013784180919174105, 0.00014317691966425627, 0.00012434953532647341, 0.00015710052684880793, 0.00010422416380606592, 9.268589201383293e-05, 8.705567597644404e-05, 7.897622708696872e-05, 7.723966700723395e-05, 7.584229024359956e-05, 7.085502875270322e-05, 8.061139669734985e-05, 5.664987111231312e-05, 6.09992457611952e-05, 7.378958980552852e-05, 4.8312449507648125e-05, 5.178062565391883e-05, 5.411777237895876e-05, 5.6892680731834844e-05, 7.70230035413988e-05, 9.417069668415934e-05, 5.068646350991912e-05, 5.046411752118729e-05, 5.0505856052041054e-05, 3.475727862678468e-05, 3.0571874958695844e-05, 3.2681029551895335e-05, 3.0367849831236526e-05, 3.089684832957573e-05, 3.005897087859921e-05, 3.0345132472575642e-05, 5.0712653319351375e-05, 4.0303519199369475e-05, 5.27797601534985e-05, 2.6890431399806403e-05, 2.7206480808672495e-05, 2.8176909836474806e-05, 2.180652336392086e-05, 2.3576592866447754e-05, 2.365137515880633e-05, 2.217228029621765e-05, 2.684598439373076e-05, 2.4791770556475967e-05, 2.7608235541265458e-05, 0.036763764917850494, 0.0081180976703763, 0.006923846434801817, 0.0038993521593511105, 0.004880039021372795, 0.0011294949799776077, 0.0008207749342545867, 0.0005099880509078503, 0.0007256164099089801, 0.01926933042705059, 0.003055762965232134, 0.0006017866544425488, 0.0006147388485260308, 0.0004053916782140732, 0.00027979296282865107, 0.00028139245114289224]\n"
     ]
    }
   ],
   "source": [
    "print(history_cnn.history['loss'])"
   ]
  },
  {
   "cell_type": "code",
   "execution_count": 31,
   "metadata": {},
   "outputs": [
    {
     "name": "stdout",
     "output_type": "stream",
     "text": [
      "[0.7004801630973816, 0.45076462626457214, 0.2199702262878418, 0.1746407449245453, 0.13769634068012238, 0.11799659579992294, 0.10772132128477097, 0.09618791937828064, 0.0841514840722084, 0.07191301882266998, 0.06481439620256424, 0.09846252202987671, 0.047438785433769226, 0.04570961371064186, 0.03513382002711296, 0.03278467431664467, 0.03017323650419712, 0.0195142962038517, 0.01556481048464775, 0.017405766993761063, 0.025720279663801193, 0.00948262307792902, 0.02122553437948227, 0.008869372308254242, 0.005225015804171562, 0.011652925051748753, 0.008511095307767391, 0.006668529473245144, 0.0073729935102164745, 0.012150640599429607, 0.008808153681457043, 0.008112621493637562, 0.0028991869185119867, 0.006097722798585892, 0.004329947754740715, 0.0179008599370718, 0.0032509330194443464, 0.005562968086451292, 0.0031002562027424574, 0.006023761350661516, 0.013260871171951294, 0.005359848029911518, 0.0041386340744793415, 0.006378819700330496, 0.001704024733044207, 0.007073759566992521, 0.0024241022765636444, 0.001558747491799295, 0.0010039322078227997, 0.0011365081882104278, 0.0016519279452040792, 0.0028253302443772554, 0.003422724548727274, 0.0020673181861639023, 0.0034895811695605516, 0.0015230638673529029, 0.0015899582067504525, 0.0012367430608719587, 0.010264835320413113, 0.01046613696962595, 0.0017224050825461745, 0.0012469483772292733, 0.0012023845920339227, 0.0011199477594345808, 0.0009936887072399259, 0.0007885933155193925, 0.0012026859913021326, 0.0003252205206081271, 0.0002836822241079062, 0.0004952761228196323, 0.000686971063259989, 0.002254221588373184, 0.00042474627844057977, 0.0016168341971933842, 0.00028554763412103057, 0.0008848270517773926, 0.00023257266730070114, 0.0003179247141815722, 0.0005210983799770474, 0.0003327340818941593, 0.0002290289121447131, 0.0014659784501418471, 0.000335570948664099, 0.001148470677435398, 0.15922324359416962, 0.0139805618673563, 0.01245919056236744, 0.008507302030920982, 0.00772403459995985, 0.008754952810704708, 0.010704665444791317, 0.004711232613772154, 0.0025752990040928125, 0.003534422256052494, 0.0024315714836120605, 0.0022912807762622833, 0.0026551932096481323, 0.00265352800488472, 0.0019021538319066167, 0.0015855788951739669, 0.0010818836744874716, 0.000913828203920275, 0.0008466002182103693, 0.0009446801268495619, 0.001073298160918057, 0.000741474621463567, 0.0019657656084746122, 0.0005778810009360313, 0.0009206204558722675, 0.0006231274455785751, 0.0008864847477525473, 0.0015917769633233547, 0.0006278786459006369, 0.0003745910944417119, 0.00044417742174118757, 0.00035260661388747394, 0.004579851403832436, 0.0063536581583321095, 0.015443672426044941, 0.004105954430997372, 0.0018004293087869883, 0.0015502660535275936, 0.0013758789282292128, 0.0010477893520146608, 0.0007802960462868214, 0.0008706430089659989, 0.0009033422684296966, 0.0006605086964555085, 0.0007363920449279249, 0.0005887462175451219, 0.00042784574907273054, 0.0005763474619016051, 0.00045305327512323856, 0.0004914801684208214, 0.0003463530447334051, 0.0004217418609187007, 0.0003324499411974102, 0.0002400801022304222, 0.00026946523576043546, 0.0002006454160436988, 0.00024494618992321193, 0.0001812957925722003, 0.00018872278451453894, 0.0001595934445504099, 0.00018898706184700131, 0.00014923812705092132, 0.00016072328435257077, 0.00012374283687677234, 0.00012831106141675264, 0.0001428727846359834, 0.0002164736797567457, 0.000155641624587588, 8.47147312015295e-05, 0.00014688368537463248, 7.735949475318193e-05, 0.00016055174637585878, 0.0001535852497909218, 0.00011323366925353184, 0.00011615523544605821, 8.954705117503181e-05, 9.369524195790291e-05, 0.00010880766058107838, 8.615150727564469e-05, 7.98548644524999e-05, 0.004917677491903305, 0.001760391634888947, 0.001682449714280665, 0.001545571256428957, 0.0014372975565493107, 0.0021518091671168804, 0.00156344601418823, 0.0018007138278335333, 0.000970766122918576, 0.0011494929203763604, 0.001264576567336917, 0.0008524301229044795, 0.001215884811244905, 0.0006330683245323598, 0.0007205242873169482, 0.0005047740996815264, 0.0004460110794752836, 0.0003844836901407689, 0.000750386796426028, 0.000527348427567631, 0.0006389323971234262, 0.0010207474697381258, 0.00028153316816315055, 0.0002727852261159569, 0.00023163224977906793, 0.00023984190193004906, 0.00021545861090999097, 0.0003115796425845474, 0.00017417088383808732, 0.00016559631330892444, 0.0001631300983717665, 0.0002136698312824592, 0.00018182492931373417, 0.0001507155830040574, 0.00013838429003953934, 0.00017056608339771628, 0.00016427200171165168, 0.00017236039275303483, 0.00014555887901224196, 0.00012106517533538863, 9.773169585969299e-05, 0.00010957159975077957, 9.113352280110121e-05, 0.00011228610674152151, 8.644998888485134e-05, 7.793282566126436e-05, 7.00827149557881e-05, 9.63502170634456e-05, 9.960759052773938e-05, 9.754106577020139e-05, 8.14488303149119e-05, 7.659965922357515e-05, 6.183663936099038e-05, 7.29279636288993e-05, 7.299902063095942e-05, 6.391722126863897e-05, 6.667904381174594e-05, 7.487807306461036e-05, 0.0005639010341838002, 8.102374704321846e-05, 5.5486452765762806e-05, 0.00010904827649937943, 0.0001001684067887254, 8.05998788564466e-05, 4.194916982669383e-05, 5.559146302402951e-05, 4.031421849504113e-05, 5.2237515774322674e-05, 3.0542429158231243e-05, 7.683883450226858e-05, 0.0100838178768754, 0.02083430625498295, 0.02168392948806286, 0.0053774770349264145, 0.0028316762764006853, 0.0029581240378320217, 0.005707042757421732, 0.002076218370348215, 0.013186710886657238, 0.012578912079334259, 0.0011042809346690774, 0.001017917413264513, 0.0013374225236475468, 0.0014575369423255324, 0.0006723083206452429, 0.002138489158824086]\n"
     ]
    }
   ],
   "source": [
    "print(history_cnn.history['val_loss'])"
   ]
  },
  {
   "cell_type": "code",
   "execution_count": 32,
   "metadata": {},
   "outputs": [
    {
     "name": "stdout",
     "output_type": "stream",
     "text": [
      "Execution time: 444.16451025009155 s\n"
     ]
    }
   ],
   "source": [
    "print(f'Execution time: {time.time() - start_time} s')"
   ]
  },
  {
   "cell_type": "code",
   "execution_count": null,
   "metadata": {},
   "outputs": [],
   "source": []
  }
 ],
 "metadata": {
  "accelerator": "GPU",
  "colab": {
   "authorship_tag": "ABX9TyM3c5XNo5diPM52BUoNc1iA",
   "collapsed_sections": [],
   "mount_file_id": "11-MVb4leR6kidYgzNGka9oXPbk97y0wW",
   "name": "tf_cnn1D_classification.ipynb",
   "provenance": []
  },
  "kernelspec": {
   "display_name": "Python 3",
   "language": "python",
   "name": "python3"
  },
  "language_info": {
   "codemirror_mode": {
    "name": "ipython",
    "version": 3
   },
   "file_extension": ".py",
   "mimetype": "text/x-python",
   "name": "python",
   "nbconvert_exporter": "python",
   "pygments_lexer": "ipython3",
   "version": "3.8.3"
  }
 },
 "nbformat": 4,
 "nbformat_minor": 1
}
