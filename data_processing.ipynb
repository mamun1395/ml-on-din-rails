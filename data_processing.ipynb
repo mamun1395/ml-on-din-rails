{
 "cells": [
  {
   "cell_type": "markdown",
   "metadata": {
    "id": "cl9oBUyyh9gj"
   },
   "source": [
    "# Dataset Preparation\n",
    "\n",
    "For each of the 10 different classes, the dataset has 500 x 1010 dimension.\n",
    "\n",
    "- 500 rows for gain from 500 files\n",
    "- 1010 columns for frequencies ranging from 50 kHz to 22 MHz"
   ]
  },
  {
   "cell_type": "code",
   "execution_count": 1,
   "metadata": {
    "executionInfo": {
     "elapsed": 14179,
     "status": "ok",
     "timestamp": 1605788304144,
     "user": {
      "displayName": "M A Al-Mamun",
      "photoUrl": "",
      "userId": "03900571816985778333"
     },
     "user_tz": -60
    },
    "id": "sV8WP95Xh4iA"
   },
   "outputs": [],
   "source": [
    "import glob\n",
    "import os\n",
    "import pandas as pd"
   ]
  },
  {
   "cell_type": "code",
   "execution_count": 2,
   "metadata": {
    "executionInfo": {
     "elapsed": 14191,
     "status": "ok",
     "timestamp": 1605788304163,
     "user": {
      "displayName": "M A Al-Mamun",
      "photoUrl": "",
      "userId": "03900571816985778333"
     },
     "user_tz": -60
    },
    "id": "7h2f15jaNw-Q"
   },
   "outputs": [],
   "source": [
    "DATASET_PATH = './dataset/'"
   ]
  },
  {
   "cell_type": "code",
   "execution_count": 3,
   "metadata": {
    "executionInfo": {
     "elapsed": 14346,
     "status": "ok",
     "timestamp": 1605788304323,
     "user": {
      "displayName": "M A Al-Mamun",
      "photoUrl": "",
      "userId": "03900571816985778333"
     },
     "user_tz": -60
    },
    "id": "MMyonC15OMOH"
   },
   "outputs": [],
   "source": [
    "# accumulating all datasets"
   ]
  },
  {
   "cell_type": "code",
   "execution_count": 4,
   "metadata": {
    "executionInfo": {
     "elapsed": 15040,
     "status": "ok",
     "timestamp": 1605788305022,
     "user": {
      "displayName": "M A Al-Mamun",
      "photoUrl": "",
      "userId": "03900571816985778333"
     },
     "user_tz": -60
    },
    "id": "SV-CNeD5OD2b"
   },
   "outputs": [],
   "source": [
    "nc1_ncn5121_no4_files = glob.glob(DATASET_PATH + 'raw_dataset/NetworkConfig1/ncn5121_no4/*')\n",
    "nc1_ncn5121_no5_files = glob.glob(DATASET_PATH + 'raw_dataset/NetworkConfig1/ncn5121_no5/*')\n",
    "nc1_nodevice_files = glob.glob(DATASET_PATH + 'raw_dataset/NetworkConfig1/nodevice/*')\n",
    "nc1_switch_dem_files = glob.glob(DATASET_PATH + 'raw_dataset/NetworkConfig1/switch_dem/*')\n",
    "nc1_switch_sl2_files = glob.glob(DATASET_PATH + 'raw_dataset/NetworkConfig1/switch_sl2/*')\n",
    "\n",
    "nc2_ncn5121_no4_files = glob.glob(DATASET_PATH + 'raw_dataset/NetworkConfig2/ncn5121_no4/*')\n",
    "nc2_ncn5121_no5_files = glob.glob(DATASET_PATH + 'raw_dataset/NetworkConfig2/ncn5121_no5/*')\n",
    "nc2_nodevice_files = glob.glob(DATASET_PATH + 'raw_dataset/NetworkConfig2/nodevice/*')\n",
    "nc2_switch_dem_files = glob.glob(DATASET_PATH + 'raw_dataset/NetworkConfig2/switch_dem/*')\n",
    "nc2_switch_sl2_files = glob.glob(DATASET_PATH + 'raw_dataset/NetworkConfig2/switch_sl2/*')"
   ]
  },
  {
   "cell_type": "code",
   "execution_count": 5,
   "metadata": {
    "executionInfo": {
     "elapsed": 15057,
     "status": "ok",
     "timestamp": 1605788305042,
     "user": {
      "displayName": "M A Al-Mamun",
      "photoUrl": "",
      "userId": "03900571816985778333"
     },
     "user_tz": -60
    },
    "id": "RUc9BO_6iXve"
   },
   "outputs": [],
   "source": [
    "# creating directory for processed data"
   ]
  },
  {
   "cell_type": "code",
   "execution_count": 6,
   "metadata": {
    "executionInfo": {
     "elapsed": 15183,
     "status": "ok",
     "timestamp": 1605788305173,
     "user": {
      "displayName": "M A Al-Mamun",
      "photoUrl": "",
      "userId": "03900571816985778333"
     },
     "user_tz": -60
    },
    "id": "XNnZYWPgRlpZ"
   },
   "outputs": [],
   "source": [
    "if not os.path.exists(DATASET_PATH + \"processed_dataset\"):\n",
    "    os.mkdir(DATASET_PATH + \"processed_dataset\")"
   ]
  },
  {
   "cell_type": "code",
   "execution_count": 7,
   "metadata": {
    "executionInfo": {
     "elapsed": 15326,
     "status": "ok",
     "timestamp": 1605788305320,
     "user": {
      "displayName": "M A Al-Mamun",
      "photoUrl": "",
      "userId": "03900571816985778333"
     },
     "user_tz": -60
    },
    "id": "sNWKKprtibnj"
   },
   "outputs": [],
   "source": [
    "# main function responsible for processing"
   ]
  },
  {
   "cell_type": "code",
   "execution_count": 8,
   "metadata": {
    "executionInfo": {
     "elapsed": 15446,
     "status": "ok",
     "timestamp": 1605788305446,
     "user": {
      "displayName": "M A Al-Mamun",
      "photoUrl": "",
      "userId": "03900571816985778333"
     },
     "user_tz": -60
    },
    "id": "w7ywtGsdOPTB"
   },
   "outputs": [],
   "source": [
    "def write_processed_dataset(files, fileName):\n",
    "    processed_dataset = pd.read_csv(files[0], header=None).set_index(0).T.drop([1])\n",
    "    processed_dataset = processed_dataset.append([pd.read_csv(file, header=None).set_index(0).T for file in files], ignore_index = True)\n",
    "    processed_dataset['class'] = [fileName[0 : -14]] * len(processed_dataset.index)\n",
    "    processed_dataset.to_csv(DATASET_PATH + \"processed_dataset/\" + fileName, index=False)"
   ]
  },
  {
   "cell_type": "code",
   "execution_count": 9,
   "metadata": {
    "executionInfo": {
     "elapsed": 15562,
     "status": "ok",
     "timestamp": 1605788305567,
     "user": {
      "displayName": "M A Al-Mamun",
      "photoUrl": "",
      "userId": "03900571816985778333"
     },
     "user_tz": -60
    },
    "id": "5Dc10DoRk3QN"
   },
   "outputs": [],
   "source": [
    "# creating 10 processed datasets for 10 classes"
   ]
  },
  {
   "cell_type": "code",
   "execution_count": 10,
   "metadata": {
    "executionInfo": {
     "elapsed": 280217,
     "status": "ok",
     "timestamp": 1605788570226,
     "user": {
      "displayName": "M A Al-Mamun",
      "photoUrl": "",
      "userId": "03900571816985778333"
     },
     "user_tz": -60
    },
    "id": "55VrllFoOS6w"
   },
   "outputs": [],
   "source": [
    "write_processed_dataset(nc1_ncn5121_no4_files, 'nc1_ncn5121_no4_processed.csv')\n",
    "write_processed_dataset(nc1_ncn5121_no5_files, 'nc1_ncn5121_no5_processed.csv')\n",
    "write_processed_dataset(nc1_nodevice_files, 'nc1_nodevice_processed.csv')\n",
    "write_processed_dataset(nc1_switch_dem_files, 'nc1_switch_dem_processed.csv')\n",
    "write_processed_dataset(nc1_switch_sl2_files, 'nc1_switch_sl2_processed.csv')\n",
    "\n",
    "write_processed_dataset(nc2_ncn5121_no4_files, 'nc2_ncn5121_no4_processed.csv')\n",
    "write_processed_dataset(nc2_ncn5121_no5_files, 'nc2_ncn5121_no5_processed.csv')\n",
    "write_processed_dataset(nc2_nodevice_files, 'nc2_nodevice_processed.csv')\n",
    "write_processed_dataset(nc2_switch_dem_files, 'nc2_switch_dem_processed.csv')\n",
    "write_processed_dataset(nc2_switch_sl2_files, 'nc2_switch_sl2_processed.csv')"
   ]
  }
 ],
 "metadata": {
  "colab": {
   "authorship_tag": "ABX9TyMSD0dhjd269Yzp/l6TXAhJ",
   "collapsed_sections": [],
   "name": "data_preprocessing.ipynb",
   "provenance": []
  },
  "kernelspec": {
   "display_name": "Python 3",
   "language": "python",
   "name": "python3"
  },
  "language_info": {
   "codemirror_mode": {
    "name": "ipython",
    "version": 3
   },
   "file_extension": ".py",
   "mimetype": "text/x-python",
   "name": "python",
   "nbconvert_exporter": "python",
   "pygments_lexer": "ipython3",
   "version": "3.8.3"
  }
 },
 "nbformat": 4,
 "nbformat_minor": 1
}
