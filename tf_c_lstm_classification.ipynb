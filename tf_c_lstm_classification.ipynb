{
 "cells": [
  {
   "cell_type": "code",
   "execution_count": 1,
   "metadata": {
    "executionInfo": {
     "elapsed": 7494,
     "status": "ok",
     "timestamp": 1650470911119,
     "user": {
      "displayName": "M A Al-Mamun",
      "userId": "03900571816985778333"
     },
     "user_tz": -120
    },
    "id": "fsBSxED2bcdc"
   },
   "outputs": [],
   "source": [
    "import numpy as np\n",
    "import pandas as pd\n",
    "import matplotlib.pyplot as plt\n",
    "import glob\n",
    "from sklearn.metrics import accuracy_score, classification_report, ConfusionMatrixDisplay, confusion_matrix, f1_score, precision_score, recall_score \n",
    "from sklearn.model_selection import train_test_split\n",
    "from sklearn.preprocessing import StandardScaler\n",
    "import tensorflow\n",
    "from tensorflow.keras.layers import Bidirectional, Conv1D, Dense, Flatten, LSTMCell, MaxPool1D, RNN\n",
    "from tensorflow.keras.models import Sequential\n",
    "from tensorflow.keras.utils import to_categorical\n",
    "import time"
   ]
  },
  {
   "cell_type": "code",
   "execution_count": 2,
   "metadata": {},
   "outputs": [],
   "source": [
    "start_time = time.time()"
   ]
  },
  {
   "cell_type": "code",
   "execution_count": 3,
   "metadata": {},
   "outputs": [],
   "source": [
    "tensorflow.random.set_seed(1234)"
   ]
  },
  {
   "cell_type": "code",
   "execution_count": 4,
   "metadata": {
    "executionInfo": {
     "elapsed": 259,
     "status": "ok",
     "timestamp": 1650470914450,
     "user": {
      "displayName": "M A Al-Mamun",
      "userId": "03900571816985778333"
     },
     "user_tz": -120
    },
    "id": "zGlp4RTkbgnD"
   },
   "outputs": [],
   "source": [
    "DATASET_PATH = './dataset/processed_dataset/'\n",
    "TENSORFLOW_SAVED_MODEL_PATH = './tensorflow_saved_models/'\n",
    "IMAGE_PATH = './images/'"
   ]
  },
  {
   "cell_type": "code",
   "execution_count": 5,
   "metadata": {
    "executionInfo": {
     "elapsed": 6910,
     "status": "ok",
     "timestamp": 1650470923143,
     "user": {
      "displayName": "M A Al-Mamun",
      "userId": "03900571816985778333"
     },
     "user_tz": -120
    },
    "id": "7ANlCev9biYh"
   },
   "outputs": [],
   "source": [
    "datasets = pd.concat([pd.read_csv(file) for file in glob.glob(DATASET_PATH + '*')])"
   ]
  },
  {
   "cell_type": "code",
   "execution_count": 6,
   "metadata": {
    "colab": {
     "base_uri": "https://localhost:8080/",
     "height": 299
    },
    "executionInfo": {
     "elapsed": 307,
     "status": "ok",
     "timestamp": 1650470929018,
     "user": {
      "displayName": "M A Al-Mamun",
      "userId": "03900571816985778333"
     },
     "user_tz": -120
    },
    "id": "aT6ctzTabkI9",
    "outputId": "9f0d3704-bb18-43a5-a69f-e0295574f81d"
   },
   "outputs": [
    {
     "data": {
      "text/html": [
       "<div>\n",
       "<style scoped>\n",
       "    .dataframe tbody tr th:only-of-type {\n",
       "        vertical-align: middle;\n",
       "    }\n",
       "\n",
       "    .dataframe tbody tr th {\n",
       "        vertical-align: top;\n",
       "    }\n",
       "\n",
       "    .dataframe thead th {\n",
       "        text-align: right;\n",
       "    }\n",
       "</style>\n",
       "<table border=\"1\" class=\"dataframe\">\n",
       "  <thead>\n",
       "    <tr style=\"text-align: right;\">\n",
       "      <th></th>\n",
       "      <th>50.0</th>\n",
       "      <th>71.75421209117937</th>\n",
       "      <th>93.50842418235877</th>\n",
       "      <th>115.26263627353815</th>\n",
       "      <th>137.01684836471753</th>\n",
       "      <th>158.7710604558969</th>\n",
       "      <th>180.52527254707638</th>\n",
       "      <th>202.2794846382557</th>\n",
       "      <th>224.0336967294351</th>\n",
       "      <th>245.78790882061452</th>\n",
       "      <th>...</th>\n",
       "      <th>21825.966303270565</th>\n",
       "      <th>21847.720515361747</th>\n",
       "      <th>21869.474727452925</th>\n",
       "      <th>21891.228939544104</th>\n",
       "      <th>21912.983151635282</th>\n",
       "      <th>21934.737363726465</th>\n",
       "      <th>21956.491575817643</th>\n",
       "      <th>21978.245787908818</th>\n",
       "      <th>22000.0</th>\n",
       "      <th>class</th>\n",
       "    </tr>\n",
       "  </thead>\n",
       "  <tbody>\n",
       "    <tr>\n",
       "      <th>0</th>\n",
       "      <td>0.000801</td>\n",
       "      <td>0.001457</td>\n",
       "      <td>0.002129</td>\n",
       "      <td>0.002763</td>\n",
       "      <td>0.003370</td>\n",
       "      <td>0.003945</td>\n",
       "      <td>0.004515</td>\n",
       "      <td>0.005036</td>\n",
       "      <td>0.005538</td>\n",
       "      <td>0.005981</td>\n",
       "      <td>...</td>\n",
       "      <td>0.008532</td>\n",
       "      <td>0.008513</td>\n",
       "      <td>0.008491</td>\n",
       "      <td>0.008484</td>\n",
       "      <td>0.008457</td>\n",
       "      <td>0.008454</td>\n",
       "      <td>0.008432</td>\n",
       "      <td>0.008421</td>\n",
       "      <td>0.008423</td>\n",
       "      <td>nc1_ncn5121_no4</td>\n",
       "    </tr>\n",
       "    <tr>\n",
       "      <th>1</th>\n",
       "      <td>0.000827</td>\n",
       "      <td>0.001476</td>\n",
       "      <td>0.002096</td>\n",
       "      <td>0.002775</td>\n",
       "      <td>0.003362</td>\n",
       "      <td>0.003950</td>\n",
       "      <td>0.004512</td>\n",
       "      <td>0.005057</td>\n",
       "      <td>0.005534</td>\n",
       "      <td>0.005997</td>\n",
       "      <td>...</td>\n",
       "      <td>0.008506</td>\n",
       "      <td>0.008514</td>\n",
       "      <td>0.008490</td>\n",
       "      <td>0.008488</td>\n",
       "      <td>0.008481</td>\n",
       "      <td>0.008448</td>\n",
       "      <td>0.008445</td>\n",
       "      <td>0.008432</td>\n",
       "      <td>0.008418</td>\n",
       "      <td>nc1_ncn5121_no4</td>\n",
       "    </tr>\n",
       "    <tr>\n",
       "      <th>2</th>\n",
       "      <td>0.000770</td>\n",
       "      <td>0.001462</td>\n",
       "      <td>0.002094</td>\n",
       "      <td>0.002737</td>\n",
       "      <td>0.003353</td>\n",
       "      <td>0.003949</td>\n",
       "      <td>0.004500</td>\n",
       "      <td>0.005031</td>\n",
       "      <td>0.005541</td>\n",
       "      <td>0.005990</td>\n",
       "      <td>...</td>\n",
       "      <td>0.008520</td>\n",
       "      <td>0.008506</td>\n",
       "      <td>0.008494</td>\n",
       "      <td>0.008479</td>\n",
       "      <td>0.008482</td>\n",
       "      <td>0.008457</td>\n",
       "      <td>0.008447</td>\n",
       "      <td>0.008437</td>\n",
       "      <td>0.008416</td>\n",
       "      <td>nc1_ncn5121_no4</td>\n",
       "    </tr>\n",
       "    <tr>\n",
       "      <th>3</th>\n",
       "      <td>0.000819</td>\n",
       "      <td>0.001452</td>\n",
       "      <td>0.002100</td>\n",
       "      <td>0.002755</td>\n",
       "      <td>0.003370</td>\n",
       "      <td>0.003962</td>\n",
       "      <td>0.004510</td>\n",
       "      <td>0.005017</td>\n",
       "      <td>0.005528</td>\n",
       "      <td>0.005978</td>\n",
       "      <td>...</td>\n",
       "      <td>0.008524</td>\n",
       "      <td>0.008516</td>\n",
       "      <td>0.008474</td>\n",
       "      <td>0.008483</td>\n",
       "      <td>0.008479</td>\n",
       "      <td>0.008464</td>\n",
       "      <td>0.008442</td>\n",
       "      <td>0.008435</td>\n",
       "      <td>0.008425</td>\n",
       "      <td>nc1_ncn5121_no4</td>\n",
       "    </tr>\n",
       "    <tr>\n",
       "      <th>4</th>\n",
       "      <td>0.000884</td>\n",
       "      <td>0.001472</td>\n",
       "      <td>0.002113</td>\n",
       "      <td>0.002735</td>\n",
       "      <td>0.003354</td>\n",
       "      <td>0.003940</td>\n",
       "      <td>0.004498</td>\n",
       "      <td>0.005016</td>\n",
       "      <td>0.005539</td>\n",
       "      <td>0.005994</td>\n",
       "      <td>...</td>\n",
       "      <td>0.008494</td>\n",
       "      <td>0.008499</td>\n",
       "      <td>0.008505</td>\n",
       "      <td>0.008468</td>\n",
       "      <td>0.008469</td>\n",
       "      <td>0.008445</td>\n",
       "      <td>0.008433</td>\n",
       "      <td>0.008433</td>\n",
       "      <td>0.008388</td>\n",
       "      <td>nc1_ncn5121_no4</td>\n",
       "    </tr>\n",
       "  </tbody>\n",
       "</table>\n",
       "<p>5 rows × 1011 columns</p>\n",
       "</div>"
      ],
      "text/plain": [
       "       50.0  71.75421209117937  93.50842418235877  115.26263627353815  \\\n",
       "0  0.000801           0.001457           0.002129            0.002763   \n",
       "1  0.000827           0.001476           0.002096            0.002775   \n",
       "2  0.000770           0.001462           0.002094            0.002737   \n",
       "3  0.000819           0.001452           0.002100            0.002755   \n",
       "4  0.000884           0.001472           0.002113            0.002735   \n",
       "\n",
       "   137.01684836471753  158.7710604558969  180.52527254707638  \\\n",
       "0            0.003370           0.003945            0.004515   \n",
       "1            0.003362           0.003950            0.004512   \n",
       "2            0.003353           0.003949            0.004500   \n",
       "3            0.003370           0.003962            0.004510   \n",
       "4            0.003354           0.003940            0.004498   \n",
       "\n",
       "   202.2794846382557  224.0336967294351  245.78790882061452  ...  \\\n",
       "0           0.005036           0.005538            0.005981  ...   \n",
       "1           0.005057           0.005534            0.005997  ...   \n",
       "2           0.005031           0.005541            0.005990  ...   \n",
       "3           0.005017           0.005528            0.005978  ...   \n",
       "4           0.005016           0.005539            0.005994  ...   \n",
       "\n",
       "   21825.966303270565  21847.720515361747  21869.474727452925  \\\n",
       "0            0.008532            0.008513            0.008491   \n",
       "1            0.008506            0.008514            0.008490   \n",
       "2            0.008520            0.008506            0.008494   \n",
       "3            0.008524            0.008516            0.008474   \n",
       "4            0.008494            0.008499            0.008505   \n",
       "\n",
       "   21891.228939544104  21912.983151635282  21934.737363726465  \\\n",
       "0            0.008484            0.008457            0.008454   \n",
       "1            0.008488            0.008481            0.008448   \n",
       "2            0.008479            0.008482            0.008457   \n",
       "3            0.008483            0.008479            0.008464   \n",
       "4            0.008468            0.008469            0.008445   \n",
       "\n",
       "   21956.491575817643  21978.245787908818   22000.0            class  \n",
       "0            0.008432            0.008421  0.008423  nc1_ncn5121_no4  \n",
       "1            0.008445            0.008432  0.008418  nc1_ncn5121_no4  \n",
       "2            0.008447            0.008437  0.008416  nc1_ncn5121_no4  \n",
       "3            0.008442            0.008435  0.008425  nc1_ncn5121_no4  \n",
       "4            0.008433            0.008433  0.008388  nc1_ncn5121_no4  \n",
       "\n",
       "[5 rows x 1011 columns]"
      ]
     },
     "execution_count": 6,
     "metadata": {},
     "output_type": "execute_result"
    }
   ],
   "source": [
    "datasets.head()"
   ]
  },
  {
   "cell_type": "code",
   "execution_count": 7,
   "metadata": {
    "executionInfo": {
     "elapsed": 228,
     "status": "ok",
     "timestamp": 1650470931729,
     "user": {
      "displayName": "M A Al-Mamun",
      "userId": "03900571816985778333"
     },
     "user_tz": -120
    },
    "id": "ytNXqutXbl7O"
   },
   "outputs": [],
   "source": [
    "X = datasets.iloc[:, 0:1010]\n",
    "y = datasets['class']"
   ]
  },
  {
   "cell_type": "code",
   "execution_count": 8,
   "metadata": {},
   "outputs": [
    {
     "name": "stdout",
     "output_type": "stream",
     "text": [
      "Dataset size: 5000\n"
     ]
    }
   ],
   "source": [
    "print(f'Dataset size: {len(X)}')"
   ]
  },
  {
   "cell_type": "code",
   "execution_count": 9,
   "metadata": {
    "executionInfo": {
     "elapsed": 234,
     "status": "ok",
     "timestamp": 1650470934923,
     "user": {
      "displayName": "M A Al-Mamun",
      "userId": "03900571816985778333"
     },
     "user_tz": -120
    },
    "id": "yqHw2-MMbmBp"
   },
   "outputs": [],
   "source": [
    "X_train, X_test, y_train, y_test = train_test_split(X, y, stratify=y, random_state=42, train_size=0.70)\n",
    "\n",
    "X_train = X_train.to_numpy()\n",
    "X_test = X_test.to_numpy()\n",
    "\n",
    "y_train = list(y_train)\n",
    "y_test = list(y_test)\n",
    "\n",
    "input_shape = X_train.shape"
   ]
  },
  {
   "cell_type": "code",
   "execution_count": 10,
   "metadata": {},
   "outputs": [
    {
     "name": "stdout",
     "output_type": "stream",
     "text": [
      "Training dataset size: 3500\n",
      "Test dataset size: 1500\n"
     ]
    }
   ],
   "source": [
    "print(f'Training dataset size: {len(X_train)}')\n",
    "print(f'Test dataset size: {len(X_test)}')"
   ]
  },
  {
   "cell_type": "code",
   "execution_count": 11,
   "metadata": {
    "executionInfo": {
     "elapsed": 266,
     "status": "ok",
     "timestamp": 1650470937305,
     "user": {
      "displayName": "M A Al-Mamun",
      "userId": "03900571816985778333"
     },
     "user_tz": -120
    },
    "id": "39fnEU2rbqUL"
   },
   "outputs": [],
   "source": [
    "NUMBER_OF_CLASSES = 10"
   ]
  },
  {
   "cell_type": "code",
   "execution_count": 12,
   "metadata": {
    "executionInfo": {
     "elapsed": 6,
     "status": "ok",
     "timestamp": 1650470938606,
     "user": {
      "displayName": "M A Al-Mamun",
      "userId": "03900571816985778333"
     },
     "user_tz": -120
    },
    "id": "yjE9b5Qpbslp"
   },
   "outputs": [],
   "source": [
    "class_mapping = {'nc1_ncn5121_no4': 0, 'nc1_ncn5121_no5': 1, 'nc1_switch_sl2': 2, 'nc1_switch_dem': 3, 'nc1_nodevice': 4,\n",
    "                 'nc2_ncn5121_no4': 5, 'nc2_ncn5121_no5': 6, 'nc2_switch_sl2': 7, 'nc2_switch_dem': 8, 'nc2_nodevice': 9,}"
   ]
  },
  {
   "cell_type": "code",
   "execution_count": 13,
   "metadata": {
    "executionInfo": {
     "elapsed": 273,
     "status": "ok",
     "timestamp": 1650470941595,
     "user": {
      "displayName": "M A Al-Mamun",
      "userId": "03900571816985778333"
     },
     "user_tz": -120
    },
    "id": "AP751MBqbuht"
   },
   "outputs": [],
   "source": [
    "classes = ['nc1_ncn5121_no4', 'nc1_ncn5121_no5', 'nc1_switch_sl2', 'nc1_switch_dem', 'nc1_nodevice', 'nc2_ncn5121_no4', 'nc2_ncn5121_no5', 'nc2_switch_sl2', 'nc2_switch_dem', 'nc2_nodevice']"
   ]
  },
  {
   "cell_type": "code",
   "execution_count": 14,
   "metadata": {
    "executionInfo": {
     "elapsed": 2,
     "status": "ok",
     "timestamp": 1650470942977,
     "user": {
      "displayName": "M A Al-Mamun",
      "userId": "03900571816985778333"
     },
     "user_tz": -120
    },
    "id": "YY5OWQZXbwrk"
   },
   "outputs": [],
   "source": [
    "y_train = np.array([class_mapping[label] for label in y_train])\n",
    "y_test = np.array([class_mapping[label] for label in y_test])"
   ]
  },
  {
   "cell_type": "code",
   "execution_count": 15,
   "metadata": {
    "executionInfo": {
     "elapsed": 239,
     "status": "ok",
     "timestamp": 1650470944225,
     "user": {
      "displayName": "M A Al-Mamun",
      "userId": "03900571816985778333"
     },
     "user_tz": -120
    },
    "id": "Z52GKn8_bzDh"
   },
   "outputs": [],
   "source": [
    "y_train = to_categorical(y_train, NUMBER_OF_CLASSES).astype('int32')\n",
    "y_test = to_categorical(y_test, NUMBER_OF_CLASSES).astype('int32')"
   ]
  },
  {
   "cell_type": "code",
   "execution_count": 16,
   "metadata": {
    "executionInfo": {
     "elapsed": 348,
     "status": "ok",
     "timestamp": 1650470946138,
     "user": {
      "displayName": "M A Al-Mamun",
      "userId": "03900571816985778333"
     },
     "user_tz": -120
    },
    "id": "aLygSzQNb094"
   },
   "outputs": [],
   "source": [
    "sc = StandardScaler()\n",
    "X_train = sc.fit_transform(X_train)\n",
    "X_test = sc.transform(X_test)"
   ]
  },
  {
   "cell_type": "code",
   "execution_count": 17,
   "metadata": {
    "executionInfo": {
     "elapsed": 352,
     "status": "ok",
     "timestamp": 1650470950751,
     "user": {
      "displayName": "M A Al-Mamun",
      "userId": "03900571816985778333"
     },
     "user_tz": -120
    },
    "id": "B0LPQO-Pb4Sf"
   },
   "outputs": [],
   "source": [
    "def CLSTMClassifier():\n",
    "    model = Sequential()\n",
    "    model.add(Conv1D(filters=64, kernel_size=3, activation='relu', input_shape=(input_shape[1], 1)))\n",
    "    model.add(MaxPool1D(pool_size=2))\n",
    "    model.add(Bidirectional(RNN(LSTMCell(32))))\n",
    "    model.add(Flatten())\n",
    "    model.add(Dense(100, input_shape=input_shape, activation='relu'))\n",
    "    model.add(Dense(NUMBER_OF_CLASSES, activation='softmax'))\n",
    "\n",
    "    model.compile(optimizer='adam', loss='categorical_crossentropy', metrics=['accuracy'])\n",
    "        \n",
    "    return model"
   ]
  },
  {
   "cell_type": "code",
   "execution_count": 18,
   "metadata": {
    "colab": {
     "base_uri": "https://localhost:8080/"
    },
    "executionInfo": {
     "elapsed": 1351,
     "status": "ok",
     "timestamp": 1650470955065,
     "user": {
      "displayName": "M A Al-Mamun",
      "userId": "03900571816985778333"
     },
     "user_tz": -120
    },
    "id": "nsKeTuIWb6WV",
    "outputId": "abb38726-b007-4da8-e592-4ab9717e298a"
   },
   "outputs": [
    {
     "name": "stdout",
     "output_type": "stream",
     "text": [
      "Model: \"sequential\"\n",
      "_________________________________________________________________\n",
      "Layer (type)                 Output Shape              Param #   \n",
      "=================================================================\n",
      "conv1d (Conv1D)              (None, 1008, 64)          256       \n",
      "_________________________________________________________________\n",
      "max_pooling1d (MaxPooling1D) (None, 504, 64)           0         \n",
      "_________________________________________________________________\n",
      "bidirectional (Bidirectional (None, 64)                24832     \n",
      "_________________________________________________________________\n",
      "flatten (Flatten)            (None, 64)                0         \n",
      "_________________________________________________________________\n",
      "dense (Dense)                (None, 100)               6500      \n",
      "_________________________________________________________________\n",
      "dense_1 (Dense)              (None, 10)                1010      \n",
      "=================================================================\n",
      "Total params: 32,598\n",
      "Trainable params: 32,598\n",
      "Non-trainable params: 0\n",
      "_________________________________________________________________\n"
     ]
    }
   ],
   "source": [
    "c_lstm = CLSTMClassifier()\n",
    "c_lstm.summary()"
   ]
  },
  {
   "cell_type": "code",
   "execution_count": 19,
   "metadata": {
    "colab": {
     "base_uri": "https://localhost:8080/"
    },
    "executionInfo": {
     "elapsed": 258,
     "status": "ok",
     "timestamp": 1650470958464,
     "user": {
      "displayName": "M A Al-Mamun",
      "userId": "03900571816985778333"
     },
     "user_tz": -120
    },
    "id": "TNjI_Dhbb8VD",
    "outputId": "c95ae65b-9398-4122-d40e-baa5df07b2a9"
   },
   "outputs": [
    {
     "data": {
      "text/plain": [
       "(3500, 1010, 1)"
      ]
     },
     "execution_count": 19,
     "metadata": {},
     "output_type": "execute_result"
    }
   ],
   "source": [
    "X_train_reshaped = np.reshape(X_train, (input_shape[0], input_shape[1], 1))\n",
    "X_train_reshaped.shape"
   ]
  },
  {
   "cell_type": "code",
   "execution_count": 20,
   "metadata": {},
   "outputs": [
    {
     "data": {
      "text/plain": [
       "(1500, 1010, 1)"
      ]
     },
     "execution_count": 20,
     "metadata": {},
     "output_type": "execute_result"
    }
   ],
   "source": [
    "X_test_reshaped = np.reshape(X_test, (X_test.shape[0], X_test.shape[1], 1))\n",
    "X_test_reshaped.shape"
   ]
  },
  {
   "cell_type": "code",
   "execution_count": 21,
   "metadata": {
    "colab": {
     "base_uri": "https://localhost:8080/"
    },
    "executionInfo": {
     "elapsed": 1826069,
     "status": "ok",
     "timestamp": 1650472787727,
     "user": {
      "displayName": "M A Al-Mamun",
      "userId": "03900571816985778333"
     },
     "user_tz": -120
    },
    "id": "Vb8UW5u8b_IT",
    "outputId": "9901000c-3809-4b2e-93e1-895782ae9ebe"
   },
   "outputs": [
    {
     "name": "stdout",
     "output_type": "stream",
     "text": [
      "Epoch 1/250\n",
      "88/88 - 40s - loss: 1.1556 - accuracy: 0.6164 - val_loss: 0.4091 - val_accuracy: 0.8900\n",
      "Epoch 2/250\n",
      "88/88 - 32s - loss: 0.2815 - accuracy: 0.8879 - val_loss: 0.2152 - val_accuracy: 0.9386\n",
      "Epoch 3/250\n",
      "88/88 - 32s - loss: 0.2087 - accuracy: 0.9196 - val_loss: 0.2112 - val_accuracy: 0.9043\n",
      "Epoch 4/250\n",
      "88/88 - 33s - loss: 0.1916 - accuracy: 0.9254 - val_loss: 0.1968 - val_accuracy: 0.9000\n",
      "Epoch 5/250\n",
      "88/88 - 32s - loss: 0.1540 - accuracy: 0.9414 - val_loss: 0.1643 - val_accuracy: 0.9357\n",
      "Epoch 6/250\n",
      "88/88 - 31s - loss: 0.1437 - accuracy: 0.9425 - val_loss: 0.1315 - val_accuracy: 0.9557\n",
      "Epoch 7/250\n",
      "88/88 - 31s - loss: 0.1310 - accuracy: 0.9454 - val_loss: 0.1275 - val_accuracy: 0.9571\n",
      "Epoch 8/250\n",
      "88/88 - 31s - loss: 0.1136 - accuracy: 0.9561 - val_loss: 0.1352 - val_accuracy: 0.9400\n",
      "Epoch 9/250\n",
      "88/88 - 31s - loss: 0.1164 - accuracy: 0.9546 - val_loss: 0.1196 - val_accuracy: 0.9500\n",
      "Epoch 10/250\n",
      "88/88 - 30s - loss: 0.0972 - accuracy: 0.9604 - val_loss: 0.0929 - val_accuracy: 0.9571\n",
      "Epoch 11/250\n",
      "88/88 - 32s - loss: 0.1286 - accuracy: 0.9457 - val_loss: 0.1049 - val_accuracy: 0.9586\n",
      "Epoch 12/250\n",
      "88/88 - 32s - loss: 0.0947 - accuracy: 0.9614 - val_loss: 0.0837 - val_accuracy: 0.9657\n",
      "Epoch 13/250\n",
      "88/88 - 31s - loss: 0.0981 - accuracy: 0.9593 - val_loss: 0.0879 - val_accuracy: 0.9643\n",
      "Epoch 14/250\n",
      "88/88 - 31s - loss: 0.0972 - accuracy: 0.9604 - val_loss: 0.0956 - val_accuracy: 0.9600\n",
      "Epoch 15/250\n",
      "88/88 - 31s - loss: 0.0835 - accuracy: 0.9657 - val_loss: 0.0775 - val_accuracy: 0.9800\n",
      "Epoch 16/250\n",
      "88/88 - 31s - loss: 0.0699 - accuracy: 0.9707 - val_loss: 0.1202 - val_accuracy: 0.9300\n",
      "Epoch 17/250\n",
      "88/88 - 31s - loss: 0.0749 - accuracy: 0.9729 - val_loss: 0.0879 - val_accuracy: 0.9686\n",
      "Epoch 18/250\n",
      "88/88 - 31s - loss: 0.0636 - accuracy: 0.9746 - val_loss: 0.0542 - val_accuracy: 0.9800\n",
      "Epoch 19/250\n",
      "88/88 - 31s - loss: 0.0769 - accuracy: 0.9689 - val_loss: 0.0758 - val_accuracy: 0.9814\n",
      "Epoch 20/250\n",
      "88/88 - 31s - loss: 0.0831 - accuracy: 0.9668 - val_loss: 0.0865 - val_accuracy: 0.9614\n",
      "Epoch 21/250\n",
      "88/88 - 32s - loss: 0.0708 - accuracy: 0.9707 - val_loss: 0.0452 - val_accuracy: 0.9814\n",
      "Epoch 22/250\n",
      "88/88 - 31s - loss: 0.0820 - accuracy: 0.9675 - val_loss: 0.0471 - val_accuracy: 0.9871\n",
      "Epoch 23/250\n",
      "88/88 - 32s - loss: 0.0660 - accuracy: 0.9718 - val_loss: 0.0459 - val_accuracy: 0.9871\n",
      "Epoch 24/250\n",
      "88/88 - 31s - loss: 0.0529 - accuracy: 0.9804 - val_loss: 0.0579 - val_accuracy: 0.9771\n",
      "Epoch 25/250\n",
      "88/88 - 31s - loss: 0.0616 - accuracy: 0.9729 - val_loss: 0.0395 - val_accuracy: 0.9871\n",
      "Epoch 26/250\n",
      "88/88 - 31s - loss: 0.0680 - accuracy: 0.9736 - val_loss: 0.0536 - val_accuracy: 0.9800\n",
      "Epoch 27/250\n",
      "88/88 - 31s - loss: 0.0486 - accuracy: 0.9807 - val_loss: 0.0395 - val_accuracy: 0.9843\n",
      "Epoch 28/250\n",
      "88/88 - 31s - loss: 0.0552 - accuracy: 0.9771 - val_loss: 0.0693 - val_accuracy: 0.9671\n",
      "Epoch 29/250\n",
      "88/88 - 31s - loss: 0.0496 - accuracy: 0.9800 - val_loss: 0.0493 - val_accuracy: 0.9800\n",
      "Epoch 30/250\n",
      "88/88 - 32s - loss: 0.0515 - accuracy: 0.9800 - val_loss: 0.0334 - val_accuracy: 0.9871\n",
      "Epoch 31/250\n",
      "88/88 - 31s - loss: 0.0452 - accuracy: 0.9818 - val_loss: 0.0416 - val_accuracy: 0.9857\n",
      "Epoch 32/250\n",
      "88/88 - 31s - loss: 0.0432 - accuracy: 0.9807 - val_loss: 0.0573 - val_accuracy: 0.9786\n",
      "Epoch 33/250\n",
      "88/88 - 31s - loss: 0.0514 - accuracy: 0.9818 - val_loss: 0.0467 - val_accuracy: 0.9814\n",
      "Epoch 34/250\n",
      "88/88 - 31s - loss: 0.0650 - accuracy: 0.9757 - val_loss: 0.0699 - val_accuracy: 0.9814\n",
      "Epoch 35/250\n",
      "88/88 - 31s - loss: 0.0675 - accuracy: 0.9775 - val_loss: 0.0528 - val_accuracy: 0.9786\n",
      "Epoch 36/250\n",
      "88/88 - 32s - loss: 0.0551 - accuracy: 0.9786 - val_loss: 0.0616 - val_accuracy: 0.9800\n",
      "Epoch 37/250\n",
      "88/88 - 31s - loss: 0.0471 - accuracy: 0.9821 - val_loss: 0.0665 - val_accuracy: 0.9757\n",
      "Epoch 38/250\n",
      "88/88 - 31s - loss: 0.0673 - accuracy: 0.9736 - val_loss: 0.0509 - val_accuracy: 0.9829\n",
      "Epoch 39/250\n",
      "88/88 - 31s - loss: 0.0594 - accuracy: 0.9804 - val_loss: 0.0493 - val_accuracy: 0.9800\n",
      "Epoch 40/250\n",
      "88/88 - 27s - loss: 0.0657 - accuracy: 0.9771 - val_loss: 0.1666 - val_accuracy: 0.9400\n",
      "Epoch 41/250\n",
      "88/88 - 28s - loss: 0.0915 - accuracy: 0.9654 - val_loss: 0.0442 - val_accuracy: 0.9857\n",
      "Epoch 42/250\n",
      "88/88 - 27s - loss: 0.0499 - accuracy: 0.9804 - val_loss: 0.0505 - val_accuracy: 0.9800\n",
      "Epoch 43/250\n",
      "88/88 - 26s - loss: 0.0556 - accuracy: 0.9743 - val_loss: 0.0433 - val_accuracy: 0.9800\n",
      "Epoch 44/250\n",
      "88/88 - 26s - loss: 0.0450 - accuracy: 0.9821 - val_loss: 0.0437 - val_accuracy: 0.9829\n",
      "Epoch 45/250\n",
      "88/88 - 26s - loss: 0.0493 - accuracy: 0.9814 - val_loss: 0.0515 - val_accuracy: 0.9843\n",
      "Epoch 46/250\n",
      "88/88 - 26s - loss: 0.0642 - accuracy: 0.9757 - val_loss: 0.0317 - val_accuracy: 0.9871\n",
      "Epoch 47/250\n",
      "88/88 - 26s - loss: 0.0409 - accuracy: 0.9829 - val_loss: 0.0478 - val_accuracy: 0.9814\n",
      "Epoch 48/250\n",
      "88/88 - 26s - loss: 0.0469 - accuracy: 0.9804 - val_loss: 0.0497 - val_accuracy: 0.9771\n",
      "Epoch 49/250\n",
      "88/88 - 27s - loss: 0.0692 - accuracy: 0.9750 - val_loss: 0.0291 - val_accuracy: 0.9886\n",
      "Epoch 50/250\n",
      "88/88 - 27s - loss: 0.0383 - accuracy: 0.9839 - val_loss: 0.0290 - val_accuracy: 0.9857\n",
      "Epoch 51/250\n",
      "88/88 - 27s - loss: 0.0376 - accuracy: 0.9839 - val_loss: 0.0281 - val_accuracy: 0.9886\n",
      "Epoch 52/250\n",
      "88/88 - 27s - loss: 0.0399 - accuracy: 0.9829 - val_loss: 0.0337 - val_accuracy: 0.9886\n",
      "Epoch 53/250\n",
      "88/88 - 26s - loss: 0.0409 - accuracy: 0.9836 - val_loss: 0.0440 - val_accuracy: 0.9829\n",
      "Epoch 54/250\n",
      "88/88 - 27s - loss: 0.0407 - accuracy: 0.9821 - val_loss: 0.0579 - val_accuracy: 0.9771\n",
      "Epoch 55/250\n",
      "88/88 - 26s - loss: 0.0398 - accuracy: 0.9846 - val_loss: 0.0356 - val_accuracy: 0.9843\n",
      "Epoch 56/250\n",
      "88/88 - 26s - loss: 0.0420 - accuracy: 0.9839 - val_loss: 0.0300 - val_accuracy: 0.9886\n",
      "Epoch 57/250\n",
      "88/88 - 27s - loss: 0.0526 - accuracy: 0.9789 - val_loss: 0.1239 - val_accuracy: 0.9543\n",
      "Epoch 58/250\n",
      "88/88 - 27s - loss: 0.0452 - accuracy: 0.9811 - val_loss: 0.0467 - val_accuracy: 0.9814\n",
      "Epoch 59/250\n",
      "88/88 - 26s - loss: 0.0447 - accuracy: 0.9836 - val_loss: 0.0339 - val_accuracy: 0.9886\n",
      "Epoch 60/250\n",
      "88/88 - 28s - loss: 0.0376 - accuracy: 0.9850 - val_loss: 0.0271 - val_accuracy: 0.9886\n",
      "Epoch 61/250\n",
      "88/88 - 26s - loss: 0.0338 - accuracy: 0.9836 - val_loss: 0.0327 - val_accuracy: 0.9857\n",
      "Epoch 62/250\n",
      "88/88 - 26s - loss: 0.0327 - accuracy: 0.9868 - val_loss: 0.0322 - val_accuracy: 0.9857\n",
      "Epoch 63/250\n",
      "88/88 - 27s - loss: 0.0360 - accuracy: 0.9854 - val_loss: 0.0282 - val_accuracy: 0.9886\n",
      "Epoch 64/250\n",
      "88/88 - 26s - loss: 0.0427 - accuracy: 0.9818 - val_loss: 0.0418 - val_accuracy: 0.9814\n",
      "Epoch 65/250\n",
      "88/88 - 26s - loss: 0.0374 - accuracy: 0.9846 - val_loss: 0.0334 - val_accuracy: 0.9871\n",
      "Epoch 66/250\n",
      "88/88 - 26s - loss: 0.0411 - accuracy: 0.9832 - val_loss: 0.0720 - val_accuracy: 0.9771\n",
      "Epoch 67/250\n",
      "88/88 - 26s - loss: 0.0375 - accuracy: 0.9846 - val_loss: 0.0391 - val_accuracy: 0.9886\n",
      "Epoch 68/250\n",
      "88/88 - 29s - loss: 0.0415 - accuracy: 0.9839 - val_loss: 0.0274 - val_accuracy: 0.9886\n",
      "Epoch 69/250\n",
      "88/88 - 26s - loss: 0.0369 - accuracy: 0.9846 - val_loss: 0.0407 - val_accuracy: 0.9814\n",
      "Epoch 70/250\n",
      "88/88 - 26s - loss: 0.0384 - accuracy: 0.9857 - val_loss: 0.0244 - val_accuracy: 0.9900\n",
      "Epoch 71/250\n",
      "88/88 - 33s - loss: 0.0355 - accuracy: 0.9846 - val_loss: 0.0260 - val_accuracy: 0.9886\n",
      "Epoch 72/250\n",
      "88/88 - 33s - loss: 0.0481 - accuracy: 0.9821 - val_loss: 0.0794 - val_accuracy: 0.9800\n",
      "Epoch 73/250\n",
      "88/88 - 31s - loss: 0.0594 - accuracy: 0.9754 - val_loss: 0.0327 - val_accuracy: 0.9857\n",
      "Epoch 74/250\n",
      "88/88 - 30s - loss: 0.0354 - accuracy: 0.9850 - val_loss: 0.0483 - val_accuracy: 0.9814\n",
      "Epoch 75/250\n",
      "88/88 - 30s - loss: 0.0326 - accuracy: 0.9864 - val_loss: 0.0241 - val_accuracy: 0.9886\n",
      "Epoch 76/250\n",
      "88/88 - 31s - loss: 0.0479 - accuracy: 0.9804 - val_loss: 0.0257 - val_accuracy: 0.9900\n",
      "Epoch 77/250\n",
      "88/88 - 33s - loss: 0.0295 - accuracy: 0.9875 - val_loss: 0.0263 - val_accuracy: 0.9886\n",
      "Epoch 78/250\n",
      "88/88 - 33s - loss: 0.0392 - accuracy: 0.9825 - val_loss: 0.0507 - val_accuracy: 0.9814\n",
      "Epoch 79/250\n",
      "88/88 - 32s - loss: 0.0339 - accuracy: 0.9861 - val_loss: 0.0271 - val_accuracy: 0.9857\n",
      "Epoch 80/250\n",
      "88/88 - 30s - loss: 0.0320 - accuracy: 0.9857 - val_loss: 0.0324 - val_accuracy: 0.9900\n",
      "Epoch 81/250\n",
      "88/88 - 31s - loss: 0.0438 - accuracy: 0.9825 - val_loss: 0.0261 - val_accuracy: 0.9886\n",
      "Epoch 82/250\n",
      "88/88 - 31s - loss: 0.0301 - accuracy: 0.9893 - val_loss: 0.0286 - val_accuracy: 0.9886\n"
     ]
    },
    {
     "name": "stdout",
     "output_type": "stream",
     "text": [
      "Epoch 83/250\n",
      "88/88 - 31s - loss: 0.0474 - accuracy: 0.9793 - val_loss: 0.0288 - val_accuracy: 0.9871\n",
      "Epoch 84/250\n",
      "88/88 - 31s - loss: 0.0320 - accuracy: 0.9868 - val_loss: 0.0224 - val_accuracy: 0.9914\n",
      "Epoch 85/250\n",
      "88/88 - 31s - loss: 0.0370 - accuracy: 0.9850 - val_loss: 0.0290 - val_accuracy: 0.9857\n",
      "Epoch 86/250\n",
      "88/88 - 31s - loss: 0.0322 - accuracy: 0.9864 - val_loss: 0.0245 - val_accuracy: 0.9900\n",
      "Epoch 87/250\n",
      "88/88 - 31s - loss: 0.0307 - accuracy: 0.9864 - val_loss: 0.0292 - val_accuracy: 0.9886\n",
      "Epoch 88/250\n",
      "88/88 - 31s - loss: 0.0383 - accuracy: 0.9814 - val_loss: 0.0251 - val_accuracy: 0.9886\n",
      "Epoch 89/250\n",
      "88/88 - 31s - loss: 0.0321 - accuracy: 0.9846 - val_loss: 0.0288 - val_accuracy: 0.9871\n",
      "Epoch 90/250\n",
      "88/88 - 31s - loss: 0.0357 - accuracy: 0.9864 - val_loss: 0.1543 - val_accuracy: 0.9457\n",
      "Epoch 91/250\n",
      "88/88 - 31s - loss: 0.0363 - accuracy: 0.9839 - val_loss: 0.0246 - val_accuracy: 0.9886\n",
      "Epoch 92/250\n",
      "88/88 - 31s - loss: 0.0309 - accuracy: 0.9864 - val_loss: 0.0305 - val_accuracy: 0.9886\n",
      "Epoch 93/250\n",
      "88/88 - 31s - loss: 0.0296 - accuracy: 0.9868 - val_loss: 0.0211 - val_accuracy: 0.9900\n",
      "Epoch 94/250\n",
      "88/88 - 30s - loss: 0.0471 - accuracy: 0.9804 - val_loss: 0.0324 - val_accuracy: 0.9886\n",
      "Epoch 95/250\n",
      "88/88 - 31s - loss: 0.0293 - accuracy: 0.9871 - val_loss: 0.0267 - val_accuracy: 0.9886\n",
      "Epoch 96/250\n",
      "88/88 - 31s - loss: 0.0469 - accuracy: 0.9789 - val_loss: 0.0296 - val_accuracy: 0.9871\n",
      "Epoch 97/250\n",
      "88/88 - 31s - loss: 0.0696 - accuracy: 0.9768 - val_loss: 0.0333 - val_accuracy: 0.9871\n",
      "Epoch 98/250\n",
      "88/88 - 31s - loss: 0.0486 - accuracy: 0.9836 - val_loss: 0.0276 - val_accuracy: 0.9886\n",
      "Epoch 99/250\n",
      "88/88 - 31s - loss: 0.0379 - accuracy: 0.9846 - val_loss: 0.0256 - val_accuracy: 0.9886\n",
      "Epoch 100/250\n",
      "88/88 - 30s - loss: 0.0348 - accuracy: 0.9861 - val_loss: 0.0318 - val_accuracy: 0.9857\n",
      "Epoch 101/250\n",
      "88/88 - 31s - loss: 0.0345 - accuracy: 0.9868 - val_loss: 0.0417 - val_accuracy: 0.9829\n",
      "Epoch 102/250\n",
      "88/88 - 31s - loss: 0.0482 - accuracy: 0.9814 - val_loss: 0.0265 - val_accuracy: 0.9900\n",
      "Epoch 103/250\n",
      "88/88 - 31s - loss: 0.0279 - accuracy: 0.9893 - val_loss: 0.0223 - val_accuracy: 0.9914\n",
      "Epoch 104/250\n",
      "88/88 - 31s - loss: 0.0292 - accuracy: 0.9868 - val_loss: 0.0244 - val_accuracy: 0.9886\n",
      "Epoch 105/250\n",
      "88/88 - 31s - loss: 0.0414 - accuracy: 0.9843 - val_loss: 0.0253 - val_accuracy: 0.9886\n",
      "Epoch 106/250\n",
      "88/88 - 32s - loss: 0.0293 - accuracy: 0.9868 - val_loss: 0.0205 - val_accuracy: 0.9914\n",
      "Epoch 107/250\n",
      "88/88 - 31s - loss: 0.0324 - accuracy: 0.9879 - val_loss: 0.0221 - val_accuracy: 0.9886\n",
      "Epoch 108/250\n",
      "88/88 - 31s - loss: 0.0318 - accuracy: 0.9861 - val_loss: 0.0262 - val_accuracy: 0.9886\n",
      "Epoch 109/250\n",
      "88/88 - 31s - loss: 0.0276 - accuracy: 0.9896 - val_loss: 0.0419 - val_accuracy: 0.9843\n",
      "Epoch 110/250\n",
      "88/88 - 31s - loss: 0.0515 - accuracy: 0.9811 - val_loss: 0.0574 - val_accuracy: 0.9800\n",
      "Epoch 111/250\n",
      "88/88 - 30s - loss: 0.0324 - accuracy: 0.9871 - val_loss: 0.0229 - val_accuracy: 0.9900\n",
      "Epoch 112/250\n",
      "88/88 - 31s - loss: 0.0331 - accuracy: 0.9871 - val_loss: 0.0236 - val_accuracy: 0.9914\n",
      "Epoch 113/250\n",
      "88/88 - 33s - loss: 0.0245 - accuracy: 0.9886 - val_loss: 0.0185 - val_accuracy: 0.9914\n",
      "Epoch 114/250\n",
      "88/88 - 35s - loss: 0.0202 - accuracy: 0.9925 - val_loss: 0.0258 - val_accuracy: 0.9857\n",
      "Epoch 115/250\n",
      "88/88 - 34s - loss: 0.0292 - accuracy: 0.9882 - val_loss: 0.0252 - val_accuracy: 0.9900\n",
      "Epoch 116/250\n",
      "88/88 - 34s - loss: 0.0257 - accuracy: 0.9893 - val_loss: 0.0233 - val_accuracy: 0.9914\n",
      "Epoch 117/250\n",
      "88/88 - 34s - loss: 0.0193 - accuracy: 0.9929 - val_loss: 0.0148 - val_accuracy: 0.9971\n",
      "Epoch 118/250\n",
      "88/88 - 35s - loss: 0.0324 - accuracy: 0.9882 - val_loss: 0.0295 - val_accuracy: 0.9857\n",
      "Epoch 119/250\n",
      "88/88 - 33s - loss: 0.0335 - accuracy: 0.9857 - val_loss: 0.0372 - val_accuracy: 0.9857\n",
      "Epoch 120/250\n",
      "88/88 - 33s - loss: 0.0346 - accuracy: 0.9843 - val_loss: 0.0198 - val_accuracy: 0.9900\n",
      "Epoch 121/250\n",
      "88/88 - 34s - loss: 0.0273 - accuracy: 0.9896 - val_loss: 0.0318 - val_accuracy: 0.9914\n",
      "Epoch 122/250\n",
      "88/88 - 31s - loss: 0.0395 - accuracy: 0.9843 - val_loss: 0.0826 - val_accuracy: 0.9686\n",
      "Epoch 123/250\n",
      "88/88 - 32s - loss: 0.0980 - accuracy: 0.9700 - val_loss: 0.0412 - val_accuracy: 0.9929\n",
      "Epoch 124/250\n",
      "88/88 - 31s - loss: 0.0307 - accuracy: 0.9889 - val_loss: 0.0221 - val_accuracy: 0.9900\n",
      "Epoch 125/250\n",
      "88/88 - 31s - loss: 0.0402 - accuracy: 0.9871 - val_loss: 0.0457 - val_accuracy: 0.9871\n",
      "Epoch 126/250\n",
      "88/88 - 30s - loss: 0.0311 - accuracy: 0.9896 - val_loss: 0.0303 - val_accuracy: 0.9943\n",
      "Epoch 127/250\n",
      "88/88 - 31s - loss: 0.0304 - accuracy: 0.9882 - val_loss: 0.0226 - val_accuracy: 0.9929\n",
      "Epoch 128/250\n",
      "88/88 - 30s - loss: 0.0257 - accuracy: 0.9900 - val_loss: 0.0203 - val_accuracy: 0.9900\n",
      "Epoch 129/250\n",
      "88/88 - 31s - loss: 0.0253 - accuracy: 0.9907 - val_loss: 0.0159 - val_accuracy: 0.9929\n",
      "Epoch 130/250\n",
      "88/88 - 30s - loss: 0.0807 - accuracy: 0.9654 - val_loss: 0.0474 - val_accuracy: 0.9829\n",
      "Epoch 131/250\n",
      "88/88 - 30s - loss: 0.0827 - accuracy: 0.9729 - val_loss: 0.0339 - val_accuracy: 0.9871\n",
      "Epoch 132/250\n",
      "88/88 - 30s - loss: 0.0260 - accuracy: 0.9900 - val_loss: 0.0216 - val_accuracy: 0.9914\n",
      "Epoch 133/250\n",
      "88/88 - 31s - loss: 0.0349 - accuracy: 0.9843 - val_loss: 0.0283 - val_accuracy: 0.9914\n",
      "Epoch 134/250\n",
      "88/88 - 30s - loss: 0.0273 - accuracy: 0.9882 - val_loss: 0.0222 - val_accuracy: 0.9929\n",
      "Epoch 135/250\n",
      "88/88 - 31s - loss: 0.0236 - accuracy: 0.9921 - val_loss: 0.0254 - val_accuracy: 0.9900\n",
      "Epoch 136/250\n",
      "88/88 - 31s - loss: 0.0283 - accuracy: 0.9886 - val_loss: 0.0281 - val_accuracy: 0.9900\n",
      "Epoch 137/250\n",
      "88/88 - 31s - loss: 0.0309 - accuracy: 0.9879 - val_loss: 0.0251 - val_accuracy: 0.9871\n",
      "Epoch 138/250\n",
      "88/88 - 30s - loss: 0.0273 - accuracy: 0.9889 - val_loss: 0.0270 - val_accuracy: 0.9886\n",
      "Epoch 139/250\n",
      "88/88 - 30s - loss: 0.0253 - accuracy: 0.9893 - val_loss: 0.0190 - val_accuracy: 0.9914\n",
      "Epoch 140/250\n",
      "88/88 - 31s - loss: 0.0305 - accuracy: 0.9871 - val_loss: 0.0184 - val_accuracy: 0.9957\n",
      "Epoch 141/250\n",
      "88/88 - 31s - loss: 0.0282 - accuracy: 0.9864 - val_loss: 0.0183 - val_accuracy: 0.9957\n",
      "Epoch 142/250\n",
      "88/88 - 31s - loss: 0.0250 - accuracy: 0.9907 - val_loss: 0.0227 - val_accuracy: 0.9886\n",
      "Epoch 143/250\n",
      "88/88 - 31s - loss: 0.0344 - accuracy: 0.9875 - val_loss: 0.0677 - val_accuracy: 0.9786\n",
      "Epoch 144/250\n",
      "88/88 - 30s - loss: 0.0827 - accuracy: 0.9704 - val_loss: 0.0240 - val_accuracy: 0.9886\n",
      "Epoch 145/250\n",
      "88/88 - 30s - loss: 0.0264 - accuracy: 0.9904 - val_loss: 0.0196 - val_accuracy: 0.9914\n",
      "Epoch 146/250\n",
      "88/88 - 30s - loss: 0.0250 - accuracy: 0.9893 - val_loss: 0.0235 - val_accuracy: 0.9929\n",
      "Epoch 147/250\n",
      "88/88 - 30s - loss: 0.0231 - accuracy: 0.9907 - val_loss: 0.0211 - val_accuracy: 0.9943\n",
      "Epoch 148/250\n",
      "88/88 - 33s - loss: 0.0243 - accuracy: 0.9900 - val_loss: 0.0281 - val_accuracy: 0.9886\n",
      "Epoch 149/250\n",
      "88/88 - 31s - loss: 0.0231 - accuracy: 0.9896 - val_loss: 0.0218 - val_accuracy: 0.9929\n",
      "Epoch 150/250\n",
      "88/88 - 30s - loss: 0.0224 - accuracy: 0.9918 - val_loss: 0.0507 - val_accuracy: 0.9743\n",
      "Epoch 151/250\n",
      "88/88 - 31s - loss: 0.0267 - accuracy: 0.9900 - val_loss: 0.1084 - val_accuracy: 0.9486\n",
      "Epoch 152/250\n",
      "88/88 - 31s - loss: 0.0296 - accuracy: 0.9879 - val_loss: 0.0181 - val_accuracy: 0.9929\n",
      "Epoch 153/250\n",
      "88/88 - 31s - loss: 0.0226 - accuracy: 0.9904 - val_loss: 0.0231 - val_accuracy: 0.9900\n",
      "Epoch 154/250\n",
      "88/88 - 32s - loss: 0.0187 - accuracy: 0.9918 - val_loss: 0.0175 - val_accuracy: 0.9971\n",
      "Epoch 155/250\n",
      "88/88 - 31s - loss: 0.0361 - accuracy: 0.9854 - val_loss: 0.0429 - val_accuracy: 0.9771\n",
      "Epoch 156/250\n",
      "88/88 - 32s - loss: 0.0309 - accuracy: 0.9868 - val_loss: 0.0205 - val_accuracy: 0.9914\n",
      "Epoch 157/250\n",
      "88/88 - 33s - loss: 0.0233 - accuracy: 0.9914 - val_loss: 0.0212 - val_accuracy: 0.9943\n",
      "Epoch 158/250\n",
      "88/88 - 32s - loss: 0.0207 - accuracy: 0.9914 - val_loss: 0.0104 - val_accuracy: 0.9971\n",
      "Epoch 159/250\n",
      "88/88 - 31s - loss: 0.0215 - accuracy: 0.9914 - val_loss: 0.0123 - val_accuracy: 0.9943\n",
      "Epoch 160/250\n",
      "88/88 - 31s - loss: 0.0545 - accuracy: 0.9800 - val_loss: 0.1149 - val_accuracy: 0.9429\n",
      "Epoch 161/250\n",
      "88/88 - 31s - loss: 0.0249 - accuracy: 0.9900 - val_loss: 0.0178 - val_accuracy: 0.9943\n",
      "Epoch 162/250\n",
      "88/88 - 30s - loss: 0.0433 - accuracy: 0.9850 - val_loss: 0.0408 - val_accuracy: 0.9857\n",
      "Epoch 163/250\n",
      "88/88 - 30s - loss: 0.0359 - accuracy: 0.9857 - val_loss: 0.0441 - val_accuracy: 0.9871\n"
     ]
    },
    {
     "name": "stdout",
     "output_type": "stream",
     "text": [
      "Epoch 164/250\n",
      "88/88 - 31s - loss: 0.0371 - accuracy: 0.9846 - val_loss: 0.0573 - val_accuracy: 0.9700\n",
      "Epoch 165/250\n",
      "88/88 - 31s - loss: 0.0288 - accuracy: 0.9882 - val_loss: 0.0173 - val_accuracy: 0.9943\n",
      "Epoch 166/250\n",
      "88/88 - 31s - loss: 0.0241 - accuracy: 0.9879 - val_loss: 0.0326 - val_accuracy: 0.9886\n",
      "Epoch 167/250\n",
      "88/88 - 32s - loss: 0.0252 - accuracy: 0.9896 - val_loss: 0.0681 - val_accuracy: 0.9757\n",
      "Epoch 168/250\n",
      "88/88 - 31s - loss: 0.0223 - accuracy: 0.9914 - val_loss: 0.0212 - val_accuracy: 0.9914\n",
      "Epoch 169/250\n",
      "88/88 - 31s - loss: 0.0150 - accuracy: 0.9939 - val_loss: 0.0167 - val_accuracy: 0.9929\n",
      "Epoch 170/250\n",
      "88/88 - 32s - loss: 0.0129 - accuracy: 0.9954 - val_loss: 0.0061 - val_accuracy: 1.0000\n",
      "Epoch 171/250\n",
      "88/88 - 32s - loss: 0.0271 - accuracy: 0.9893 - val_loss: 0.0072 - val_accuracy: 0.9986\n",
      "Epoch 172/250\n",
      "88/88 - 32s - loss: 0.0088 - accuracy: 0.9979 - val_loss: 0.0184 - val_accuracy: 0.9957\n",
      "Epoch 173/250\n",
      "88/88 - 31s - loss: 0.0166 - accuracy: 0.9932 - val_loss: 0.0809 - val_accuracy: 0.9800\n",
      "Epoch 174/250\n",
      "88/88 - 31s - loss: 0.0197 - accuracy: 0.9921 - val_loss: 0.0061 - val_accuracy: 0.9971\n",
      "Epoch 175/250\n",
      "88/88 - 31s - loss: 0.0112 - accuracy: 0.9964 - val_loss: 0.0050 - val_accuracy: 0.9971\n",
      "Epoch 176/250\n",
      "88/88 - 32s - loss: 0.0030 - accuracy: 1.0000 - val_loss: 0.0033 - val_accuracy: 0.9986\n",
      "Epoch 177/250\n",
      "88/88 - 31s - loss: 0.0291 - accuracy: 0.9914 - val_loss: 0.0206 - val_accuracy: 0.9914\n",
      "Epoch 178/250\n",
      "88/88 - 31s - loss: 0.0324 - accuracy: 0.9879 - val_loss: 0.0276 - val_accuracy: 0.9971\n",
      "Epoch 179/250\n",
      "88/88 - 31s - loss: 0.0096 - accuracy: 0.9964 - val_loss: 0.0057 - val_accuracy: 1.0000\n",
      "Epoch 180/250\n",
      "88/88 - 31s - loss: 0.0110 - accuracy: 0.9961 - val_loss: 0.0030 - val_accuracy: 1.0000\n",
      "Epoch 181/250\n",
      "88/88 - 31s - loss: 0.0039 - accuracy: 0.9982 - val_loss: 0.0032 - val_accuracy: 0.9986\n",
      "Epoch 182/250\n",
      "88/88 - 30s - loss: 0.0437 - accuracy: 0.9854 - val_loss: 0.0195 - val_accuracy: 0.9943\n",
      "Epoch 183/250\n",
      "88/88 - 31s - loss: 0.0117 - accuracy: 0.9946 - val_loss: 0.0085 - val_accuracy: 0.9986\n",
      "Epoch 184/250\n",
      "88/88 - 31s - loss: 0.0089 - accuracy: 0.9968 - val_loss: 0.0093 - val_accuracy: 0.9971\n",
      "Epoch 185/250\n",
      "88/88 - 30s - loss: 0.0285 - accuracy: 0.9918 - val_loss: 0.0052 - val_accuracy: 0.9986\n",
      "Epoch 186/250\n",
      "88/88 - 31s - loss: 0.0066 - accuracy: 0.9982 - val_loss: 0.0120 - val_accuracy: 0.9971\n",
      "Epoch 187/250\n",
      "88/88 - 31s - loss: 0.0062 - accuracy: 0.9979 - val_loss: 0.0131 - val_accuracy: 0.9971\n",
      "Epoch 188/250\n",
      "88/88 - 31s - loss: 0.0019 - accuracy: 0.9996 - val_loss: 0.0073 - val_accuracy: 0.9971\n",
      "Epoch 189/250\n",
      "88/88 - 32s - loss: 0.0421 - accuracy: 0.9850 - val_loss: 0.0292 - val_accuracy: 0.9886\n",
      "Epoch 190/250\n",
      "88/88 - 31s - loss: 0.0147 - accuracy: 0.9943 - val_loss: 0.0036 - val_accuracy: 0.9986\n",
      "Epoch 191/250\n",
      "88/88 - 31s - loss: 0.0027 - accuracy: 0.9996 - val_loss: 0.0031 - val_accuracy: 0.9986\n",
      "Epoch 192/250\n",
      "88/88 - 35s - loss: 8.9932e-04 - accuracy: 1.0000 - val_loss: 9.4828e-04 - val_accuracy: 1.0000\n",
      "Epoch 193/250\n",
      "88/88 - 35s - loss: 7.3918e-04 - accuracy: 1.0000 - val_loss: 0.0075 - val_accuracy: 0.9971\n",
      "Epoch 194/250\n",
      "88/88 - 33s - loss: 0.0233 - accuracy: 0.9907 - val_loss: 0.0115 - val_accuracy: 0.9971\n",
      "Epoch 195/250\n",
      "88/88 - 30s - loss: 0.0030 - accuracy: 0.9996 - val_loss: 0.0080 - val_accuracy: 0.9986\n",
      "Epoch 196/250\n",
      "88/88 - 30s - loss: 0.0041 - accuracy: 0.9979 - val_loss: 0.1047 - val_accuracy: 0.9786\n",
      "Epoch 197/250\n",
      "88/88 - 30s - loss: 0.0667 - accuracy: 0.9729 - val_loss: 0.0249 - val_accuracy: 0.9900\n",
      "Epoch 198/250\n",
      "88/88 - 31s - loss: 0.0270 - accuracy: 0.9886 - val_loss: 0.0226 - val_accuracy: 0.9900\n",
      "Epoch 199/250\n",
      "88/88 - 31s - loss: 0.0233 - accuracy: 0.9900 - val_loss: 0.0081 - val_accuracy: 0.9986\n",
      "Epoch 200/250\n",
      "88/88 - 31s - loss: 0.0048 - accuracy: 0.9982 - val_loss: 0.0025 - val_accuracy: 0.9986\n",
      "Epoch 201/250\n",
      "88/88 - 31s - loss: 0.0086 - accuracy: 0.9975 - val_loss: 0.0464 - val_accuracy: 0.9814\n",
      "Epoch 202/250\n",
      "88/88 - 31s - loss: 0.0294 - accuracy: 0.9886 - val_loss: 0.0172 - val_accuracy: 0.9957\n",
      "Epoch 203/250\n",
      "88/88 - 31s - loss: 0.0082 - accuracy: 0.9989 - val_loss: 0.0037 - val_accuracy: 0.9986\n",
      "Epoch 204/250\n",
      "88/88 - 31s - loss: 0.0125 - accuracy: 0.9950 - val_loss: 0.0062 - val_accuracy: 0.9986\n",
      "Epoch 205/250\n",
      "88/88 - 31s - loss: 0.0305 - accuracy: 0.9918 - val_loss: 0.0053 - val_accuracy: 0.9986\n",
      "Epoch 206/250\n",
      "88/88 - 31s - loss: 0.0146 - accuracy: 0.9936 - val_loss: 0.0094 - val_accuracy: 0.9957\n",
      "Epoch 207/250\n",
      "88/88 - 30s - loss: 0.0042 - accuracy: 0.9996 - val_loss: 0.0019 - val_accuracy: 1.0000\n",
      "Epoch 208/250\n",
      "88/88 - 31s - loss: 0.0014 - accuracy: 1.0000 - val_loss: 0.0011 - val_accuracy: 1.0000\n",
      "Epoch 209/250\n",
      "88/88 - 31s - loss: 0.0045 - accuracy: 0.9989 - val_loss: 0.0010 - val_accuracy: 1.0000\n",
      "Epoch 210/250\n",
      "88/88 - 31s - loss: 0.0062 - accuracy: 0.9986 - val_loss: 9.1997e-04 - val_accuracy: 1.0000\n",
      "Epoch 211/250\n",
      "88/88 - 31s - loss: 6.3717e-04 - accuracy: 1.0000 - val_loss: 5.7811e-04 - val_accuracy: 1.0000\n",
      "Epoch 212/250\n",
      "88/88 - 32s - loss: 4.5111e-04 - accuracy: 1.0000 - val_loss: 4.2400e-04 - val_accuracy: 1.0000\n",
      "Epoch 213/250\n",
      "88/88 - 31s - loss: 6.9146e-04 - accuracy: 1.0000 - val_loss: 2.8412e-04 - val_accuracy: 1.0000\n",
      "Epoch 214/250\n",
      "88/88 - 31s - loss: 2.1318e-04 - accuracy: 1.0000 - val_loss: 2.4784e-04 - val_accuracy: 1.0000\n",
      "Epoch 215/250\n",
      "88/88 - 31s - loss: 1.7059e-04 - accuracy: 1.0000 - val_loss: 1.9623e-04 - val_accuracy: 1.0000\n",
      "Epoch 216/250\n",
      "88/88 - 30s - loss: 1.4126e-04 - accuracy: 1.0000 - val_loss: 1.7254e-04 - val_accuracy: 1.0000\n",
      "Epoch 217/250\n",
      "88/88 - 31s - loss: 1.2271e-04 - accuracy: 1.0000 - val_loss: 1.5232e-04 - val_accuracy: 1.0000\n",
      "Epoch 218/250\n",
      "88/88 - 31s - loss: 1.0982e-04 - accuracy: 1.0000 - val_loss: 1.5164e-04 - val_accuracy: 1.0000\n",
      "Epoch 219/250\n",
      "88/88 - 31s - loss: 9.5442e-05 - accuracy: 1.0000 - val_loss: 1.3124e-04 - val_accuracy: 1.0000\n",
      "Epoch 220/250\n",
      "88/88 - 31s - loss: 8.3109e-05 - accuracy: 1.0000 - val_loss: 1.0527e-04 - val_accuracy: 1.0000\n",
      "Epoch 221/250\n",
      "88/88 - 31s - loss: 7.3862e-05 - accuracy: 1.0000 - val_loss: 9.4708e-05 - val_accuracy: 1.0000\n",
      "Epoch 222/250\n",
      "88/88 - 33s - loss: 6.6422e-05 - accuracy: 1.0000 - val_loss: 8.8944e-05 - val_accuracy: 1.0000\n",
      "Epoch 223/250\n",
      "88/88 - 31s - loss: 5.9540e-05 - accuracy: 1.0000 - val_loss: 7.8605e-05 - val_accuracy: 1.0000\n",
      "Epoch 224/250\n",
      "88/88 - 32s - loss: 5.6523e-05 - accuracy: 1.0000 - val_loss: 8.1726e-05 - val_accuracy: 1.0000\n",
      "Epoch 225/250\n",
      "88/88 - 31s - loss: 4.9988e-05 - accuracy: 1.0000 - val_loss: 6.5630e-05 - val_accuracy: 1.0000\n",
      "Epoch 226/250\n",
      "88/88 - 31s - loss: 4.5805e-05 - accuracy: 1.0000 - val_loss: 6.0199e-05 - val_accuracy: 1.0000\n",
      "Epoch 227/250\n",
      "88/88 - 32s - loss: 4.2621e-05 - accuracy: 1.0000 - val_loss: 5.8493e-05 - val_accuracy: 1.0000\n",
      "Epoch 228/250\n",
      "88/88 - 33s - loss: 3.8847e-05 - accuracy: 1.0000 - val_loss: 5.1514e-05 - val_accuracy: 1.0000\n",
      "Epoch 229/250\n",
      "88/88 - 33s - loss: 3.5208e-05 - accuracy: 1.0000 - val_loss: 4.8362e-05 - val_accuracy: 1.0000\n",
      "Epoch 230/250\n",
      "88/88 - 33s - loss: 3.2787e-05 - accuracy: 1.0000 - val_loss: 4.3433e-05 - val_accuracy: 1.0000\n",
      "Epoch 231/250\n",
      "88/88 - 34s - loss: 3.0643e-05 - accuracy: 1.0000 - val_loss: 4.1398e-05 - val_accuracy: 1.0000\n",
      "Epoch 232/250\n",
      "88/88 - 37s - loss: 2.8031e-05 - accuracy: 1.0000 - val_loss: 3.6576e-05 - val_accuracy: 1.0000\n",
      "Epoch 233/250\n",
      "88/88 - 37s - loss: 2.5822e-05 - accuracy: 1.0000 - val_loss: 3.7223e-05 - val_accuracy: 1.0000\n",
      "Epoch 234/250\n",
      "88/88 - 35s - loss: 2.3822e-05 - accuracy: 1.0000 - val_loss: 3.1397e-05 - val_accuracy: 1.0000\n",
      "Epoch 235/250\n",
      "88/88 - 36s - loss: 2.2383e-05 - accuracy: 1.0000 - val_loss: 3.0157e-05 - val_accuracy: 1.0000\n",
      "Epoch 236/250\n",
      "88/88 - 34s - loss: 2.0504e-05 - accuracy: 1.0000 - val_loss: 2.7381e-05 - val_accuracy: 1.0000\n",
      "Epoch 237/250\n",
      "88/88 - 33s - loss: 1.9080e-05 - accuracy: 1.0000 - val_loss: 2.5341e-05 - val_accuracy: 1.0000\n",
      "Epoch 238/250\n",
      "88/88 - 32s - loss: 1.7804e-05 - accuracy: 1.0000 - val_loss: 2.3570e-05 - val_accuracy: 1.0000\n",
      "Epoch 239/250\n",
      "88/88 - 31s - loss: 1.6373e-05 - accuracy: 1.0000 - val_loss: 2.1827e-05 - val_accuracy: 1.0000\n",
      "Epoch 240/250\n",
      "88/88 - 31s - loss: 1.5386e-05 - accuracy: 1.0000 - val_loss: 2.2129e-05 - val_accuracy: 1.0000\n",
      "Epoch 241/250\n",
      "88/88 - 30s - loss: 1.4195e-05 - accuracy: 1.0000 - val_loss: 1.9092e-05 - val_accuracy: 1.0000\n"
     ]
    },
    {
     "name": "stdout",
     "output_type": "stream",
     "text": [
      "Epoch 242/250\n",
      "88/88 - 30s - loss: 1.3518e-05 - accuracy: 1.0000 - val_loss: 1.8311e-05 - val_accuracy: 1.0000\n",
      "Epoch 243/250\n",
      "88/88 - 31s - loss: 1.2771e-05 - accuracy: 1.0000 - val_loss: 1.7343e-05 - val_accuracy: 1.0000\n",
      "Epoch 244/250\n",
      "88/88 - 30s - loss: 1.1966e-05 - accuracy: 1.0000 - val_loss: 1.5877e-05 - val_accuracy: 1.0000\n",
      "Epoch 245/250\n",
      "88/88 - 30s - loss: 1.1252e-05 - accuracy: 1.0000 - val_loss: 1.4919e-05 - val_accuracy: 1.0000\n",
      "Epoch 246/250\n",
      "88/88 - 32s - loss: 1.0496e-05 - accuracy: 1.0000 - val_loss: 1.4706e-05 - val_accuracy: 1.0000\n",
      "Epoch 247/250\n",
      "88/88 - 31s - loss: 9.7792e-06 - accuracy: 1.0000 - val_loss: 1.3306e-05 - val_accuracy: 1.0000\n",
      "Epoch 248/250\n",
      "88/88 - 31s - loss: 9.3415e-06 - accuracy: 1.0000 - val_loss: 1.3014e-05 - val_accuracy: 1.0000\n",
      "Epoch 249/250\n",
      "88/88 - 32s - loss: 8.7276e-06 - accuracy: 1.0000 - val_loss: 1.1861e-05 - val_accuracy: 1.0000\n",
      "Epoch 250/250\n",
      "88/88 - 31s - loss: 8.3576e-06 - accuracy: 1.0000 - val_loss: 1.1403e-05 - val_accuracy: 1.0000\n"
     ]
    }
   ],
   "source": [
    "history_c_lstm = c_lstm.fit(X_train_reshaped, y_train, epochs=250, verbose=2, validation_split=0.2)"
   ]
  },
  {
   "cell_type": "code",
   "execution_count": 22,
   "metadata": {
    "id": "XfPNXGkGcHnN"
   },
   "outputs": [],
   "source": [
    " def get_report(model):\n",
    "    pred = model.predict(X_test_reshaped)\n",
    "    predictions = (pred > 0.5).astype(\"int32\")\n",
    "    print(classification_report(y_test, predictions, target_names=classes))\n",
    "    accuracy = accuracy_score(y_test, predictions)\n",
    "    precision = precision_score(y_test, predictions,  average='macro')\n",
    "    recall = recall_score(y_test, predictions, average='macro')\n",
    "    f1 = f1_score(y_test, predictions, average='macro')\n",
    "    \n",
    "    return accuracy, precision, recall, f1, predictions"
   ]
  },
  {
   "cell_type": "code",
   "execution_count": 23,
   "metadata": {
    "colab": {
     "base_uri": "https://localhost:8080/"
    },
    "executionInfo": {
     "elapsed": 4853,
     "status": "ok",
     "timestamp": 1649509466055,
     "user": {
      "displayName": "M A Al-Mamun",
      "userId": "03900571816985778333"
     },
     "user_tz": -120
    },
    "id": "bGcj39Ju9wE2",
    "outputId": "e7c9e6a1-cefe-44e4-870b-1c1096d9caf1"
   },
   "outputs": [
    {
     "name": "stdout",
     "output_type": "stream",
     "text": [
      "                 precision    recall  f1-score   support\n",
      "\n",
      "nc1_ncn5121_no4       1.00      1.00      1.00       150\n",
      "nc1_ncn5121_no5       1.00      1.00      1.00       150\n",
      " nc1_switch_sl2       1.00      1.00      1.00       150\n",
      " nc1_switch_dem       1.00      1.00      1.00       150\n",
      "   nc1_nodevice       1.00      1.00      1.00       150\n",
      "nc2_ncn5121_no4       1.00      1.00      1.00       150\n",
      "nc2_ncn5121_no5       1.00      1.00      1.00       150\n",
      " nc2_switch_sl2       1.00      1.00      1.00       150\n",
      " nc2_switch_dem       1.00      1.00      1.00       150\n",
      "   nc2_nodevice       1.00      1.00      1.00       150\n",
      "\n",
      "      micro avg       1.00      1.00      1.00      1500\n",
      "      macro avg       1.00      1.00      1.00      1500\n",
      "   weighted avg       1.00      1.00      1.00      1500\n",
      "    samples avg       1.00      1.00      1.00      1500\n",
      "\n",
      "Accuracy: 1.0\n",
      "Precision: 1.0\n",
      "Recall: 1.0\n",
      "F1-Score: 1.0\n"
     ]
    }
   ],
   "source": [
    "c_lstm_score = get_report(c_lstm)\n",
    "predictions = c_lstm_score[4]\n",
    "print(f'Accuracy: {c_lstm_score[0]}')\n",
    "print(f'Precision: {c_lstm_score[1]}')\n",
    "print(f'Recall: {c_lstm_score[2]}')\n",
    "print(f'F1-Score: {c_lstm_score[3]}')"
   ]
  },
  {
   "cell_type": "code",
   "execution_count": 24,
   "metadata": {
    "colab": {
     "base_uri": "https://localhost:8080/",
     "height": 1000
    },
    "executionInfo": {
     "elapsed": 1355,
     "status": "ok",
     "timestamp": 1649509608177,
     "user": {
      "displayName": "M A Al-Mamun",
      "userId": "03900571816985778333"
     },
     "user_tz": -120
    },
    "id": "hW1xmBby9-1o",
    "outputId": "0431b987-2d9c-454e-b929-f34877cd5aea"
   },
   "outputs": [
    {
     "data": {
      "image/png": "[encoded data removed]",
      "text/plain": [
       "<Figure size 864x864 with 2 Axes>"
      ]
     },
     "metadata": {
      "needs_background": "light"
     },
     "output_type": "display_data"
    }
   ],
   "source": [
    "plt.rcParams.update({'font.size': 16})\n",
    "\n",
    "fig = plt.figure(figsize=(12, 12))\n",
    "fig.tight_layout()\n",
    "ax = fig.add_subplot(111)\n",
    "plt.title('Confusion Matrix for C-LSTM', fontweight='bold')\n",
    "\n",
    "cm = confusion_matrix(np.argmax(y_test, axis=1), np.argmax(predictions, axis=1), labels=range(9))\n",
    "disp = ConfusionMatrixDisplay(confusion_matrix=cm, display_labels=classes)\n",
    "\n",
    "disp.plot(ax=ax, cmap='Blues', values_format='')\n",
    "plt.xticks(rotation=45, ha='right')\n",
    "\n",
    "plt.savefig(IMAGE_PATH + 'c_lstm_confusion_matrix.pdf', bbox_inches='tight')"
   ]
  },
  {
   "cell_type": "code",
   "execution_count": 25,
   "metadata": {
    "colab": {
     "base_uri": "https://localhost:8080/",
     "height": 889
    },
    "executionInfo": {
     "elapsed": 812,
     "status": "ok",
     "timestamp": 1649509621069,
     "user": {
      "displayName": "M A Al-Mamun",
      "userId": "03900571816985778333"
     },
     "user_tz": -120
    },
    "id": "WtowLtZR-GHt",
    "outputId": "b6d04eda-6eff-4ed5-ff7c-77a915914e61"
   },
   "outputs": [
    {
     "data": {
      "image/png": "[encoded data removed]",
      "text/plain": [
       "<Figure size 1000x1000 with 1 Axes>"
      ]
     },
     "metadata": {},
     "output_type": "display_data"
    }
   ],
   "source": [
    "plt.rcdefaults()\n",
    "fig = plt.figure(figsize=(10, 10))\n",
    "\n",
    "plt.plot(history_c_lstm.history['accuracy'])\n",
    "plt.plot(history_c_lstm.history['val_accuracy'])\n",
    "plt.title('C-LSTM accuracy')\n",
    "plt.ylabel('accuracy')\n",
    "plt.xlabel('epoch')\n",
    "plt.legend(['training', 'validation'], loc='lower right')\n",
    "\n",
    "plt.savefig(IMAGE_PATH + 'c_lstm_accuracy.pdf', bbox_inches='tight')"
   ]
  },
  {
   "cell_type": "code",
   "execution_count": 26,
   "metadata": {
    "colab": {
     "base_uri": "https://localhost:8080/",
     "height": 889
    },
    "executionInfo": {
     "elapsed": 918,
     "status": "ok",
     "timestamp": 1649509632391,
     "user": {
      "displayName": "M A Al-Mamun",
      "userId": "03900571816985778333"
     },
     "user_tz": -120
    },
    "id": "ZkN4bHP4bXv8",
    "outputId": "37fe83f5-63d9-4c37-d55c-8da13e6200a8"
   },
   "outputs": [
    {
     "data": {
      "image/png": "[encoded data removed]",
      "text/plain": [
       "<Figure size 1000x1000 with 1 Axes>"
      ]
     },
     "metadata": {},
     "output_type": "display_data"
    }
   ],
   "source": [
    "fig = plt.figure(figsize=(10, 10))\n",
    "\n",
    "plt.plot(history_c_lstm.history['loss'])\n",
    "plt.plot(history_c_lstm.history['val_loss'])\n",
    "plt.title('C-LSTM loss')\n",
    "plt.ylabel('loss')\n",
    "plt.xlabel('epoch')\n",
    "plt.legend(['training', 'validation'], loc='upper right')\n",
    "\n",
    "plt.savefig(IMAGE_PATH + 'c_lstm_loss.pdf', bbox_inches='tight')"
   ]
  },
  {
   "cell_type": "markdown",
   "metadata": {},
   "source": [
    "# Save TensorFlow Model"
   ]
  },
  {
   "cell_type": "code",
   "execution_count": 27,
   "metadata": {},
   "outputs": [
    {
     "name": "stdout",
     "output_type": "stream",
     "text": [
      "INFO:tensorflow:Assets written to: ./tensorflow_saved_models/c_lstm_saved_model\\assets\n"
     ]
    }
   ],
   "source": [
    "c_lstm.save(TENSORFLOW_SAVED_MODEL_PATH + 'c_lstm_saved_model')"
   ]
  },
  {
   "cell_type": "code",
   "execution_count": 28,
   "metadata": {},
   "outputs": [
    {
     "name": "stdout",
     "output_type": "stream",
     "text": [
      "[0.616428554058075, 0.8878571391105652, 0.9196428656578064, 0.9253571629524231, 0.941428542137146, 0.9424999952316284, 0.9453571438789368, 0.9560714364051819, 0.9546428322792053, 0.960357129573822, 0.9457142949104309, 0.9614285826683044, 0.9592857360839844, 0.960357129573822, 0.9657142758369446, 0.970714271068573, 0.9728571176528931, 0.9746428728103638, 0.9689285755157471, 0.966785728931427, 0.970714271068573, 0.9674999713897705, 0.9717857241630554, 0.9803571701049805, 0.9728571176528931, 0.9735714197158813, 0.9807142615318298, 0.977142870426178, 0.9800000190734863, 0.9800000190734863, 0.9817857146263123, 0.9807142615318298, 0.9817857146263123, 0.9757142663002014, 0.9775000214576721, 0.9785714149475098, 0.9821428656578064, 0.9735714197158813, 0.9803571701049805, 0.977142870426178, 0.9653571248054504, 0.9803571701049805, 0.9742857217788696, 0.9821428656578064, 0.9814285635948181, 0.9757142663002014, 0.9828571677207947, 0.9803571701049805, 0.9750000238418579, 0.9839285612106323, 0.9839285612106323, 0.9828571677207947, 0.9835714101791382, 0.9821428656578064, 0.9846428632736206, 0.9839285612106323, 0.9789285659790039, 0.981071412563324, 0.9835714101791382, 0.9850000143051147, 0.9835714101791382, 0.9867857098579407, 0.9853571653366089, 0.9817857146263123, 0.9846428632736206, 0.983214259147644, 0.9846428632736206, 0.9839285612106323, 0.9846428632736206, 0.9857142567634583, 0.9846428632736206, 0.9821428656578064, 0.9753571152687073, 0.9850000143051147, 0.9864285588264465, 0.9803571701049805, 0.987500011920929, 0.9825000166893005, 0.9860714077949524, 0.9857142567634583, 0.9825000166893005, 0.9892857074737549, 0.979285717010498, 0.9867857098579407, 0.9850000143051147, 0.9864285588264465, 0.9864285588264465, 0.9814285635948181, 0.9846428632736206, 0.9864285588264465, 0.9839285612106323, 0.9864285588264465, 0.9867857098579407, 0.9803571701049805, 0.9871428608894348, 0.9789285659790039, 0.9767857193946838, 0.9835714101791382, 0.9846428632736206, 0.9860714077949524, 0.9867857098579407, 0.9814285635948181, 0.9892857074737549, 0.9867857098579407, 0.9842857122421265, 0.9867857098579407, 0.9878571629524231, 0.9860714077949524, 0.989642858505249, 0.981071412563324, 0.9871428608894348, 0.9871428608894348, 0.9885714054107666, 0.9925000071525574, 0.9882143139839172, 0.9892857074737549, 0.9928571581840515, 0.9882143139839172, 0.9857142567634583, 0.9842857122421265, 0.989642858505249, 0.9842857122421265, 0.9700000286102295, 0.9889285564422607, 0.9871428608894348, 0.989642858505249, 0.9882143139839172, 0.9900000095367432, 0.9907143115997314, 0.9653571248054504, 0.9728571176528931, 0.9900000095367432, 0.9842857122421265, 0.9882143139839172, 0.9921428561210632, 0.9885714054107666, 0.9878571629524231, 0.9889285564422607, 0.9892857074737549, 0.9871428608894348, 0.9864285588264465, 0.9907143115997314, 0.987500011920929, 0.9703571200370789, 0.9903571605682373, 0.9892857074737549, 0.9907143115997314, 0.9900000095367432, 0.989642858505249, 0.9917857050895691, 0.9900000095367432, 0.9878571629524231, 0.9903571605682373, 0.9917857050895691, 0.9853571653366089, 0.9867857098579407, 0.991428554058075, 0.991428554058075, 0.991428554058075, 0.9800000190734863, 0.9900000095367432, 0.9850000143051147, 0.9857142567634583, 0.9846428632736206, 0.9882143139839172, 0.9878571629524231, 0.989642858505249, 0.991428554058075, 0.9939285516738892, 0.9953571557998657, 0.9892857074737549, 0.9978571534156799, 0.9932143092155457, 0.9921428561210632, 0.9964285492897034, 1.0, 0.991428554058075, 0.9878571629524231, 0.9964285492897034, 0.996071457862854, 0.9982143044471741, 0.9853571653366089, 0.9946428537368774, 0.9967857003211975, 0.9917857050895691, 0.9982143044471741, 0.9978571534156799, 0.9996428489685059, 0.9850000143051147, 0.9942857027053833, 0.9996428489685059, 1.0, 1.0, 0.9907143115997314, 0.9996428489685059, 0.9978571534156799, 0.9728571176528931, 0.9885714054107666, 0.9900000095367432, 0.9982143044471741, 0.9975000023841858, 0.9885714054107666, 0.9989285469055176, 0.9950000047683716, 0.9917857050895691, 0.993571400642395, 0.9996428489685059, 1.0, 0.9989285469055176, 0.9985714554786682, 1.0, 1.0, 1.0, 1.0, 1.0, 1.0, 1.0, 1.0, 1.0, 1.0, 1.0, 1.0, 1.0, 1.0, 1.0, 1.0, 1.0, 1.0, 1.0, 1.0, 1.0, 1.0, 1.0, 1.0, 1.0, 1.0, 1.0, 1.0, 1.0, 1.0, 1.0, 1.0, 1.0, 1.0, 1.0, 1.0, 1.0, 1.0, 1.0, 1.0]\n"
     ]
    }
   ],
   "source": [
    "print(history_c_lstm.history['accuracy'])"
   ]
  },
  {
   "cell_type": "code",
   "execution_count": 29,
   "metadata": {},
   "outputs": [
    {
     "name": "stdout",
     "output_type": "stream",
     "text": [
      "[0.8899999856948853, 0.9385714530944824, 0.904285728931427, 0.8999999761581421, 0.9357143044471741, 0.9557142853736877, 0.9571428298950195, 0.9399999976158142, 0.949999988079071, 0.9571428298950195, 0.9585714340209961, 0.9657142758369446, 0.9642857313156128, 0.9599999785423279, 0.9800000190734863, 0.9300000071525574, 0.9685714244842529, 0.9800000190734863, 0.9814285635948181, 0.9614285826683044, 0.9814285635948181, 0.9871428608894348, 0.9871428608894348, 0.977142870426178, 0.9871428608894348, 0.9800000190734863, 0.9842857122421265, 0.9671428799629211, 0.9800000190734863, 0.9871428608894348, 0.9857142567634583, 0.9785714149475098, 0.9814285635948181, 0.9814285635948181, 0.9785714149475098, 0.9800000190734863, 0.9757142663002014, 0.9828571677207947, 0.9800000190734863, 0.9399999976158142, 0.9857142567634583, 0.9800000190734863, 0.9800000190734863, 0.9828571677207947, 0.9842857122421265, 0.9871428608894348, 0.9814285635948181, 0.977142870426178, 0.9885714054107666, 0.9857142567634583, 0.9885714054107666, 0.9885714054107666, 0.9828571677207947, 0.977142870426178, 0.9842857122421265, 0.9885714054107666, 0.954285740852356, 0.9814285635948181, 0.9885714054107666, 0.9885714054107666, 0.9857142567634583, 0.9857142567634583, 0.9885714054107666, 0.9814285635948181, 0.9871428608894348, 0.977142870426178, 0.9885714054107666, 0.9885714054107666, 0.9814285635948181, 0.9900000095367432, 0.9885714054107666, 0.9800000190734863, 0.9857142567634583, 0.9814285635948181, 0.9885714054107666, 0.9900000095367432, 0.9885714054107666, 0.9814285635948181, 0.9857142567634583, 0.9900000095367432, 0.9885714054107666, 0.9885714054107666, 0.9871428608894348, 0.991428554058075, 0.9857142567634583, 0.9900000095367432, 0.9885714054107666, 0.9885714054107666, 0.9871428608894348, 0.9457142949104309, 0.9885714054107666, 0.9885714054107666, 0.9900000095367432, 0.9885714054107666, 0.9885714054107666, 0.9871428608894348, 0.9871428608894348, 0.9885714054107666, 0.9885714054107666, 0.9857142567634583, 0.9828571677207947, 0.9900000095367432, 0.991428554058075, 0.9885714054107666, 0.9885714054107666, 0.991428554058075, 0.9885714054107666, 0.9885714054107666, 0.9842857122421265, 0.9800000190734863, 0.9900000095367432, 0.991428554058075, 0.991428554058075, 0.9857142567634583, 0.9900000095367432, 0.991428554058075, 0.9971428513526917, 0.9857142567634583, 0.9857142567634583, 0.9900000095367432, 0.991428554058075, 0.9685714244842529, 0.9928571581840515, 0.9900000095367432, 0.9871428608894348, 0.9942857027053833, 0.9928571581840515, 0.9900000095367432, 0.9928571581840515, 0.9828571677207947, 0.9871428608894348, 0.991428554058075, 0.991428554058075, 0.9928571581840515, 0.9900000095367432, 0.9900000095367432, 0.9871428608894348, 0.9885714054107666, 0.991428554058075, 0.9957143068313599, 0.9957143068313599, 0.9885714054107666, 0.9785714149475098, 0.9885714054107666, 0.991428554058075, 0.9928571581840515, 0.9942857027053833, 0.9885714054107666, 0.9928571581840515, 0.9742857217788696, 0.9485714435577393, 0.9928571581840515, 0.9900000095367432, 0.9971428513526917, 0.977142870426178, 0.991428554058075, 0.9942857027053833, 0.9971428513526917, 0.9942857027053833, 0.9428571462631226, 0.9942857027053833, 0.9857142567634583, 0.9871428608894348, 0.9700000286102295, 0.9942857027053833, 0.9885714054107666, 0.9757142663002014, 0.991428554058075, 0.9928571581840515, 1.0, 0.9985714554786682, 0.9957143068313599, 0.9800000190734863, 0.9971428513526917, 0.9971428513526917, 0.9985714554786682, 0.991428554058075, 0.9971428513526917, 1.0, 1.0, 0.9985714554786682, 0.9942857027053833, 0.9985714554786682, 0.9971428513526917, 0.9985714554786682, 0.9971428513526917, 0.9971428513526917, 0.9971428513526917, 0.9885714054107666, 0.9985714554786682, 0.9985714554786682, 1.0, 0.9971428513526917, 0.9971428513526917, 0.9985714554786682, 0.9785714149475098, 0.9900000095367432, 0.9900000095367432, 0.9985714554786682, 0.9985714554786682, 0.9814285635948181, 0.9957143068313599, 0.9985714554786682, 0.9985714554786682, 0.9985714554786682, 0.9957143068313599, 1.0, 1.0, 1.0, 1.0, 1.0, 1.0, 1.0, 1.0, 1.0, 1.0, 1.0, 1.0, 1.0, 1.0, 1.0, 1.0, 1.0, 1.0, 1.0, 1.0, 1.0, 1.0, 1.0, 1.0, 1.0, 1.0, 1.0, 1.0, 1.0, 1.0, 1.0, 1.0, 1.0, 1.0, 1.0, 1.0, 1.0, 1.0, 1.0, 1.0, 1.0, 1.0, 1.0, 1.0]\n"
     ]
    }
   ],
   "source": [
    "print(history_c_lstm.history['val_accuracy'])"
   ]
  },
  {
   "cell_type": "code",
   "execution_count": 30,
   "metadata": {},
   "outputs": [
    {
     "name": "stdout",
     "output_type": "stream",
     "text": [
      "[1.155606746673584, 0.28153273463249207, 0.20874175429344177, 0.1916336864233017, 0.1539660394191742, 0.14369529485702515, 0.13095341622829437, 0.11361423134803772, 0.11637471616268158, 0.0971791073679924, 0.12857621908187866, 0.09467638283967972, 0.09812936931848526, 0.0971599668264389, 0.0835193544626236, 0.06992576271295547, 0.07492280006408691, 0.0635889396071434, 0.07694140076637268, 0.08307605981826782, 0.07082314789295197, 0.0819699838757515, 0.06599362194538116, 0.052885960787534714, 0.06160230189561844, 0.06799238175153732, 0.048622533679008484, 0.05515149235725403, 0.04964442178606987, 0.05148374289274216, 0.04524251073598862, 0.04321340471506119, 0.05136809125542641, 0.06500671058893204, 0.06746822595596313, 0.0551094152033329, 0.04706074297428131, 0.06732591241598129, 0.05935446172952652, 0.06567874550819397, 0.09152447432279587, 0.04986158013343811, 0.05555525794625282, 0.045001596212387085, 0.0493466779589653, 0.0641508623957634, 0.0408705398440361, 0.04686528444290161, 0.0691947266459465, 0.038307834416627884, 0.03763753920793533, 0.03991976007819176, 0.04089885205030441, 0.04074358567595482, 0.039825890213251114, 0.04198630899190903, 0.052591945976018906, 0.04522329941391945, 0.04469195008277893, 0.03761211782693863, 0.03376906365156174, 0.032699599862098694, 0.0360310897231102, 0.04267772287130356, 0.03736468032002449, 0.04113612696528435, 0.03748210147023201, 0.04147731885313988, 0.03692168742418289, 0.03838333860039711, 0.035518206655979156, 0.04814896360039711, 0.05939493328332901, 0.03542972356081009, 0.0325516015291214, 0.0478886254131794, 0.0294551569968462, 0.03917623311281204, 0.033911120146512985, 0.03204713389277458, 0.04384236037731171, 0.030063623562455177, 0.047355394810438156, 0.03202471509575844, 0.037013571709394455, 0.0322306863963604, 0.030743708834052086, 0.03830186277627945, 0.032084640115499496, 0.03573838248848915, 0.03627344220876694, 0.030908579006791115, 0.029574213549494743, 0.047126948833465576, 0.029286127537488937, 0.04694685339927673, 0.06958173960447311, 0.04857901856303215, 0.03788033500313759, 0.03475691005587578, 0.034516897052526474, 0.04818754643201828, 0.027915088459849358, 0.02924068458378315, 0.04138292744755745, 0.029334791004657745, 0.03239164128899574, 0.031816598027944565, 0.027584753930568695, 0.051454875618219376, 0.03236477077007294, 0.03314046561717987, 0.024504059925675392, 0.020178204402327538, 0.029224984347820282, 0.025745920836925507, 0.01928659901022911, 0.032400913536548615, 0.03345068544149399, 0.034603942185640335, 0.027342695742845535, 0.03951895982027054, 0.09802336245775223, 0.030652793124318123, 0.04022413492202759, 0.031133994460105896, 0.030389266088604927, 0.025679077953100204, 0.02531212940812111, 0.08073150366544724, 0.082715705037117, 0.025989186018705368, 0.03492791950702667, 0.027318518608808517, 0.02359911985695362, 0.028341958299279213, 0.030875276774168015, 0.027251962572336197, 0.025277890264987946, 0.030487706884741783, 0.02818114683032036, 0.025028515607118607, 0.03442540392279625, 0.08268572390079498, 0.026367587968707085, 0.024961847811937332, 0.023063495755195618, 0.024304458871483803, 0.02307797782123089, 0.022412898018956184, 0.026669327169656754, 0.02959608845412731, 0.022631822153925896, 0.018722359091043472, 0.036094892770051956, 0.030904794111847878, 0.0232960544526577, 0.020737826824188232, 0.02152334339916706, 0.05448727309703827, 0.024901920929551125, 0.043253280222415924, 0.03592037782073021, 0.037131067365407944, 0.028800951316952705, 0.024113766849040985, 0.02516867034137249, 0.022253744304180145, 0.014977413229644299, 0.012925390154123306, 0.02714754454791546, 0.008771585300564766, 0.016585975885391235, 0.019691871479153633, 0.011168302036821842, 0.0030463258735835552, 0.029050543904304504, 0.03238308057188988, 0.009566153399646282, 0.010987240821123123, 0.003882630495354533, 0.043712813407182693, 0.011680984869599342, 0.008876834996044636, 0.028462570160627365, 0.006648412439972162, 0.006204182747751474, 0.0018683559028431773, 0.04213223233819008, 0.014737047255039215, 0.0027489741332829, 0.000899319420568645, 0.0007391823455691338, 0.023278219625353813, 0.0029817086178809404, 0.00407229270786047, 0.06672324240207672, 0.02702428586781025, 0.02334551326930523, 0.004843571223318577, 0.008605374954640865, 0.029352528974413872, 0.008198795840144157, 0.012462333776056767, 0.03051880933344364, 0.014597440138459206, 0.004158723168075085, 0.0014386253897100687, 0.0044744014739990234, 0.006157875061035156, 0.0006371678318828344, 0.00045111493091098964, 0.0006914606201462448, 0.0002131812070729211, 0.00017058652883861214, 0.000141263022669591, 0.00012271445302758366, 0.00010982055391650647, 9.544190834276378e-05, 8.310944394906983e-05, 7.386226207017899e-05, 6.642205698881298e-05, 5.954033986199647e-05, 5.652330946759321e-05, 4.9988419050350785e-05, 4.5805307308910415e-05, 4.262074799044058e-05, 3.8847196265123785e-05, 3.520764585118741e-05, 3.278742588008754e-05, 3.0642699130112305e-05, 2.8031261535943486e-05, 2.5821900635492057e-05, 2.382164529990405e-05, 2.2383199393516406e-05, 2.0503981431829743e-05, 1.9080260244663805e-05, 1.780444654286839e-05, 1.637264904275071e-05, 1.538569813419599e-05, 1.4194638424669392e-05, 1.3517793377104681e-05, 1.2771404726663604e-05, 1.1966400052187964e-05, 1.1252102012804244e-05, 1.0495529750187416e-05, 9.779196261661127e-06, 9.341494660475291e-06, 8.727558451937512e-06, 8.357570550288074e-06]\n"
     ]
    }
   ],
   "source": [
    "print(history_c_lstm.history['loss'])"
   ]
  },
  {
   "cell_type": "code",
   "execution_count": 31,
   "metadata": {},
   "outputs": [
    {
     "name": "stdout",
     "output_type": "stream",
     "text": [
      "[0.4090518057346344, 0.2151632308959961, 0.21119266748428345, 0.19683323800563812, 0.1643258035182953, 0.13151226937770844, 0.12748543918132782, 0.13520754873752594, 0.11961473524570465, 0.09287197887897491, 0.10491856932640076, 0.08372705429792404, 0.0879034474492073, 0.09560657292604446, 0.0775035172700882, 0.12015418708324432, 0.08792640268802643, 0.05422592535614967, 0.07577133923768997, 0.08647356182336807, 0.04518665745854378, 0.04707974195480347, 0.04588969796895981, 0.05785146355628967, 0.03947693854570389, 0.05358820781111717, 0.039486899971961975, 0.06931234896183014, 0.04926375299692154, 0.03336542844772339, 0.04158015921711922, 0.05730639398097992, 0.046663980931043625, 0.06994213163852692, 0.052816297858953476, 0.06160854175686836, 0.06651563942432404, 0.05088150128722191, 0.04925530031323433, 0.16664621233940125, 0.04420921951532364, 0.05045352503657341, 0.04326166585087776, 0.043741386383771896, 0.05154610052704811, 0.03170771896839142, 0.047754935920238495, 0.049679096788167953, 0.02914629504084587, 0.029004354029893875, 0.028092971071600914, 0.03372330963611603, 0.04401317238807678, 0.05789154767990112, 0.035577137023210526, 0.030034523457288742, 0.12387906759977341, 0.04673862084746361, 0.03387247025966644, 0.027143241837620735, 0.03271344304084778, 0.03220377489924431, 0.028160367161035538, 0.04176351800560951, 0.03344086557626724, 0.07197560369968414, 0.039074987173080444, 0.027432529255747795, 0.040655869990587234, 0.02439868077635765, 0.025999823585152626, 0.0793624296784401, 0.03267873451113701, 0.04830338433384895, 0.02413475513458252, 0.025678645819425583, 0.026304351165890694, 0.05068754032254219, 0.02708388678729534, 0.03239759802818298, 0.026078414171934128, 0.028616569936275482, 0.028780125081539154, 0.02241414412856102, 0.029017064720392227, 0.024450724944472313, 0.02921310067176819, 0.02506393752992153, 0.028772329911589622, 0.15434522926807404, 0.024579843506217003, 0.030548442155122757, 0.021103663370013237, 0.032446663826704025, 0.026714008301496506, 0.02956073172390461, 0.0332527793943882, 0.027590740472078323, 0.025569332763552666, 0.031808510422706604, 0.04167132079601288, 0.026541199535131454, 0.022316910326480865, 0.024392209947109222, 0.025337884202599525, 0.02050173655152321, 0.02212303876876831, 0.026191825047135353, 0.04188816249370575, 0.05737964063882828, 0.02293090894818306, 0.02362903580069542, 0.018479622900485992, 0.025787541642785072, 0.02515546604990959, 0.023274825885891914, 0.014819413423538208, 0.029531091451644897, 0.03724701330065727, 0.019842596724629402, 0.03182891756296158, 0.08255897462368011, 0.04122069105505943, 0.022052960470318794, 0.04574716463685036, 0.030266625806689262, 0.02256152592599392, 0.02025729790329933, 0.015912799164652824, 0.0473867803812027, 0.03385385125875473, 0.021645676344633102, 0.02827581949532032, 0.022150900214910507, 0.025387506932020187, 0.028138315305113792, 0.025104045867919922, 0.02697899378836155, 0.018986839801073074, 0.018445905297994614, 0.018301256000995636, 0.02268703654408455, 0.06766332685947418, 0.023997481912374496, 0.019619442522525787, 0.023473447188735008, 0.021112138405442238, 0.028079217299818993, 0.021756211295723915, 0.05065355449914932, 0.10836037993431091, 0.01811082474887371, 0.023129809647798538, 0.017499368637800217, 0.04293229803442955, 0.020462578162550926, 0.021182479336857796, 0.010395548306405544, 0.0122531084343791, 0.11494478583335876, 0.01781277544796467, 0.04078907147049904, 0.044111937284469604, 0.05728542432188988, 0.01726115681231022, 0.03255506604909897, 0.06807605922222137, 0.021225083619356155, 0.016716590151190758, 0.00611672829836607, 0.007220593746751547, 0.018403859809041023, 0.08093802630901337, 0.006117590703070164, 0.005022915545850992, 0.0033092056401073933, 0.020627738907933235, 0.027618572115898132, 0.0057458169758319855, 0.003042044350877404, 0.0031861532479524612, 0.019525358453392982, 0.008525785058736801, 0.009289486333727837, 0.005190565250813961, 0.011989529244601727, 0.013103189878165722, 0.007294899318367243, 0.029172997921705246, 0.0035955265630036592, 0.0031101731583476067, 0.0009482798632234335, 0.007450133562088013, 0.011467065662145615, 0.007951963692903519, 0.10470479726791382, 0.024916695430874825, 0.02257738634943962, 0.008110054768621922, 0.0025228001177310944, 0.04643962159752846, 0.017233457416296005, 0.0037258437369018793, 0.006200066767632961, 0.005296879913657904, 0.009385100565850735, 0.0019401728641241789, 0.0010517819318920374, 0.0010342258028686047, 0.0009199688211083412, 0.0005781088839285076, 0.00042399929952807724, 0.0002841222158167511, 0.0002478441165294498, 0.00019622566469479352, 0.00017254200065508485, 0.00015231860743369907, 0.00015163801435846835, 0.00013124158431310207, 0.00010526950791245326, 9.470846998738125e-05, 8.894383063307032e-05, 7.860531331971288e-05, 8.172627713065594e-05, 6.563010538229719e-05, 6.0198610299266875e-05, 5.8493482356425375e-05, 5.151363438926637e-05, 4.836186781176366e-05, 4.34330795542337e-05, 4.139771044719964e-05, 3.6576020647771657e-05, 3.722258043126203e-05, 3.139688851661049e-05, 3.0157292712829076e-05, 2.738123839662876e-05, 2.53411490120925e-05, 2.356985532969702e-05, 2.1826572265126742e-05, 2.2129248463897966e-05, 1.909176353365183e-05, 1.831071676861029e-05, 1.7343061699648388e-05, 1.5877334590186365e-05, 1.4918758097337559e-05, 1.4706022739119362e-05, 1.3305559150467161e-05, 1.3014355317864101e-05, 1.186112694995245e-05, 1.1403109965613112e-05]\n"
     ]
    }
   ],
   "source": [
    "print(history_c_lstm.history['val_loss'])"
   ]
  },
  {
   "cell_type": "code",
   "execution_count": 32,
   "metadata": {},
   "outputs": [
    {
     "name": "stdout",
     "output_type": "stream",
     "text": [
      "Execution time: 7737.777821063995 s\n"
     ]
    }
   ],
   "source": [
    "print(f'Execution time: {time.time() - start_time} s')"
   ]
  },
  {
   "cell_type": "code",
   "execution_count": null,
   "metadata": {},
   "outputs": [],
   "source": []
  }
 ],
 "metadata": {
  "colab": {
   "authorship_tag": "ABX9TyNpC9c9MloZOoyYah10SyiT",
   "name": "tf_c_lstm_classification.ipynb",
   "provenance": []
  },
  "kernelspec": {
   "display_name": "Python 3",
   "language": "python",
   "name": "python3"
  },
  "language_info": {
   "codemirror_mode": {
    "name": "ipython",
    "version": 3
   },
   "file_extension": ".py",
   "mimetype": "text/x-python",
   "name": "python",
   "nbconvert_exporter": "python",
   "pygments_lexer": "ipython3",
   "version": "3.8.3"
  }
 },
 "nbformat": 4,
 "nbformat_minor": 1
}
